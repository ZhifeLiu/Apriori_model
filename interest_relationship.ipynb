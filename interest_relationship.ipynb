{
 "cells": [
  {
   "cell_type": "code",
   "execution_count": 2,
   "metadata": {},
   "outputs": [],
   "source": [
    "import pandas as pd\n",
    "import numpy as np\n",
    "from pyhive import hive"
   ]
  },
  {
   "cell_type": "code",
   "execution_count": 3,
   "metadata": {},
   "outputs": [],
   "source": [
    "sql='''\n",
    "    select user_id, interest\n",
    "    from ks_strategy_dev.user_leaf_class_interest_set_0806_sample2\n",
    "    lateral view explode(interest_set) a as interest\n",
    "    '''"
   ]
  },
  {
   "cell_type": "code",
   "execution_count": 4,
   "metadata": {},
   "outputs": [],
   "source": [
    "cursor = hive.connect().cursor()\n",
    "cursor.execute(\"set beacon.conf.var.reset.enable=true\")\n",
    "cursor.execute(\"set beacon.semantic.analyzer.limitsuffix.number=300000000\")\n",
    "cursor.execute(\"set hive.smart.router.enable=false\")\n",
    "cursor.execute(sql)\n",
    "results = cursor.fetchall()\n",
    "cursor.close()"
   ]
  },
  {
   "cell_type": "code",
   "execution_count": 5,
   "metadata": {},
   "outputs": [],
   "source": [
    "data = pd.DataFrame(results)\n",
    "interest_list = data.groupby([0])[1].apply(list)"
   ]
  },
  {
   "cell_type": "code",
   "execution_count": 6,
   "metadata": {},
   "outputs": [
    {
     "data": {
      "text/html": [
       "<div>\n",
       "<style scoped>\n",
       "    .dataframe tbody tr th:only-of-type {\n",
       "        vertical-align: middle;\n",
       "    }\n",
       "\n",
       "    .dataframe tbody tr th {\n",
       "        vertical-align: top;\n",
       "    }\n",
       "\n",
       "    .dataframe thead th {\n",
       "        text-align: right;\n",
       "    }\n",
       "</style>\n",
       "<table border=\"1\" class=\"dataframe\">\n",
       "  <thead>\n",
       "    <tr style=\"text-align: right;\">\n",
       "      <th></th>\n",
       "      <th>1</th>\n",
       "    </tr>\n",
       "    <tr>\n",
       "      <th>0</th>\n",
       "      <th></th>\n",
       "    </tr>\n",
       "  </thead>\n",
       "  <tbody>\n",
       "    <tr>\n",
       "      <th>1000013878</th>\n",
       "      <td>[186, 22, 244, 26, 267, 271, 275, 277, 283, 28...</td>\n",
       "    </tr>\n",
       "    <tr>\n",
       "      <th>1000014335</th>\n",
       "      <td>[243, 267, 285]</td>\n",
       "    </tr>\n",
       "    <tr>\n",
       "      <th>1000027736</th>\n",
       "      <td>[105, 114, 186, 188, 20, 22, 26, 37, 40, 499, ...</td>\n",
       "    </tr>\n",
       "    <tr>\n",
       "      <th>1000041831</th>\n",
       "      <td>[244, 267, 271, 310, 320, 321, 338, 508, 530, ...</td>\n",
       "    </tr>\n",
       "    <tr>\n",
       "      <th>1000049488</th>\n",
       "      <td>[300, 303, 40]</td>\n",
       "    </tr>\n",
       "  </tbody>\n",
       "</table>\n",
       "</div>"
      ],
      "text/plain": [
       "                                                            1\n",
       "0                                                            \n",
       "1000013878  [186, 22, 244, 26, 267, 271, 275, 277, 283, 28...\n",
       "1000014335                                    [243, 267, 285]\n",
       "1000027736  [105, 114, 186, 188, 20, 22, 26, 37, 40, 499, ...\n",
       "1000041831  [244, 267, 271, 310, 320, 321, 338, 508, 530, ...\n",
       "1000049488                                     [300, 303, 40]"
      ]
     },
     "execution_count": 6,
     "metadata": {},
     "output_type": "execute_result"
    }
   ],
   "source": [
    "inte_list = pd.DataFrame(interest_list)\n",
    "inte_list.head()"
   ]
  },
  {
   "cell_type": "code",
   "execution_count": 7,
   "metadata": {},
   "outputs": [
    {
     "name": "stdout",
     "output_type": "stream",
     "text": [
      "253145\n"
     ]
    }
   ],
   "source": [
    "inte_list = inte_list[1].tolist()\n",
    "print(len(inte_list))"
   ]
  },
  {
   "cell_type": "code",
   "execution_count": 8,
   "metadata": {},
   "outputs": [
    {
     "name": "stdout",
     "output_type": "stream",
     "text": [
      "87\n"
     ]
    }
   ],
   "source": [
    "def max_length(l):\n",
    "    max_int = 0\n",
    "    for each in l:\n",
    "        a = len(each)\n",
    "        if a > max_int:\n",
    "            max_int = a\n",
    "    return max_int\n",
    "max_int = max_length(inte_list)\n",
    "print(max_int)"
   ]
  },
  {
   "cell_type": "code",
   "execution_count": 9,
   "metadata": {},
   "outputs": [],
   "source": [
    "def create_C1(data_set):\n",
    "    C1 = set()\n",
    "    for t in data_set:\n",
    "        for item in t:\n",
    "            item_set = frozenset([item])\n",
    "            C1.add(item_set)\n",
    "    return C1"
   ]
  },
  {
   "cell_type": "code",
   "execution_count": 10,
   "metadata": {},
   "outputs": [
    {
     "name": "stdout",
     "output_type": "stream",
     "text": [
      "{frozenset({'443'}), frozenset({'275'}), frozenset({'365'}), frozenset({'476'}), frozenset({'669'}), frozenset({'350'}), frozenset({'156'}), frozenset({'604'}), frozenset({'90'}), frozenset({'542'}), frozenset({'572'}), frozenset({'298'}), frozenset({'716'}), frozenset({'701'}), frozenset({'82'}), frozenset({'707'}), frozenset({'77'}), frozenset({'170'}), frozenset({'432'}), frozenset({'679'}), frozenset({'457'}), frozenset({'615'}), frozenset({'42'}), frozenset({'472'}), frozenset({'32'}), frozenset({'179'}), frozenset({'528'}), frozenset({'493'}), frozenset({'209'}), frozenset({'554'}), frozenset({'69'}), frozenset({'8'}), frozenset({'689'}), frozenset({'721'}), frozenset({'140'}), frozenset({'224'}), frozenset({'447'}), frozenset({'107'}), frozenset({'460'}), frozenset({'48'}), frozenset({'690'}), frozenset({'322'}), frozenset({'137'}), frozenset({'698'}), frozenset({'637'}), frozenset({'491'}), frozenset({'51'}), frozenset({'557'}), frozenset({'712'}), frozenset({'89'}), frozenset({'83'}), frozenset({'440'}), frozenset({'6'}), frozenset({'430'}), frozenset({'18'}), frozenset({'278'}), frozenset({'303'}), frozenset({'250'}), frozenset({'624'}), frozenset({'535'}), frozenset({'391'}), frozenset({'181'}), frozenset({'260'}), frozenset({'208'}), frozenset({'543'}), frozenset({'231'}), frozenset({'458'}), frozenset({'722'}), frozenset({'737'}), frozenset({'616'}), frozenset({'238'}), frozenset({'579'}), frozenset({'586'}), frozenset({'524'}), frozenset({'198'}), frozenset({'284'}), frozenset({'683'}), frozenset({'703'}), frozenset({'45'}), frozenset({'674'}), frozenset({'230'}), frozenset({'349'}), frozenset({'541'}), frozenset({'681'}), frozenset({'339'}), frozenset({'237'}), frozenset({'254'}), frozenset({'10'}), frozenset({'549'}), frozenset({'185'}), frozenset({'342'}), frozenset({'507'}), frozenset({'5'}), frozenset({'114'}), frozenset({'351'}), frozenset({'348'}), frozenset({'277'}), frozenset({'611'}), frozenset({'424'}), frozenset({'247'}), frozenset({'85'}), frozenset({'49'}), frozenset({'431'}), frozenset({'694'}), frozenset({'54'}), frozenset({'310'}), frozenset({'152'}), frozenset({'369'}), frozenset({'494'}), frozenset({'466'}), frozenset({'553'}), frozenset({'248'}), frozenset({'146'}), frozenset({'177'}), frozenset({'678'}), frozenset({'731'}), frozenset({'119'}), frozenset({'512'}), frozenset({'246'}), frozenset({'581'}), frozenset({'361'}), frozenset({'668'}), frozenset({'602'}), frozenset({'404'}), frozenset({'580'}), frozenset({'110'}), frozenset({'358'}), frozenset({'612'}), frozenset({'601'}), frozenset({'302'}), frozenset({'324'}), frozenset({'631'}), frozenset({'574'}), frozenset({'566'}), frozenset({'380'}), frozenset({'697'}), frozenset({'641'}), frozenset({'499'}), frozenset({'548'}), frozenset({'311'}), frozenset({'172'}), frozenset({'448'}), frozenset({'211'}), frozenset({'663'}), frozenset({'388'}), frozenset({'222'}), frozenset({'372'}), frozenset({'354'}), frozenset({'316'}), frozenset({'630'}), frozenset({'31'}), frozenset({'559'}), frozenset({'603'}), frozenset({'80'}), frozenset({'24'}), frozenset({'518'}), frozenset({'455'}), frozenset({'597'}), frozenset({'414'}), frozenset({'456'}), frozenset({'111'}), frozenset({'149'}), frozenset({'702'}), frozenset({'625'}), frozenset({'141'}), frozenset({'378'}), frozenset({'44'}), frozenset({'216'}), frozenset({'508'}), frozenset({'15'}), frozenset({'39'}), frozenset({'444'}), frozenset({'17'}), frozenset({'200'}), frozenset({'203'}), frozenset({'66'}), frozenset({'626'}), frozenset({'262'}), frozenset({'446'}), frozenset({'189'}), frozenset({'122'}), frozenset({'22'}), frozenset({'157'}), frozenset({'207'}), frozenset({'515'}), frozenset({'338'}), frozenset({'12'}), frozenset({'610'}), frozenset({'232'}), frozenset({'27'}), frozenset({'482'}), frozenset({'464'}), frozenset({'505'}), frozenset({'176'}), frozenset({'387'}), frozenset({'392'}), frozenset({'539'}), frozenset({'285'}), frozenset({'337'}), frozenset({'623'}), frozenset({'267'}), frozenset({'558'}), frozenset({'47'}), frozenset({'705'}), frozenset({'264'}), frozenset({'516'}), frozenset({'495'}), frozenset({'347'}), frozenset({'536'}), frozenset({'271'}), frozenset({'390'}), frozenset({'480'}), frozenset({'151'}), frozenset({'428'}), frozenset({'171'}), frozenset({'194'}), frozenset({'661'}), frozenset({'121'}), frozenset({'713'}), frozenset({'704'}), frozenset({'139'}), frozenset({'138'}), frozenset({'199'}), frozenset({'575'}), frozenset({'108'}), frozenset({'329'}), frozenset({'531'}), frozenset({'672'}), frozenset({'407'}), frozenset({'504'}), frozenset({'234'}), frozenset({'583'}), frozenset({'173'}), frozenset({'366'}), frozenset({'534'}), frozenset({'706'}), frozenset({'717'}), frozenset({'628'}), frozenset({'40'}), frozenset({'317'}), frozenset({'410'}), frozenset({'423'}), frozenset({'532'}), frozenset({'11'}), frozenset({'180'}), frozenset({'106'}), frozenset({'153'}), frozenset({'599'}), frozenset({'622'}), frozenset({'166'}), frozenset({'470'}), frozenset({'355'}), frozenset({'159'}), frozenset({'281'}), frozenset({'425'}), frozenset({'38'}), frozenset({'567'}), frozenset({'511'}), frozenset({'738'}), frozenset({'253'}), frozenset({'469'}), frozenset({'576'}), frozenset({'662'}), frozenset({'75'}), frozenset({'7'}), frozenset({'433'}), frozenset({'595'}), frozenset({'68'}), frozenset({'666'}), frozenset({'509'}), frozenset({'394'}), frozenset({'682'}), frozenset({'715'}), frozenset({'513'}), frozenset({'605'}), frozenset({'400'}), frozenset({'124'}), frozenset({'735'}), frozenset({'710'}), frozenset({'343'}), frozenset({'193'}), frozenset({'53'}), frozenset({'175'}), frozenset({'670'}), frozenset({'57'}), frozenset({'201'}), frozenset({'714'}), frozenset({'135'}), frozenset({'187'}), frozenset({'416'}), frozenset({'331'}), frozenset({'427'}), frozenset({'381'}), frozenset({'397'}), frozenset({'58'}), frozenset({'497'}), frozenset({'52'}), frozenset({'526'}), frozenset({'719'}), frozenset({'154'}), frozenset({'213'}), frozenset({'272'}), frozenset({'280'}), frozenset({'629'}), frozenset({'364'}), frozenset({'530'}), frozenset({'330'}), frozenset({'128'}), frozenset({'613'}), frozenset({'115'}), frozenset({'711'}), frozenset({'598'}), frozenset({'84'}), frozenset({'438'}), frozenset({'688'}), frozenset({'26'}), frozenset({'304'}), frozenset({'461'}), frozenset({'413'}), frozenset({'529'}), frozenset({'434'}), frozenset({'547'}), frozenset({'241'}), frozenset({'481'}), frozenset({'680'}), frozenset({'73'}), frozenset({'43'}), frozenset({'78'}), frozenset({'695'}), frozenset({'552'}), frozenset({'696'}), frozenset({'573'}), frozenset({'383'}), frozenset({'693'}), frozenset({'319'}), frozenset({'217'}), frozenset({'609'}), frozenset({'729'}), frozenset({'341'}), frozenset({'377'}), frozenset({'4'}), frozenset({'409'}), frozenset({'646'}), frozenset({'367'}), frozenset({'321'}), frozenset({'13'}), frozenset({'147'}), frozenset({'183'}), frozenset({'684'}), frozenset({'327'}), frozenset({'323'}), frozenset({'158'}), frozenset({'465'}), frozenset({'503'}), frozenset({'496'}), frozenset({'16'}), frozenset({'142'}), frozenset({'479'}), frozenset({'261'}), frozenset({'197'}), frozenset({'192'}), frozenset({'228'}), frozenset({'374'}), frozenset({'396'}), frozenset({'540'}), frozenset({'353'}), frozenset({'550'}), frozenset({'520'}), frozenset({'368'}), frozenset({'723'}), frozenset({'411'}), frozenset({'563'}), frozenset({'648'}), frozenset({'665'}), frozenset({'293'}), frozenset({'498'}), frozenset({'664'}), frozenset({'478'}), frozenset({'506'}), frozenset({'215'}), frozenset({'442'}), frozenset({'244'}), frozenset({'459'}), frozenset({'212'}), frozenset({'291'}), frozenset({'346'}), frozenset({'405'}), frozenset({'129'}), frozenset({'252'}), frozenset({'318'}), frozenset({'286'}), frozenset({'587'}), frozenset({'519'}), frozenset({'184'}), frozenset({'445'}), frozenset({'501'}), frozenset({'720'}), frozenset({'484'}), frozenset({'33'}), frozenset({'477'}), frozenset({'379'}), frozenset({'98'}), frozenset({'441'}), frozenset({'399'}), frozenset({'709'}), frozenset({'439'}), frozenset({'565'}), frozenset({'584'}), frozenset({'352'}), frozenset({'308'}), frozenset({'692'}), frozenset({'485'}), frozenset({'412'}), frozenset({'617'}), frozenset({'160'}), frozenset({'360'}), frozenset({'677'}), frozenset({'708'}), frozenset({'188'}), frozenset({'227'}), frozenset({'724'}), frozenset({'186'}), frozenset({'64'}), frozenset({'120'}), frozenset({'686'}), frozenset({'306'}), frozenset({'426'}), frozenset({'408'}), frozenset({'265'}), frozenset({'20'}), frozenset({'463'}), frozenset({'309'}), frozenset({'299'}), frozenset({'659'}), frozenset({'289'}), frozenset({'600'}), frozenset({'30'}), frozenset({'415'}), frozenset({'131'}), frozenset({'436'}), frozenset({'473'}), frozenset({'525'}), frozenset({'492'}), frozenset({'273'}), frozenset({'86'}), frozenset({'37'}), frozenset({'590'}), frozenset({'161'}), frozenset({'545'}), frozenset({'606'}), frozenset({'401'}), frozenset({'340'}), frozenset({'527'}), frozenset({'685'}), frozenset({'283'}), frozenset({'148'}), frozenset({'79'}), frozenset({'223'}), frozenset({'225'}), frozenset({'649'}), frozenset({'74'}), frozenset({'385'}), frozenset({'23'}), frozenset({'429'}), frozenset({'174'}), frozenset({'300'}), frozenset({'533'}), frozenset({'736'}), frozenset({'112'}), frozenset({'195'}), frozenset({'406'}), frozenset({'653'}), frozenset({'452'}), frozenset({'229'}), frozenset({'521'}), frozenset({'451'}), frozenset({'647'}), frozenset({'113'}), frozenset({'671'}), frozenset({'585'}), frozenset({'134'}), frozenset({'658'}), frozenset({'621'}), frozenset({'544'}), frozenset({'483'}), frozenset({'126'}), frozenset({'642'}), frozenset({'256'}), frozenset({'467'}), frozenset({'363'}), frozenset({'371'}), frozenset({'143'}), frozenset({'490'}), frozenset({'571'}), frozenset({'546'}), frozenset({'667'}), frozenset({'578'}), frozenset({'588'}), frozenset({'537'}), frozenset({'294'}), frozenset({'471'}), frozenset({'328'}), frozenset({'596'}), frozenset({'312'}), frozenset({'125'}), frozenset({'233'}), frozenset({'191'}), frozenset({'359'}), frozenset({'660'}), frozenset({'699'}), frozenset({'486'}), frozenset({'320'}), frozenset({'376'}), frozenset({'395'}), frozenset({'673'}), frozenset({'117'}), frozenset({'132'}), frozenset({'502'}), frozenset({'556'}), frozenset({'675'}), frozenset({'382'}), frozenset({'258'}), frozenset({'594'}), frozenset({'105'}), frozenset({'332'}), frozenset({'475'}), frozenset({'326'}), frozenset({'375'}), frozenset({'243'}), frozenset({'3'}), frozenset({'560'}), frozenset({'67'}), frozenset({'202'}), frozenset({'551'}), frozenset({'270'}), frozenset({'257'}), frozenset({'726'}), frozenset({'593'}), frozenset({'462'}), frozenset({'577'}), frozenset({'251'}), frozenset({'449'}), frozenset({'276'}), frozenset({'718'}), frozenset({'687'}), frozenset({'500'}), frozenset({'370'})}\n",
      "547\n"
     ]
    }
   ],
   "source": [
    "C = create_C1(interest_list)\n",
    "print(C)\n",
    "print(len(C))"
   ]
  },
  {
   "cell_type": "code",
   "execution_count": 11,
   "metadata": {},
   "outputs": [],
   "source": [
    "def is_apriori(Ck_item, Lksub1):\n",
    "# 任何非频繁的(k-1)项集都不是频繁k项集的子集\n",
    "    for item in Ck_item:\n",
    "        sub_Ck = Ck_item - frozenset([item])\n",
    "        if sub_Ck not in Lksub1:\n",
    "            return False\n",
    "    return True"
   ]
  },
  {
   "cell_type": "code",
   "execution_count": 12,
   "metadata": {},
   "outputs": [],
   "source": [
    "def create_Ck(Lksub1, k):\n",
    "# 连接步骤\n",
    "    Ck = set()\n",
    "    len_Lksub1 = len(Lksub1)\n",
    "    list_Lksub1 = list(Lksub1)\n",
    "    for i in range(len_Lksub1):\n",
    "        for j in range(1, len_Lksub1):\n",
    "            l1 = list(list_Lksub1[i])\n",
    "            l2 = list(list_Lksub1[j])\n",
    "            l1.sort()\n",
    "            l2.sort()\n",
    "            if l1[0:k-2] == l2[0:k-2]:\n",
    "                Ck_item = list_Lksub1[i] | list_Lksub1[j]\n",
    "                # pruning\n",
    "                if is_apriori(Ck_item, Lksub1):\n",
    "                    Ck.add(Ck_item)\n",
    "    return Ck"
   ]
  },
  {
   "cell_type": "code",
   "execution_count": 13,
   "metadata": {},
   "outputs": [
    {
     "name": "stdout",
     "output_type": "stream",
     "text": [
      "149331\n"
     ]
    }
   ],
   "source": [
    "C2 = create_Ck(C,2)\n",
    "print(len(C2))"
   ]
  },
  {
   "cell_type": "code",
   "execution_count": 14,
   "metadata": {},
   "outputs": [],
   "source": [
    "def generate_Lk_by_Ck(data_set, Ck, min_support, support_data):\n",
    "# 基于压缩后的Ck，扫描所有事务，对Ck中的每个项进行计数，然后删除不满足最小支持度的项，从而获得频繁k项集\n",
    "    Lk = set()\n",
    "    item_count = {}\n",
    "    for t in data_set:\n",
    "        for item in Ck:\n",
    "            if item.issubset(t):\n",
    "                if item not in item_count:\n",
    "                    item_count[item] = 1\n",
    "                else:\n",
    "                    item_count[item] += 1\n",
    "    t_num = float(len(data_set))\n",
    "    for item in item_count:\n",
    "        if (item_count[item] / t_num) >= min_support:\n",
    "            Lk.add(item)\n",
    "            support_data[item] = item_count[item] / t_num\n",
    "    return Lk, support_data"
   ]
  },
  {
   "cell_type": "code",
   "execution_count": 51,
   "metadata": {},
   "outputs": [],
   "source": [
    "L1, support_data1= generate_Lk_by_Ck(inte_list, C, 0.01, {})"
   ]
  },
  {
   "cell_type": "code",
   "execution_count": 15,
   "metadata": {},
   "outputs": [],
   "source": [
    "L2, support_data2 = generate_Lk_by_Ck(inte_list, C2, 0.01, {})"
   ]
  },
  {
   "cell_type": "code",
   "execution_count": 17,
   "metadata": {},
   "outputs": [
    {
     "name": "stdout",
     "output_type": "stream",
     "text": [
      "{frozenset({'319', '275'}), frozenset({'284', '272'}), frozenset({'277', '275'}), frozenset({'456', '267'}), frozenset({'310', '449'}), frozenset({'595', '312'}), frozenset({'186', '238'}), frozenset({'409', '267'}), frozenset({'22', '272'}), frozenset({'3', '277'}), frozenset({'13', '267'}), frozenset({'284', '381'}), frozenset({'338', '238'}), frozenset({'486', '316'}), frozenset({'338', '337'}), frozenset({'321', '267'}), frozenset({'285', '26'}), frozenset({'146', '267'}), frozenset({'267', '248'}), frozenset({'20', '272'}), frozenset({'270', '312'}), frozenset({'270', '310'}), frozenset({'338', '277'}), frozenset({'199', '267'}), frozenset({'246', '248'}), frozenset({'729', '690'}), frozenset({'542', '275'}), frozenset({'3', '283'}), frozenset({'40', '107'}), frozenset({'271', '13'}), frozenset({'529', '312'}), frozenset({'20', '312'}), frozenset({'271', '321'}), frozenset({'425', '729'}), frozenset({'3', '310'}), frozenset({'271', '669'}), frozenset({'338', '26'}), frozenset({'338', '456'}), frozenset({'285', '337'}), frozenset({'271', '248'}), frozenset({'270', '319'}), frozenset({'300', '267'}), frozenset({'451', '731'}), frozenset({'338', '283'}), frozenset({'200', '270'}), frozenset({'270', '277'}), frozenset({'729', '203'}), frozenset({'200', '319'}), frozenset({'271', '188'}), frozenset({'244', '272'}), frozenset({'267', '238'}), frozenset({'338', '321'}), frozenset({'26', '283'}), frozenset({'271', '243'}), frozenset({'319', '40'}), frozenset({'271', '26'}), frozenset({'192', '267'}), frozenset({'246', '273'}), frozenset({'105', '267'}), frozenset({'40', '37'}), frozenset({'302', '312'}), frozenset({'542', '69'}), frozenset({'319', '26'}), frozenset({'246', '729'}), frozenset({'337', '115'}), frozenset({'188', '267'}), frozenset({'285', '20'}), frozenset({'495', '40'}), frozenset({'186', '316'}), frozenset({'40', '310'}), frozenset({'26', '267'}), frozenset({'271', '192'}), frozenset({'312', '272'}), frozenset({'283', '238'}), frozenset({'731', '3'}), frozenset({'22', '595'}), frozenset({'37', '499'}), frozenset({'547', '271'}), frozenset({'200', '199'}), frozenset({'23', '26'}), frozenset({'429', '26'}), frozenset({'203', '16'}), frozenset({'379', '238'}), frozenset({'26', '381'}), frozenset({'425', '37'}), frozenset({'246', '20'}), frozenset({'381', '243'}), frozenset({'425', '316'}), frozenset({'320', '310'}), frozenset({'271', '254'}), frozenset({'690', '37'}), frozenset({'199', '310'}), frozenset({'542', '312'}), frozenset({'320', '283'}), frozenset({'246', '270'}), frozenset({'23', '337'}), frozenset({'246', '272'}), frozenset({'729', '495'}), frozenset({'273', '319'}), frozenset({'271', '310'}), frozenset({'319', '267'}), frozenset({'26', '115'}), frozenset({'273', '283'}), frozenset({'542', '690'}), frozenset({'735', '277'}), frozenset({'26', '530'}), frozenset({'203', '272'}), frozenset({'312', '316'}), frozenset({'302', '40'}), frozenset({'316', '275'}), frozenset({'495', '267'}), frozenset({'271', '337'}), frozenset({'26', '15'}), frozenset({'310', '267'}), frozenset({'271', '319'}), frozenset({'22', '40'}), frozenset({'203', '530'}), frozenset({'246', '186'}), frozenset({'271', '277'}), frozenset({'486', '37'}), frozenset({'731', '115'}), frozenset({'731', '284'}), frozenset({'270', '243'}), frozenset({'381', '275'}), frozenset({'271', '492'}), frozenset({'320', '275'}), frozenset({'729', '69'}), frozenset({'22', '542'}), frozenset({'26', '499'}), frozenset({'203', '69'}), frozenset({'22', '199'}), frozenset({'425', '26'}), frozenset({'272', '254'}), frozenset({'338', '243'}), frozenset({'529', '203'}), frozenset({'731', '316'}), frozenset({'542', '284'}), frozenset({'729', '284'}), frozenset({'22', '310'}), frozenset({'20', '486'}), frozenset({'735', '26'}), frozenset({'542', '3'}), frozenset({'22', '283'}), frozenset({'312', '243'}), frozenset({'37', '272'}), frozenset({'316', '272'}), frozenset({'530', '267'}), frozenset({'273', '40'}), frozenset({'203', '310'}), frozenset({'22', '319'}), frozenset({'26', '37'}), frozenset({'26', '316'}), frozenset({'22', '277'}), frozenset({'312', '530'}), frozenset({'186', '37'}), frozenset({'37', '64'}), frozenset({'246', '312'}), frozenset({'271', '530'}), frozenset({'200', '729'}), frozenset({'22', '337'}), frozenset({'22', '243'}), frozenset({'425', '267'}), frozenset({'312', '719'}), frozenset({'22', '285'}), frozenset({'312', '381'}), frozenset({'338', '37'}), frozenset({'338', '316'}), frozenset({'26', '146'}), frozenset({'267', '107'}), frozenset({'20', '186'}), frozenset({'20', '275'}), frozenset({'20', '64'}), frozenset({'729', '13'}), frozenset({'529', '275'}), frozenset({'3', '284'}), frozenset({'40', '16'}), frozenset({'26', '669'}), frozenset({'283', '13'}), frozenset({'22', '186'}), frozenset({'22', '64'}), frozenset({'312', '303'}), frozenset({'244', '267'}), frozenset({'37', '277'}), frozenset({'22', '26'}), frozenset({'272', '238'}), frozenset({'316', '277'}), frozenset({'283', '310'}), frozenset({'486', '3'}), frozenset({'40', '238'}), frozenset({'486', '482'}), frozenset({'319', '37'}), frozenset({'338', '542'}), frozenset({'20', '338'}), frozenset({'729', '735'}), frozenset({'186', '203'}), frozenset({'186', '284'}), frozenset({'525', '37'}), frozenset({'37', '267'}), frozenset({'284', '243'}), frozenset({'273', '267'}), frozenset({'26', '284'}), frozenset({'312', '277'}), frozenset({'283', '37'}), frozenset({'527', '283'}), frozenset({'594', '26'}), frozenset({'312', '319'}), frozenset({'37', '310'}), frozenset({'316', '310'}), frozenset({'312', '337'}), frozenset({'26', '40'}), frozenset({'449', '275'}), frozenset({'20', '270'}), frozenset({'737', '26'}), frozenset({'271', '273'}), frozenset({'26', '238'}), frozenset({'338', '40'}), frozenset({'731', '271'}), frozenset({'731', '527'}), frozenset({'199', '37'}), frozenset({'285', '312'}), frozenset({'542', '273'}), frozenset({'542', '37'}), frozenset({'3', '272'}), frozenset({'529', '238'}), frozenset({'542', '267'}), frozenset({'3', '40'}), frozenset({'246', '542'}), frozenset({'22', '381'}), frozenset({'271', '16'}), frozenset({'270', '40'}), frozenset({'20', '310'}), frozenset({'22', '486'}), frozenset({'3', '26'}), frozenset({'270', '238'}), frozenset({'542', '271'}), frozenset({'731', '37'}), frozenset({'320', '284'}), frozenset({'16', '267'}), frozenset({'429', '267'}), frozenset({'321', '275'}), frozenset({'486', '284'}), frozenset({'382', '267'}), frozenset({'23', '267'}), frozenset({'456', '26'}), frozenset({'246', '337'}), frozenset({'729', '115'}), frozenset({'312', '186'}), frozenset({'312', '64'}), frozenset({'26', '49'}), frozenset({'246', '277'}), frozenset({'317', '267'}), frozenset({'530', '283'}), frozenset({'271', '272'}), frozenset({'302', '267'}), frozenset({'316', '284'}), frozenset({'729', '317'}), frozenset({'246', '310'}), frozenset({'271', '237'}), frozenset({'22', '690'}), frozenset({'338', '267'}), frozenset({'271', '257'}), frozenset({'26', '16'}), frozenset({'731', '310'}), frozenset({'729', '16'}), frozenset({'542', '40'}), frozenset({'320', '337'}), frozenset({'3', '267'}), frozenset({'731', '283'}), frozenset({'337', '381'}), frozenset({'257', '267'}), frozenset({'270', '267'}), frozenset({'486', '312'}), frozenset({'283', '321'}), frozenset({'731', '319'}), frozenset({'16', '238'}), frozenset({'246', '254'}), frozenset({'20', '271'}), frozenset({'243', '321'}), frozenset({'312', '13'}), frozenset({'731', '277'}), frozenset({'15', '16'}), frozenset({'26', '321'}), frozenset({'271', '529'}), frozenset({'731', '270'}), frozenset({'186', '69'}), frozenset({'729', '271'}), frozenset({'729', '283'}), frozenset({'320', '338'}), frozenset({'113', '26'}), frozenset({'525', '316'}), frozenset({'246', '203'}), frozenset({'338', '731'}), frozenset({'595', '271'}), frozenset({'20', '16'}), frozenset({'729', '449'}), frozenset({'729', '273'}), frozenset({'527', '316'}), frozenset({'243', '238'}), frozenset({'690', '26'}), frozenset({'320', '273'}), frozenset({'320', '37'}), frozenset({'690', '283'}), frozenset({'731', '186'}), frozenset({'320', '267'}), frozenset({'731', '64'}), frozenset({'285', '729'}), frozenset({'246', '320'}), frozenset({'246', '486'}), frozenset({'22', '146'}), frozenset({'320', '271'}), frozenset({'22', '13'}), frozenset({'729', '529'}), frozenset({'690', '272'}), frozenset({'20', '203'}), frozenset({'338', '735'}), frozenset({'20', '729'}), frozenset({'497', '267'}), frozenset({'243', '275'}), frozenset({'186', '275'}), frozenset({'64', '275'}), frozenset({'409', '26'}), frozenset({'246', '244'}), frozenset({'22', '271'}), frozenset({'312', '203'}), frozenset({'22', '729'}), frozenset({'284', '310'}), frozenset({'271', '40'}), frozenset({'729', '272'}), frozenset({'284', '267'}), frozenset({'203', '316'}), frozenset({'284', '37'}), frozenset({'22', '449'}), frozenset({'486', '731'}), frozenset({'203', '37'}), frozenset({'37', '115'}), frozenset({'303', '40'}), frozenset({'238', '275'}), frozenset({'594', '271'}), frozenset({'542', '319'}), frozenset({'200', '542'}), frozenset({'69', '267'}), frozenset({'542', '277'}), frozenset({'285', '275'}), frozenset({'320', '40'}), frozenset({'542', '337'}), frozenset({'40', '477'}), frozenset({'542', '238'}), frozenset({'478', '267'}), frozenset({'486', '26'}), frozenset({'271', '69'}), frozenset({'338', '284'}), frozenset({'22', '3'}), frozenset({'40', '719'}), frozenset({'684', '310'}), frozenset({'542', '495'}), frozenset({'246', '690'}), frozenset({'525', '267'}), frozenset({'492', '267'}), frozenset({'271', '527'}), frozenset({'456', '271'}), frozenset({'731', '690'}), frozenset({'271', '312'}), frozenset({'302', '26'}), frozenset({'729', '275'}), frozenset({'203', '243'}), frozenset({'731', '425'}), frozenset({'271', '267'}), frozenset({'319', '310'}), frozenset({'284', '238'}), frozenset({'22', '594'}), frozenset({'530', '284'}), frozenset({'312', '267'}), frozenset({'186', '272'}), frozenset({'272', '64'}), frozenset({'690', '243'}), frozenset({'529', '277'}), frozenset({'669', '267'}), frozenset({'40', '69'}), frozenset({'731', '275'}), frozenset({'273', '321'}), frozenset({'310', '107'}), frozenset({'529', '337'}), frozenset({'20', '238'}), frozenset({'20', '337'}), frozenset({'3', '312'}), frozenset({'320', '186'}), frozenset({'529', '283'}), frozenset({'37', '16'}), frozenset({'23', '37'}), frozenset({'529', '310'}), frozenset({'26', '368'}), frozenset({'200', '186'}), frozenset({'338', '312'}), frozenset({'69', '310'}), frozenset({'312', '69'}), frozenset({'246', '16'}), frozenset({'26', '310'}), frozenset({'337', '272'}), frozenset({'492', '40'}), frozenset({'525', '40'}), frozenset({'40', '337'}), frozenset({'244', '238'}), frozenset({'277', '272'}), frozenset({'312', '284'}), frozenset({'40', '277'}), frozenset({'495', '26'}), frozenset({'319', '272'}), frozenset({'115', '310'}), frozenset({'594', '312'}), frozenset({'271', '15'}), frozenset({'26', '277'}), frozenset({'203', '267'}), frozenset({'22', '316'}), frozenset({'731', '321'}), frozenset({'244', '26'}), frozenset({'40', '275'}), frozenset({'451', '271'}), frozenset({'114', '26'}), frozenset({'310', '272'}), frozenset({'26', '337'}), frozenset({'451', '729'}), frozenset({'285', '338'}), frozenset({'312', '40'}), frozenset({'320', '319'}), frozenset({'729', '381'}), frozenset({'272', '321'}), frozenset({'320', '277'}), frozenset({'529', '530'}), frozenset({'381', '310'}), frozenset({'285', '271'}), frozenset({'248', '238'}), frozenset({'729', '719'}), frozenset({'277', '16'}), frozenset({'320', '26'}), frozenset({'731', '337'}), frozenset({'199', '203'}), frozenset({'337', '16'}), frozenset({'729', '199'}), frozenset({'285', '267'}), frozenset({'320', '729'}), frozenset({'69', '275'}), frozenset({'271', '482'}), frozenset({'320', '203'}), frozenset({'735', '283'}), frozenset({'246', '238'}), frozenset({'735', '310'}), frozenset({'271', '495'}), frozenset({'337', '267'}), frozenset({'729', '303'}), frozenset({'302', '22'}), frozenset({'530', '272'}), frozenset({'277', '267'}), frozenset({'26', '203'}), frozenset({'271', '303'}), frozenset({'246', '284'}), frozenset({'312', '37'}), frozenset({'735', '37'}), frozenset({'735', '316'}), frozenset({'271', '449'}), frozenset({'729', '114'}), frozenset({'338', '381'}), frozenset({'40', '284'}), frozenset({'203', '40'}), frozenset({'186', '40'}), frozenset({'338', '690'}), frozenset({'271', '161'}), frozenset({'729', '277'}), frozenset({'40', '64'}), frozenset({'246', '22'}), frozenset({'283', '267'}), frozenset({'303', '267'}), frozenset({'271', '381'}), frozenset({'186', '16'}), frozenset({'486', '267'}), frozenset({'284', '16'}), frozenset({'271', '719'}), frozenset({'477', '267'}), frozenset({'542', '186'}), frozenset({'542', '64'}), frozenset({'381', '267'}), frozenset({'284', '13'}), frozenset({'486', '271'}), frozenset({'254', '238'}), frozenset({'719', '267'}), frozenset({'542', '115'}), frozenset({'310', '243'}), frozenset({'186', '283'}), frozenset({'283', '243'}), frozenset({'486', '338'}), frozenset({'527', '26'}), frozenset({'22', '495'}), frozenset({'115', '275'}), frozenset({'40', '49'}), frozenset({'105', '310'}), frozenset({'22', '37'}), frozenset({'277', '243'}), frozenset({'273', '186'}), frozenset({'527', '272'}), frozenset({'525', '26'}), frozenset({'26', '492'}), frozenset({'186', '267'}), frozenset({'64', '267'}), frozenset({'267', '528'}), frozenset({'271', '107'}), frozenset({'285', '186'}), frozenset({'270', '186'}), frozenset({'379', '40'}), frozenset({'486', '272'}), frozenset({'22', '20'}), frozenset({'486', '310'}), frozenset({'542', '26'}), frozenset({'40', '381'}), frozenset({'486', '283'}), frozenset({'529', '186'}), frozenset({'271', '499'}), frozenset({'529', '284'}), frozenset({'57', '729'}), frozenset({'338', '275'}), frozenset({'338', '186'}), frozenset({'542', '729'}), frozenset({'542', '203'}), frozenset({'186', '243'}), frozenset({'186', '26'}), frozenset({'26', '64'}), frozenset({'203', '284'}), frozenset({'271', '49'}), frozenset({'312', '310'}), frozenset({'246', '40'}), frozenset({'337', '277'}), frozenset({'731', '16'}), frozenset({'495', '310'}), frozenset({'316', '283'}), frozenset({'273', '312'}), frozenset({'267', '49'}), frozenset({'200', '22'}), frozenset({'729', '492'}), frozenset({'273', '275'}), frozenset({'37', '275'}), frozenset({'285', '486'}), frozenset({'283', '337'}), frozenset({'267', '275'}), frozenset({'26', '272'}), frozenset({'337', '310'}), frozenset({'22', '238'}), frozenset({'451', '542'}), frozenset({'338', '272'}), frozenset({'285', '310'}), frozenset({'20', '277'}), frozenset({'16', '275'}), frozenset({'20', '40'}), frozenset({'529', '272'}), frozenset({'270', '26'}), frozenset({'338', '319'}), frozenset({'529', '40'}), frozenset({'186', '381'}), frozenset({'271', '23'}), frozenset({'486', '186'}), frozenset({'20', '26'}), frozenset({'20', '283'}), frozenset({'270', '272'}), frozenset({'338', '310'}), frozenset({'285', '272'}), frozenset({'271', '146'}), frozenset({'13', '275'}), frozenset({'731', '273'}), frozenset({'285', '40'}), frozenset({'271', '199'}), frozenset({'272', '267'}), frozenset({'312', '26'}), frozenset({'302', '271'}), frozenset({'246', '267'}), frozenset({'271', '113'}), frozenset({'200', '267'}), frozenset({'273', '272'}), frozenset({'285', '381'}), frozenset({'246', '37'}), frozenset({'735', '284'}), frozenset({'729', '243'}), frozenset({'316', '40'}), frozenset({'113', '310'}), frozenset({'271', '262'}), frozenset({'338', '529'}), frozenset({'200', '310'}), frozenset({'273', '243'}), frozenset({'273', '26'}), frozenset({'246', '271'}), frozenset({'271', '238'}), frozenset({'113', '267'}), frozenset({'200', '271'}), frozenset({'26', '449'}), frozenset({'243', '267'}), frozenset({'246', '283'}), frozenset({'312', '238'}), frozenset({'283', '272'}), frozenset({'271', '105'}), frozenset({'731', '529'}), frozenset({'595', '26'}), frozenset({'283', '40'}), frozenset({'486', '381'}), frozenset({'270', '271'}), frozenset({'731', '729'}), frozenset({'731', '203'}), frozenset({'246', '338'}), frozenset({'379', '272'}), frozenset({'20', '267'}), frozenset({'338', '530'}), frozenset({'486', '40'}), frozenset({'283', '381'}), frozenset({'271', '10'}), frozenset({'529', '267'}), frozenset({'338', '273'}), frozenset({'379', '283'}), frozenset({'381', '272'}), frozenset({'729', '321'}), frozenset({'199', '26'}), frozenset({'312', '146'}), frozenset({'26', '477'}), frozenset({'547', '267'}), frozenset({'542', '735'}), frozenset({'379', '26'}), frozenset({'272', '16'}), frozenset({'246', '285'}), frozenset({'10', '267'}), frozenset({'267', '254'}), frozenset({'159', '26'}), frozenset({'320', '542'}), frozenset({'273', '277'}), frozenset({'595', '267'}), frozenset({'338', '425'}), frozenset({'312', '275'}), frozenset({'735', '275'}), frozenset({'317', '272'}), frozenset({'594', '40'}), frozenset({'246', '530'}), frozenset({'316', '267'}), frozenset({'451', '26'}), frozenset({'729', '337'}), frozenset({'203', '238'}), frozenset({'317', '26'}), frozenset({'273', '310'}), frozenset({'320', '270'}), frozenset({'20', '731'}), frozenset({'320', '731'}), frozenset({'40', '243'}), frozenset({'271', '316'}), frozenset({'338', '16'}), frozenset({'272', '243'}), frozenset({'542', '316'}), frozenset({'690', '312'}), frozenset({'271', '497'}), frozenset({'547', '26'}), frozenset({'379', '267'}), frozenset({'246', '381'}), frozenset({'26', '482'}), frozenset({'199', '186'}), frozenset({'729', '3'}), frozenset({'379', '271'}), frozenset({'40', '267'}), frozenset({'22', '275'}), frozenset({'186', '310'}), frozenset({'271', '284'}), frozenset({'310', '64'}), frozenset({'200', '37'}), frozenset({'737', '267'}), frozenset({'203', '283'}), frozenset({'729', '26'}), frozenset({'594', '267'}), frozenset({'302', '310'}), frozenset({'26', '161'}), frozenset({'729', '40'}), frozenset({'594', '275'}), frozenset({'186', '277'}), frozenset({'735', '272'}), frozenset({'273', '284'}), frozenset({'277', '64'}), frozenset({'203', '277'}), frozenset({'594', '729'}), frozenset({'186', '337'}), frozenset({'337', '64'}), frozenset({'20', '37'}), frozenset({'20', '316'}), frozenset({'542', '272'}), frozenset({'425', '271'}), frozenset({'320', '735'}), frozenset({'186', '482'}), frozenset({'3', '275'}), frozenset({'312', '321'}), frozenset({'486', '729'}), frozenset({'20', '284'}), frozenset({'20', '542'}), frozenset({'186', '64'}), frozenset({'312', '283'}), frozenset({'283', '275'}), frozenset({'486', '529'}), frozenset({'40', '272'}), frozenset({'319', '277'}), frozenset({'200', '40'}), frozenset({'22', '203'}), frozenset({'22', '284'}), frozenset({'271', '735'}), frozenset({'283', '277'}), frozenset({'186', '530'}), frozenset({'271', '244'}), frozenset({'200', '26'}), frozenset({'338', '270'}), frozenset({'542', '16'}), frozenset({'40', '115'}), frozenset({'277', '310'}), frozenset({'542', '270'}), frozenset({'542', '731'}), frozenset({'729', '316'}), frozenset({'729', '37'}), frozenset({'312', '449'}), frozenset({'527', '37'}), frozenset({'735', '267'}), frozenset({'271', '37'}), frozenset({'337', '275'}), frozenset({'547', '729'}), frozenset({'527', '267'}), frozenset({'285', '283'}), frozenset({'320', '316'}), frozenset({'26', '107'}), frozenset({'3', '337'}), frozenset({'270', '283'}), frozenset({'731', '267'}), frozenset({'529', '26'}), frozenset({'246', '731'}), frozenset({'379', '284'}), frozenset({'26', '69'}), frozenset({'40', '449'}), frozenset({'15', '267'}), frozenset({'26', '303'}), frozenset({'542', '199'}), frozenset({'271', '203'}), frozenset({'20', '3'}), frozenset({'22', '312'}), frozenset({'451', '267'}), frozenset({'277', '238'}), frozenset({'200', '337'}), frozenset({'20', '23'}), frozenset({'273', '203'}), frozenset({'159', '267'}), frozenset({'310', '238'}), frozenset({'246', '275'}), frozenset({'271', '317'}), frozenset({'26', '719'}), frozenset({'40', '13'}), frozenset({'283', '16'}), frozenset({'690', '275'}), frozenset({'690', '186'}), frozenset({'243', '16'}), frozenset({'26', '497'}), frozenset({'310', '16'}), frozenset({'40', '146'}), frozenset({'731', '243'}), frozenset({'731', '26'}), frozenset({'277', '321'}), frozenset({'482', '267'}), frozenset({'246', '529'}), frozenset({'320', '272'}), frozenset({'237', '267'}), frozenset({'320', '243'}), frozenset({'338', '271'}), frozenset({'731', '272'}), frozenset({'22', '69'}), frozenset({'3', '271'}), frozenset({'310', '321'}), frozenset({'20', '320'}), frozenset({'449', '267'}), frozenset({'26', '243'}), frozenset({'316', '37'}), frozenset({'161', '267'}), frozenset({'729', '312'}), frozenset({'271', '283'}), frozenset({'530', '238'}), frozenset({'729', '310'}), frozenset({'115', '272'}), frozenset({'26', '105'}), frozenset({'729', '267'}), frozenset({'542', '107'}), frozenset({'735', '337'}), frozenset({'246', '243'}), frozenset({'20', '381'}), frozenset({'246', '26'}), frozenset({'200', '203'}), frozenset({'729', '319'}), frozenset({'690', '310'}), frozenset({'270', '203'}), frozenset({'22', '23'}), frozenset({'22', '16'}), frozenset({'729', '270'}), frozenset({'26', '10'}), frozenset({'22', '731'}), frozenset({'482', '40'}), frozenset({'57', '267'}), frozenset({'201', '267'}), frozenset({'486', '275'}), frozenset({'529', '243'}), frozenset({'338', '203'}), frozenset({'20', '735'}), frozenset({'338', '729'}), frozenset({'690', '40'}), frozenset({'381', '37'}), frozenset({'186', '13'}), frozenset({'26', '275'}), frozenset({'486', '542'}), frozenset({'302', '729'}), frozenset({'271', '115'}), frozenset({'283', '284'}), frozenset({'271', '186'}), frozenset({'271', '64'}), frozenset({'284', '275'}), frozenset({'320', '321'}), frozenset({'203', '275'}), frozenset({'729', '186'}), frozenset({'729', '64'}), frozenset({'271', '528'}), frozenset({'317', '312'}), frozenset({'729', '238'}), frozenset({'284', '337'}), frozenset({'203', '337'}), frozenset({'737', '729'}), frozenset({'22', '273'}), frozenset({'115', '267'}), frozenset({'284', '277'}), frozenset({'22', '267'}), frozenset({'22', '492'}), frozenset({'186', '449'}), frozenset({'272', '275'}), frozenset({'312', '16'}), frozenset({'3', '37'}), frozenset({'40', '321'}), frozenset({'486', '277'}), frozenset({'337', '13'}), frozenset({'499', '267'}), frozenset({'22', '270'}), frozenset({'271', '690'}), frozenset({'285', '284'}), frozenset({'199', '40'}), frozenset({'486', '337'}), frozenset({'731', '735'}), frozenset({'731', '312'}), frozenset({'542', '310'}), frozenset({'338', '527'}), frozenset({'542', '243'}), frozenset({'731', '40'}), frozenset({'22', '529'}), frozenset({'542', '283'}), frozenset({'3', '186'}), frozenset({'320', '312'}), frozenset({'26', '13'}), frozenset({'22', '338'}), frozenset({'690', '267'}), frozenset({'486', '203'}), frozenset({'729', '146'}), frozenset({'114', '267'}), frozenset({'310', '275'}), frozenset({'729', '527'}), frozenset({'527', '275'}), frozenset({'530', '40'}), frozenset({'271', '275'}), frozenset({'337', '37'}), frozenset({'316', '337'}), frozenset({'409', '271'}), frozenset({'271', '114'}), frozenset({'400', '267'}), frozenset({'525', '271'})}\n",
      "867\n"
     ]
    }
   ],
   "source": [
    "print(L2)\n",
    "print(len(L2))"
   ]
  },
  {
   "cell_type": "code",
   "execution_count": 18,
   "metadata": {},
   "outputs": [
    {
     "name": "stdout",
     "output_type": "stream",
     "text": [
      "{frozenset({'284', '277'}): 0.0287108179106836, frozenset({'312', '186'}): 0.03743309170633431, frozenset({'271', '283'}): 0.09169448339884256, frozenset({'729', '267'}): 0.17342629718145727, frozenset({'731', '275'}): 0.04665310395228031, frozenset({'26', '284'}): 0.07767090007703095, frozenset({'26', '283'}): 0.09605562029666792, frozenset({'731', '186'}): 0.02851725295779099, frozenset({'3', '284'}): 0.01644117008038871, frozenset({'244', '267'}): 0.021710877165261017, frozenset({'731', '271'}): 0.0834738983586482, frozenset({'312', '26'}): 0.09528531079025855, frozenset({'271', '267'}): 0.37175926840348417, frozenset({'277', '267'}): 0.07923127061565506, frozenset({'312', '277'}): 0.029698394200952022, frozenset({'186', '283'}): 0.06974263761875604, frozenset({'271', '26'}): 0.24636078137036085, frozenset({'312', '267'}): 0.11856840940962689, frozenset({'312', '275'}): 0.04726145094708566, frozenset({'186', '277'}): 0.029342866736455392, frozenset({'283', '277'}): 0.03338797922139485, frozenset({'731', '26'}): 0.10628296035868771, frozenset({'3', '312'}): 0.018258310454482608, frozenset({'186', '275'}): 0.042280116138971736, frozenset({'312', '283'}): 0.03391336980781765, frozenset({'3', '283'}): 0.023808489205791147, frozenset({'22', '283'}): 0.03651267060380414, frozenset({'22', '729'}): 0.05882399415354836, frozenset({'284', '267'}): 0.09426218175354047, frozenset({'271', '244'}): 0.01813190068932825, frozenset({'26', '275'}): 0.11233482786545261, frozenset({'271', '277'}): 0.0749017361591183, frozenset({'729', '277'}): 0.04279760611507239, frozenset({'731', '312'}): 0.03167354678148887, frozenset({'731', '284'}): 0.027924707183629934, frozenset({'26', '277'}): 0.07844120958344032, frozenset({'22', '277'}): 0.030077623496415098, frozenset({'271', '186'}): 0.09885638665586917, frozenset({'267', '275'}): 0.11085741373521105, frozenset({'283', '275'}): 0.04498212486914614, frozenset({'312', '284'}): 0.02799186237136819, frozenset({'271', '275'}): 0.09057654703825871, frozenset({'22', '26'}): 0.11755318098323095, frozenset({'271', '312'}): 0.08866459934029904, frozenset({'731', '283'}): 0.03573446048707263, frozenset({'731', '267'}): 0.09261095419621165, frozenset({'729', '275'}): 0.06715913804341385, frozenset({'22', '267'}): 0.1276383100594521, frozenset({'271', '284'}): 0.07837800470086315, frozenset({'729', '186'}): 0.046621501510991724, frozenset({'731', '729'}): 0.09264650694266133, frozenset({'186', '26'}): 0.09757253747852021, frozenset({'3', '277'}): 0.011234667878093582, frozenset({'3', '186'}): 0.028418495328764146, frozenset({'3', '275'}): 0.01780007505579806, frozenset({'3', '267'}): 0.061435145865018075, frozenset({'22', '284'}): 0.02958778565644196, frozenset({'729', '312'}): 0.06207904560627309, frozenset({'186', '267'}): 0.11873432222639199, frozenset({'26', '267'}): 0.3045250745620099, frozenset({'22', '275'}): 0.046661004562602464, frozenset({'277', '275'}): 0.07560094017262833, frozenset({'284', '275'}): 0.039111971399790633, frozenset({'22', '312'}): 0.07866242667246044, frozenset({'729', '283'}): 0.04705603507870983, frozenset({'283', '267'}): 0.10799344249343262, frozenset({'731', '3'}): 0.014999308696596813, frozenset({'22', '186'}): 0.04631337770842798, frozenset({'729', '3'}): 0.03322996701495191, frozenset({'729', '284'}): 0.03778466886566987, frozenset({'731', '277'}): 0.03545003851547532, frozenset({'729', '26'}): 0.19504631732801359, frozenset({'283', '284'}): 0.08546880246499042, frozenset({'22', '271'}): 0.10132137707637916, frozenset({'3', '271'}): 0.047150842402575596, frozenset({'22', '3'}): 0.03290999229690494, frozenset({'244', '26'}): 0.011953623417408995, frozenset({'186', '284'}): 0.06197238736692409, frozenset({'3', '26'}): 0.06409765154358174, frozenset({'729', '271'}): 0.1352940014616129, frozenset({'22', '731'}): 0.027466471784945386, frozenset({'243', '267'}): 0.09983606233581545, frozenset({'285', '267'}): 0.03574236109739477, frozenset({'186', '40'}): 0.0750360465345948, frozenset({'20', '186'}): 0.04282920855636098, frozenset({'26', '105'}): 0.014086788204388788, frozenset({'114', '26'}): 0.013988030575361948, frozenset({'37', '499'}): 0.010815935531019772, frozenset({'40', '37'}): 0.06572912757510517, frozenset({'22', '20'}): 0.04422761658338106, frozenset({'20', '26'}): 0.0890003752789903, frozenset({'20', '37'}): 0.04738786071224002, frozenset({'186', '37'}): 0.053325169369333784, frozenset({'22', '37'}): 0.04367457386083075, frozenset({'26', '37'}): 0.10164530209958719, frozenset({'20', '40'}): 0.054996148452467954, frozenset({'22', '40'}): 0.07059985383870904, frozenset({'26', '499'}): 0.014055185763100199, frozenset({'26', '40'}): 0.1525331331845385, frozenset({'310', '267'}): 0.14002251673941812, frozenset({'338', '321'}): 0.01482549526950957, frozenset({'735', '310'}): 0.016693989610697426, frozenset({'310', '321'}): 0.011108258112939225, frozenset({'320', '321'}): 0.019198483082818147, frozenset({'338', '530'}): 0.011720555412905648, frozenset({'735', '267'}): 0.028505402042307768, frozenset({'271', '530'}): 0.02626162871081791, frozenset({'320', '267'}): 0.03962156076556914, frozenset({'338', '271'}): 0.07980011455884967, frozenset({'321', '267'}): 0.025933753382448795, frozenset({'338', '310'}): 0.03453356771810622, frozenset({'320', '338'}): 0.023283098619368347, frozenset({'338', '267'}): 0.07950779197693021, frozenset({'271', '735'}): 0.03009342471705939, frozenset({'271', '321'}): 0.02475261213928776, frozenset({'530', '267'}): 0.030275138754468783, frozenset({'338', '735'}): 0.026309032372750795, frozenset({'320', '310'}): 0.018250409844160462, frozenset({'320', '735'}): 0.013107112524442513, frozenset({'271', '310'}): 0.12051590985403622, frozenset({'320', '271'}): 0.04106737245452211, frozenset({'303', '40'}): 0.015955282545576644, frozenset({'273', '203'}): 0.012498765529637164, frozenset({'729', '203'}): 0.02554662347666357, frozenset({'542', '273'}): 0.015623456912046455, frozenset({'203', '267'}): 0.05303284678741433, frozenset({'200', '729'}): 0.01529558158367734, frozenset({'320', '729'}): 0.022398230263287838, frozenset({'320', '203'}): 0.01475043947144917, frozenset({'542', '267'}): 0.10793813822117758, frozenset({'200', '542'}): 0.018598036698334947, frozenset({'199', '267'}): 0.019056272097019496, frozenset({'199', '203'}): 0.01200102707934188, frozenset({'542', '729'}): 0.07501629500878942, frozenset({'542', '203'}): 0.019344644373777874, frozenset({'729', '310'}): 0.0797961642536886, frozenset({'729', '273'}): 0.02242983270457643, frozenset({'273', '26'}): 0.03325366884591835, frozenset({'273', '310'}): 0.02766398704299907, frozenset({'200', '267'}): 0.027490173615911828, frozenset({'159', '267'}): 0.011949673112247922, frozenset({'200', '199'}): 0.013462639988939146, frozenset({'26', '310'}): 0.13637243477058603, frozenset({'542', '199'}): 0.012613324379308302, frozenset({'320', '26'}): 0.03375535760137471, frozenset({'200', '26'}): 0.027980011455884968, frozenset({'159', '26'}): 0.010705326986509708, frozenset({'542', '26'}): 0.10687550613284877, frozenset({'199', '310'}): 0.012597523158664007, frozenset({'320', '542'}): 0.015362736771415591, frozenset({'200', '310'}): 0.017772422919670544, frozenset({'26', '203'}): 0.0415651109048174, frozenset({'200', '203'}): 0.010851488277469434, frozenset({'203', '310'}): 0.02225996958265026, frozenset({'199', '26'}): 0.02131979695431472, frozenset({'320', '273'}): 0.015161271208200834, frozenset({'273', '267'}): 0.04184558257125363, frozenset({'729', '199'}): 0.011278121234865393, frozenset({'542', '310'}): 0.06435442137905154, frozenset({'20', '310'}): 0.043931343696300536, frozenset({'20', '16'}): 0.019004918129925538, frozenset({'16', '267'}): 0.0642833158861522, frozenset({'267', '107'}): 0.020454680124039584, frozenset({'310', '16'}): 0.019170830946690632, frozenset({'310', '107'}): 0.015619506606885382, frozenset({'20', '267'}): 0.10514922277745956, frozenset({'246', '248'}): 0.016682138695214205, frozenset({'246', '267'}): 0.11707124375357997, frozenset({'267', '248'}): 0.015220525785616938, frozenset({'113', '310'}): 0.010630271188449308, frozenset({'595', '26'}): 0.012040530130952616, frozenset({'20', '542'}): 0.031132354974421773, frozenset({'542', '271'}): 0.09428983388966798, frozenset({'595', '271'}): 0.01098579865294594, frozenset({'113', '26'}): 0.015828872780422287, frozenset({'271', '107'}): 0.018305714116415493, frozenset({'26', '107'}): 0.023464812656777734, frozenset({'542', '107'}): 0.012111635623851943, frozenset({'271', '113'}): 0.010341898911690928, frozenset({'20', '271'}): 0.08657093760492998, frozenset({'527', '26'}): 0.015892077662999465, frozenset({'320', '337'}): 0.011526990460013035, frozenset({'527', '272'}): 0.011353177032925793, frozenset({'320', '272'}): 0.023476663572260956, frozenset({'731', '337'}): 0.03379881095814652, frozenset({'731', '37'}): 0.036346757787039045, frozenset({'37', '275'}): 0.04478855991625353, frozenset({'37', '310'}): 0.049576329771474845, frozenset({'337', '272'}): 0.03394102194394517, frozenset({'338', '456'}): 0.010811985225858698, frozenset({'527', '37'}): 0.010863339192952655, frozenset({'456', '26'}): 0.012534318276086828, frozenset({'310', '275'}): 0.054620869462165954, frozenset({'735', '275'}): 0.01805684489126785, frozenset({'26', '272'}): 0.09282032036974856, frozenset({'337', '275'}): 0.05003851547532047, frozenset({'338', '272'}): 0.050540204230776826, frozenset({'338', '527'}): 0.012530367970925754, frozenset({'731', '310'}): 0.04966323648501847, frozenset({'731', '735'}): 0.028256532817160125, frozenset({'310', '272'}): 0.044835963578186415, frozenset({'337', '310'}): 0.04890477789409232, frozenset({'320', '37'}): 0.01351004365087203, frozenset({'337', '37'}): 0.060720140630863735, frozenset({'735', '337'}): 0.01332832961346264, frozenset({'272', '275'}): 0.04024965928617986, frozenset({'320', '275'}): 0.015844674001066584, frozenset({'320', '731'}): 0.02346876296193881, frozenset({'527', '275'}): 0.01027869402911375, frozenset({'338', '275'}): 0.0398072251081396, frozenset({'338', '26'}): 0.08070868474589663, frozenset({'37', '272'}): 0.03215548401113986, frozenset({'731', '527'}): 0.012676529261885481, frozenset({'338', '337'}): 0.040111398605542276, frozenset({'735', '26'}): 0.03373560607556934, frozenset({'731', '272'}): 0.04529814928203204, frozenset({'26', '337'}): 0.11126034486164056, frozenset({'338', '37'}): 0.02965099053901914, frozenset({'338', '731'}): 0.0491180943727903, frozenset({'735', '37'}): 0.012929348792194198, frozenset({'735', '272'}): 0.02071144995950937, frozenset({'684', '310'}): 0.01064212210393253, frozenset({'271', '273'}): 0.0354974421774082, frozenset({'495', '310'}): 0.01734974026743566, frozenset({'271', '495'}): 0.019901637401489265, frozenset({'495', '26'}): 0.03197376997373047, frozenset({'495', '267'}): 0.025274052420549486, frozenset({'40', '267'}): 0.18314404787769856, frozenset({'40', '275'}): 0.05241659918228683, frozenset({'40', '277'}): 0.03610183886705248, frozenset({'37', '277'}): 0.032526812696280785, frozenset({'37', '267'}): 0.09646645203341958, frozenset({'271', '37'}): 0.08906753046672855, frozenset({'595', '312'}): 0.013537695786999546, frozenset({'22', '13'}): 0.01635426336684509, frozenset({'729', '146'}): 0.014841296490153864, frozenset({'594', '271'}): 0.01803709336546248, frozenset({'729', '13'}): 0.013213770763791504, frozenset({'594', '312'}): 0.02014260601631476, frozenset({'22', '146'}): 0.010243141282664086, frozenset({'312', '13'}): 0.011902269450315037, frozenset({'22', '595'}): 0.01307155977799285, frozenset({'22', '594'}): 0.02345691204645559, frozenset({'312', '146'}): 0.010859388887791583, frozenset({'594', '729'}): 0.012257796914811669, frozenset({'271', '146'}): 0.017365541488079953, frozenset({'271', '13'}): 0.0179896897035296, frozenset({'271', '238'}): 0.0615062513579174, frozenset({'271', '40'}): 0.14560034762685417, frozenset({'40', '69'}): 0.029785300914495643, frozenset({'729', '40'}): 0.08191352782002409, frozenset({'729', '69'}): 0.01969227122795236, frozenset({'271', '69'}): 0.02385589286772403, frozenset({'26', '69'}): 0.029974915562227183, frozenset({'69', '267'}): 0.03204882577179087, frozenset({'271', '199'}): 0.0206324438562879, frozenset({'200', '271'}): 0.029579885046119813, frozenset({'246', '272'}): 0.04247763139702542, frozenset({'272', '243'}): 0.032021173635663355, frozenset({'312', '272'}): 0.047455015899978276, frozenset({'26', '243'}): 0.049841000217266784, frozenset({'338', '312'}): 0.026190523217918583, frozenset({'338', '729'}): 0.05216377965197812, frozenset({'271', '272'}): 0.13006379742835134, frozenset({'451', '26'}): 0.021525212822690553, frozenset({'451', '271'}): 0.014513421161784747, frozenset({'246', '312'}): 0.03856287898240139, frozenset({'729', '243'}): 0.04137944656224694, frozenset({'271', '243'}): 0.07385490529143376, frozenset({'246', '338'}): 0.019806830077623495, frozenset({'246', '243'}): 0.07346382508048747, frozenset({'451', '267'}): 0.016330561535878647, frozenset({'246', '729'}): 0.0399573367042604, frozenset({'272', '267'}): 0.1414683284283711, frozenset({'729', '272'}): 0.05563214758340082, frozenset({'451', '729'}): 0.01688755456359004, frozenset({'246', '20'}): 0.013083410693476072, frozenset({'20', '729'}): 0.03750419719923364, frozenset({'338', '243'}): 0.01815165221513362, frozenset({'20', '272'}): 0.04640423472713267, frozenset({'312', '243'}): 0.036311205040589385, frozenset({'246', '271'}): 0.09329040668391633, frozenset({'246', '26'}): 0.05722412056331352, frozenset({'20', '312'}): 0.027849651385569534, frozenset({'20', '338'}): 0.03100989551442849, frozenset({'271', '248'}): 0.012810839637361987, frozenset({'719', '267'}): 0.021086728949811374, frozenset({'243', '16'}): 0.015386438602382034, frozenset({'337', '267'}): 0.10440261510201664, frozenset({'337', '16'}): 0.016682138695214205, frozenset({'729', '37'}): 0.050800924371407694, frozenset({'3', '337'}): 0.028920184084220507, frozenset({'729', '316'}): 0.03033439333188489, frozenset({'3', '37'}): 0.022327124770388514, frozenset({'271', '316'}): 0.04787374824705209, frozenset({'23', '26'}): 0.019613265124730887, frozenset({'729', '337'}): 0.04535740385944814, frozenset({'271', '23'}): 0.0165478283197377, frozenset({'316', '337'}): 0.029828754271267455, frozenset({'271', '337'}): 0.09022496987892314, frozenset({'26', '316'}): 0.052120326295206305, frozenset({'23', '37'}): 0.011313673981315057, frozenset({'316', '37'}): 0.06354460882103143, frozenset({'23', '337'}): 0.01453712299275119, frozenset({'40', '107'}): 0.010286594639435896, frozenset({'26', '303'}): 0.018175354046100062, frozenset({'146', '267'}): 0.02639988939145549, frozenset({'40', '146'}): 0.018258310454482608, frozenset({'429', '267'}): 0.011436133441308342, frozenset({'312', '40'}): 0.06561456872543404, frozenset({'40', '272'}): 0.06516423393707164, frozenset({'425', '271'}): 0.01600268620750953, frozenset({'425', '267'}): 0.015240277311422308, frozenset({'737', '729'}): 0.016038238953959193, frozenset({'22', '272'}): 0.036836595627012185, frozenset({'425', '729'}): 0.010385352268462739, frozenset({'737', '267'}): 0.010333998301368781, frozenset({'40', '337'}): 0.05153963143652847, frozenset({'486', '482'}): 0.014240850105670663, frozenset({'186', '16'}): 0.021418554583341562, frozenset({'26', '16'}): 0.03955440557783089, frozenset({'482', '267'}): 0.01667423808489206, frozenset({'186', '482'}): 0.01608959292105315, frozenset({'40', '16'}): 0.029741847557723834, frozenset({'486', '186'}): 0.04207074996543483, frozenset({'26', '482'}): 0.016690039305536353, frozenset({'482', '40'}): 0.015635307827529678, frozenset({'486', '26'}): 0.04409330620790456, frozenset({'26', '669'}): 0.012779237196073396, frozenset({'400', '267'}): 0.010851488277469434, frozenset({'486', '267'}): 0.04838728791799166, frozenset({'486', '40'}): 0.04477670900077031, frozenset({'303', '267'}): 0.02103142467755634, frozenset({'669', '267'}): 0.015030911137885402, frozenset({'246', '254'}): 0.015749866677200814, frozenset({'267', '254'}): 0.01679669754488534, frozenset({'267', '238'}): 0.06973868731359498, frozenset({'246', '238'}): 0.03382251278911296, frozenset({'272', '254'}): 0.010468308676845286, frozenset({'243', '238'}): 0.02537281004957633, frozenset({'272', '238'}): 0.04429872207628039, frozenset({'254', '238'}): 0.012569871022536492, frozenset({'186', '272'}): 0.040846155365501985, frozenset({'542', '186'}): 0.02929941337968358, frozenset({'319', '40'}): 0.013462639988939146, frozenset({'542', '690'}): 0.016765095103596753, frozenset({'57', '729'}): 0.010969997432301645, frozenset({'731', '40'}): 0.03954650496750874, frozenset({'316', '275'}): 0.02815382488297221, frozenset({'319', '37'}): 0.011021351399395604, frozenset({'319', '272'}): 0.01742479606549606, frozenset({'542', '272'}): 0.03737778743407928, frozenset({'542', '337'}): 0.03138517450473049, frozenset({'542', '316'}): 0.01867704280155642, frozenset({'690', '37'}): 0.010725078512315077, frozenset({'271', '690'}): 0.02832368800489838, frozenset({'690', '275'}): 0.016010586817831678, frozenset({'316', '40'}): 0.02859230875585139, frozenset({'731', '690'}): 0.022157261648462344, frozenset({'690', '26'}): 0.039945485788777185, frozenset({'319', '275'}): 0.0118627663987043, frozenset({'690', '186'}): 0.010559165695549981, frozenset({'316', '272'}): 0.02359912303225424, frozenset({'729', '319'}): 0.01622785360169073, frozenset({'731', '319'}): 0.013964328744395505, frozenset({'542', '731'}): 0.04553911789685753, frozenset({'186', '337'}): 0.050026664559837244, frozenset({'542', '37'}): 0.03464417626261629, frozenset({'690', '272'}): 0.015204724564972644, frozenset({'542', '275'}): 0.031871062039542555, frozenset({'319', '26'}): 0.02655000098757629, frozenset({'542', '319'}): 0.016638685338442396, frozenset({'186', '316'}): 0.0273440123249521, frozenset({'690', '40'}): 0.015765667897845108, frozenset({'729', '690'}): 0.04514408738075016, frozenset({'271', '319'}): 0.032451756898220385, frozenset({'542', '40'}): 0.051026091765588893, frozenset({'731', '316'}): 0.02806691816942859, frozenset({'429', '26'}): 0.012384206679966028, frozenset({'312', '37'}): 0.024029706294811274, frozenset({'497', '267'}): 0.013016255505737819, frozenset({'525', '26'}): 0.01572616484623437, frozenset({'525', '271'}): 0.013233522289596872, frozenset({'316', '267'}): 0.04881392087538762, frozenset({'735', '277'}): 0.017270734164214187, frozenset({'316', '277'}): 0.02242193209425428, frozenset({'338', '316'}): 0.024989630448952183, frozenset({'456', '267'}): 0.011566493511623773, frozenset({'525', '316'}): 0.015054612968851844, frozenset({'735', '316'}): 0.012802939027039838, frozenset({'338', '277'}): 0.03293369412787138, frozenset({'525', '267'}): 0.014600327875328369, frozenset({'456', '271'}): 0.011096407197456004, frozenset({'277', '272'}): 0.033506488376227064, frozenset({'525', '37'}): 0.019273538880878547, frozenset({'3', '310'}): 0.028544905093918504, frozenset({'22', '337'}): 0.05330936814868949, frozenset({'22', '316'}): 0.01861383791897924, frozenset({'22', '310'}): 0.053775504157696184, frozenset({'316', '310'}): 0.024973829228307886, frozenset({'22', '203'}): 0.027798297418475577, frozenset({'26', '477'}): 0.01072902881747615, frozenset({'186', '203'}): 0.021805684489126786, frozenset({'477', '267'}): 0.011361077643247942, frozenset({'22', '542'}): 0.0374054395702068, frozenset({'40', '477'}): 0.010112781212348654, frozenset({'203', '40'}): 0.033147010606569355, frozenset({'192', '267'}): 0.010926544075529834, frozenset({'26', '492'}): 0.021473858855596595, frozenset({'200', '337'}): 0.01024709158782516, frozenset({'40', '13'}): 0.016263406348140393, frozenset({'200', '186'}): 0.010543364474905687, frozenset({'302', '40'}): 0.021623970451717395, frozenset({'302', '729'}): 0.017646013154516187, frozenset({'199', '40'}): 0.01527583005787197, frozenset({'40', '310'}): 0.06462304213000454, frozenset({'186', '310'}): 0.04562997491556223, frozenset({'199', '186'}): 0.012802939027039838, frozenset({'186', '13'}): 0.011704754192261352, frozenset({'337', '13'}): 0.01130577337099291, frozenset({'200', '40'}): 0.014541073297912264, frozenset({'271', '492'}): 0.013936676608267988, frozenset({'13', '267'}): 0.02587449880503269, frozenset({'302', '271'}): 0.018981216298959096, frozenset({'22', '492'}): 0.010523612949100317, frozenset({'302', '267'}): 0.02656185190305951, frozenset({'729', '492'}): 0.011341326117442572, frozenset({'26', '13'}): 0.02596140551857631, frozenset({'22', '199'}): 0.012020778605147248, frozenset({'302', '310'}): 0.010752730648442592, frozenset({'492', '267'}): 0.020245313950502677, frozenset({'200', '22'}): 0.013316478697979419, frozenset({'492', '40'}): 0.013016255505737819, frozenset({'302', '22'}): 0.011767959074838531, frozenset({'302', '26'}): 0.026980584250133322, frozenset({'449', '267'}): 0.026767267771435344, frozenset({'26', '449'}): 0.0212328902407711, frozenset({'271', '449'}): 0.019407849256355053, frozenset({'284', '381'}): 0.03789527741017994, frozenset({'271', '381'}): 0.03507870983033439, frozenset({'283', '381'}): 0.0354974421774082, frozenset({'40', '49'}): 0.012289399356100258, frozenset({'499', '267'}): 0.01446206719469079, frozenset({'338', '690'}): 0.01145588496711371, frozenset({'271', '499'}): 0.013494242430227735, frozenset({'338', '542'}): 0.02658160342886488, frozenset({'690', '267'}): 0.03788737679985779, frozenset({'690', '310'}): 0.018242509233838314, frozenset({'542', '3'}): 0.02405735843093879, frozenset({'283', '40'}): 0.05455766457958877, frozenset({'285', '272'}): 0.019356495289261096, frozenset({'285', '40'}): 0.021730628691066387, frozenset({'285', '283'}): 0.02943767406032116, frozenset({'283', '272'}): 0.046795314938078966, frozenset({'320', '284'}): 0.013517944261194178, frozenset({'203', '284'}): 0.013122913745086808, frozenset({'338', '284'}): 0.03285863832981098, frozenset({'338', '186'}): 0.027324260799146734, frozenset({'338', '203'}): 0.013273025341207608, frozenset({'320', '186'}): 0.012719982618657292, frozenset({'379', '284'}): 0.011033202314878825, frozenset({'20', '337'}): 0.06322463410298446, frozenset({'283', '337'}): 0.050804874676568766, frozenset({'246', '337'}): 0.01062237057812716, frozenset({'20', '283'}): 0.0406486401074483, frozenset({'246', '283'}): 0.029643089928696992, frozenset({'246', '186'}): 0.027186000118509156, frozenset({'246', '40'}): 0.04161251456675028, frozenset({'267', '49'}): 0.013849769894724367, frozenset({'26', '238'}): 0.025720436903750813, frozenset({'729', '238'}): 0.013024156116059966, frozenset({'26', '49'}): 0.012510616445120385, frozenset({'542', '238'}): 0.012380256374804954, frozenset({'20', '316'}): 0.024167966975448853, frozenset({'283', '37'}): 0.03801773687017322, frozenset({'316', '284'}): 0.019198483082818147, frozenset({'284', '337'}): 0.040170653182958385, frozenset({'316', '283'}): 0.023595172727093168, frozenset({'20', '284'}): 0.03270062612336803, frozenset({'284', '37'}): 0.03290209168658279, frozenset({'284', '310'}): 0.034671828398743804, frozenset({'312', '203'}): 0.031720950443421755, frozenset({'64', '267'}): 0.03319441426850224, frozenset({'26', '64'}): 0.0328704892452942, frozenset({'284', '272'}): 0.039230480554622846, frozenset({'203', '272'}): 0.024938276481858222, frozenset({'26', '497'}): 0.011432183136147267, frozenset({'312', '310'}): 0.03953465405202552, frozenset({'312', '64'}): 0.017815876276442356, frozenset({'57', '267'}): 0.010373501352979517, frozenset({'272', '64'}): 0.010606569357482866, frozenset({'186', '64'}): 0.012668628651563334, frozenset({'201', '267'}): 0.01160599656323451, frozenset({'731', '203'}): 0.016061940784925635, frozenset({'731', '64'}): 0.010183886705247981, frozenset({'310', '64'}): 0.01426850224179818, frozenset({'729', '64'}): 0.02460250054316696, frozenset({'3', '272'}): 0.0122380453890063, frozenset({'22', '64'}): 0.017495901558395387, frozenset({'244', '272'}): 0.010025874498805033, frozenset({'246', '244'}): 0.013905074166979399, frozenset({'271', '497'}): 0.010100930296865433, frozenset({'595', '267'}): 0.01525212822690553, frozenset({'271', '669'}): 0.01106085445100634, frozenset({'486', '731'}): 0.013849769894724367, frozenset({'486', '3'}): 0.012569871022536492, frozenset({'486', '271'}): 0.040470876375199985, frozenset({'486', '542'}): 0.013517944261194178, frozenset({'486', '729'}): 0.022287621718777774, frozenset({'161', '267'}): 0.013245373205080093, frozenset({'312', '337'}): 0.028098520610717177, frozenset({'337', '277'}): 0.034450611309723676, frozenset({'271', '161'}): 0.01340338541152304, frozenset({'26', '161'}): 0.011752157854194237, frozenset({'246', '37'}): 0.011333425507120425, frozenset({'285', '729'}): 0.012656777736080113, frozenset({'409', '267'}): 0.014304054988247843, frozenset({'273', '186'}): 0.012692330482529775, frozenset({'381', '267'}): 0.042576389026052264, frozenset({'283', '243'}): 0.024270674909636768, frozenset({'285', '381'}): 0.01516917181852298, frozenset({'731', '273'}): 0.016425368859744414, frozenset({'285', '271'}): 0.029078196290663452, frozenset({'273', '283'}): 0.012988603369610302, frozenset({'285', '186'}): 0.0225838946058583, frozenset({'246', '285'}): 0.012174840506429122, frozenset({'409', '271'}): 0.010650022714254677, frozenset({'246', '381'}): 0.01565900965849612, frozenset({'729', '381'}): 0.015769618203006184, frozenset({'273', '243'}): 0.01641746824942227, frozenset({'731', '243'}): 0.022248118667167038, frozenset({'246', '731'}): 0.02148966007624089, frozenset({'186', '243'}): 0.021544964348495923, frozenset({'381', '243'}): 0.011309723676153982, frozenset({'246', '273'}): 0.014955855339825002, frozenset({'186', '381'}): 0.027924707183629934, frozenset({'273', '284'}): 0.011084556281972783, frozenset({'277', '310'}): 0.04298327045764285, frozenset({'338', '273'}): 0.014631930316616958, frozenset({'20', '277'}): 0.029647040233858064, frozenset({'283', '310'}): 0.03940429398171009, frozenset({'338', '283'}): 0.043311145786011966, frozenset({'273', '277'}): 0.016449070690710856, frozenset({'319', '310'}): 0.016923107310039702, frozenset({'199', '37'}): 0.013486341819905589, frozenset({'69', '275'}): 0.010606569357482866, frozenset({'16', '275'}): 0.016808548460368562, frozenset({'20', '275'}): 0.03818759999209939, frozenset({'22', '16'}): 0.021592368010428804, frozenset({'69', '310'}): 0.012846392383811649, frozenset({'542', '312'}): 0.030737324458314404, frozenset({'271', '49'}): 0.01035374982717415, frozenset({'542', '16'}): 0.01416184400244919, frozenset({'542', '277'}): 0.026415690612099786, frozenset({'312', '16'}): 0.022872266882616683, frozenset({'312', '69'}): 0.01837681960931482, frozenset({'277', '16'}): 0.01168105236129491, frozenset({'542', '69'}): 0.010191787315570128, frozenset({'22', '69'}): 0.01834521716802623, frozenset({'271', '16'}): 0.05111299847913251, frozenset({'542', '283'}): 0.02588634972051591, frozenset({'381', '275'}): 0.013316478697979419, frozenset({'273', '40'}): 0.01813190068932825, frozenset({'542', '284'}): 0.02088131308143554, frozenset({'20', '320'}): 0.01270813170317407, frozenset({'20', '731'}): 0.027893104742341347, frozenset({'26', '381'}): 0.03008947441189832, frozenset({'273', '275'}): 0.018491378458985956, frozenset({'40', '381'}): 0.024183768196093147, frozenset({'320', '40'}): 0.015465444705603508, frozenset({'40', '284'}): 0.04678741432775682, frozenset({'20', '381'}): 0.01247111339350965, frozenset({'320', '283'}): 0.016563629540381996, frozenset({'200', '319'}): 0.011116158723261372, frozenset({'319', '267'}): 0.0313535720634419, frozenset({'594', '26'}): 0.018894309585415475, frozenset({'270', '26'}): 0.0244010349799522, frozenset({'729', '270'}): 0.012870094214778091, frozenset({'594', '267'}): 0.023121136107764326, frozenset({'270', '267'}): 0.036161093444468585, frozenset({'186', '238'}): 0.017243082028086668, frozenset({'547', '267'}): 0.013336230223784787, frozenset({'277', '243'}): 0.010681625155543266, frozenset({'243', '275'}): 0.01828201228544905, frozenset({'729', '735'}): 0.02540441249086492, frozenset({'238', '275'}): 0.010938394991013055, frozenset({'22', '486'}): 0.021355349700764383, frozenset({'246', '486'}): 0.010385352268462739, frozenset({'40', '243'}): 0.029911710679650004, frozenset({'277', '238'}): 0.010819885836180845, frozenset({'40', '238'}): 0.02585474727922732, frozenset({'338', '40'}): 0.03001441861383792, frozenset({'547', '26'}): 0.012265697525133817, frozenset({'542', '243'}): 0.01633451184103972, frozenset({'486', '275'}): 0.020525785616938907, frozenset({'312', '238'}): 0.019486855359576526, frozenset({'246', '275'}): 0.019494755969898674, frozenset({'338', '238'}): 0.011669201445811688, frozenset({'338', '319'}): 0.014205297359221, frozenset({'246', '542'}): 0.017484050642912165, frozenset({'486', '338'}): 0.013438938157972704, frozenset({'312', '319'}): 0.012735783839301585, frozenset({'547', '729'}): 0.010057476940093622, frozenset({'542', '735'}): 0.014710936419838432, frozenset({'22', '338'}): 0.021363250311086532, frozenset({'486', '312'}): 0.020853660945308026, frozenset({'486', '277'}): 0.014584526654684075, frozenset({'319', '277'}): 0.011052953840684193, frozenset({'22', '243'}): 0.023812439510952223, frozenset({'22', '319'}): 0.010930494380690908, frozenset({'246', '22'}): 0.027466471784945386, frozenset({'382', '267'}): 0.010902842244563393, frozenset({'246', '277'}): 0.012680479567046554, frozenset({'22', '238'}): 0.012494815224476092, frozenset({'115', '275'}): 0.013762863181180746, frozenset({'22', '690'}): 0.012309150881905628, frozenset({'310', '449'}): 0.011890418534831816, frozenset({'277', '64'}): 0.0101957376207312, frozenset({'10', '267'}): 0.015635307827529678, frozenset({'312', '449'}): 0.01087914041359695, frozenset({'690', '312'}): 0.015271879752710897, frozenset({'271', '64'}): 0.02475261213928776, frozenset({'271', '10'}): 0.010551265085227834, frozenset({'115', '267'}): 0.023642576389026053, frozenset({'64', '275'}): 0.01665448655908669, frozenset({'273', '312'}): 0.023172490074858283, frozenset({'271', '115'}): 0.02063639416144897, frozenset({'22', '273'}): 0.017883031464180608, frozenset({'115', '272'}): 0.01014043334847617, frozenset({'337', '115'}): 0.010116731517509728, frozenset({'449', '275'}): 0.016358213672006162, frozenset({'272', '16'}): 0.02589425033083806, frozenset({'594', '275'}): 0.010093029686543286, frozenset({'20', '64'}): 0.011266270319382172, frozenset({'26', '10'}): 0.014525272077267969, frozenset({'542', '64'}): 0.010602619052321792, frozenset({'338', '16'}): 0.013984080270200873, frozenset({'22', '449'}): 0.011740306938711016, frozenset({'337', '64'}): 0.013273025341207608, frozenset({'26', '115'}): 0.025775741176005847, frozenset({'115', '310'}): 0.0157222145410733, frozenset({'542', '115'}): 0.010571016611033202, frozenset({'273', '272'}): 0.021303995733670426, frozenset({'273', '319'}): 0.011400580694858678, frozenset({'547', '271'}): 0.010416954709751328, frozenset({'381', '272'}): 0.01821880740287187, frozenset({'271', '114'}): 0.010610519662643939, frozenset({'114', '267'}): 0.013391534496039819, frozenset({'271', '105'}): 0.010179936400086907, frozenset({'105', '310'}): 0.015279780363033044, frozenset({'3', '40'}): 0.03767011001599874, frozenset({'105', '267'}): 0.013320429003140493, frozenset({'203', '337'}): 0.011870667009026448, frozenset({'26', '146'}): 0.020758853621442256, frozenset({'20', '203'}): 0.012885895435422387, frozenset({'15', '267'}): 0.017420845760334987, frozenset({'15', '16'}): 0.01352189456635525, frozenset({'729', '16'}): 0.021221039325287877, frozenset({'26', '15'}): 0.010796184005214402, frozenset({'203', '277'}): 0.01681249876552964, frozenset({'203', '37'}): 0.016840150901657153, frozenset({'271', '203'}): 0.04690592348258903, frozenset({'246', '203'}): 0.015311382804321634, frozenset({'203', '283'}): 0.015220525785616938, frozenset({'283', '238'}): 0.017215429891959153, frozenset({'594', '40'}): 0.01160599656323451, frozenset({'203', '238'}): 0.012885895435422387, frozenset({'246', '284'}): 0.025037034110885065, frozenset({'284', '238'}): 0.016520176183610184, frozenset({'320', '319'}): 0.014533172687590116, frozenset({'729', '321'}): 0.016524126488771256, frozenset({'270', '277'}): 0.012368405459321732, frozenset({'731', '425'}): 0.011475636492919078, frozenset({'320', '316'}): 0.01431195559856999, frozenset({'425', '316'}): 0.011100357502617076, frozenset({'321', '275'}): 0.0101206818226708, frozenset({'320', '277'}): 0.018341266862865156, frozenset({'542', '270'}): 0.013032056726382113, frozenset({'731', '321'}): 0.017503802168717532, frozenset({'320', '270'}): 0.016844101206818226, frozenset({'270', '319'}): 0.011471686187758004, frozenset({'425', '37'}): 0.012905646961227755, frozenset({'270', '271'}): 0.035766062928361216, frozenset({'731', '270'}): 0.010337948606529854, frozenset({'277', '321'}): 0.011945722807086848, frozenset({'273', '321'}): 0.010748780343281519, frozenset({'284', '243'}): 0.020265065476308044, frozenset({'270', '283'}): 0.010266843113630528, frozenset({'257', '267'}): 0.01520077425981157, frozenset({'270', '312'}): 0.0146556321475834, frozenset({'271', '262'}): 0.012024728910308322, frozenset({'486', '283'}): 0.030322542416401668, frozenset({'312', '321'}): 0.010381401963301664, frozenset({'320', '243'}): 0.011475636492919078, frozenset({'283', '321'}): 0.011021351399395604, frozenset({'486', '284'}): 0.02595350490825416, frozenset({'271', '257'}): 0.013004404590254598, frozenset({'486', '272'}): 0.01877185012542219, frozenset({'320', '312'}): 0.015181022734006202, frozenset({'237', '267'}): 0.012597523158664007, frozenset({'338', '270'}): 0.010768531869086887, frozenset({'270', '272'}): 0.017270734164214187, frozenset({'270', '243'}): 0.011001599873590236, frozenset({'271', '237'}): 0.014165794307610263, frozenset({'26', '321'}): 0.02225996958265026, frozenset({'272', '321'}): 0.015236327006261234, frozenset({'243', '321'}): 0.011183313910999625, frozenset({'310', '238'}): 0.01296490153864386, frozenset({'22', '529'}): 0.012083983487724426, frozenset({'338', '529'}): 0.014114440340516305, frozenset({'203', '243'}): 0.014801793438543128, frozenset({'529', '203'}): 0.011744257243872088, frozenset({'529', '186'}): 0.023887495309012623, frozenset({'246', '529'}): 0.013126864050247882, frozenset({'529', '243'}): 0.012155088980623754, frozenset({'529', '26'}): 0.02571648659858974, frozenset({'529', '312'}): 0.01848347784866381, frozenset({'271', '529'}): 0.03049635584348891, frozenset({'529', '267'}): 0.03560805072191827, frozenset({'735', '284'}): 0.012004977384502952, frozenset({'20', '735'}): 0.01175610815935531, frozenset({'735', '283'}): 0.015572102944952497, frozenset({'271', '254'}): 0.01310316221928144, frozenset({'246', '270'}): 0.012451361867704281, frozenset({'337', '381'}): 0.012644926820596892, frozenset({'285', '337'}): 0.01296490153864386, frozenset({'22', '285'}): 0.011365027948409014, frozenset({'285', '275'}): 0.010705326986509708, frozenset({'285', '284'}): 0.0247012581721938, frozenset({'285', '20'}): 0.014596377570167296, frozenset({'381', '37'}): 0.011187264216160698, frozenset({'22', '381'}): 0.012064231961919058, frozenset({'285', '310'}): 0.01101740109423453, frozenset({'285', '26'}): 0.02713859645657627, frozenset({'381', '310'}): 0.013529795176677399, frozenset({'40', '449'}): 0.01125441940389895, frozenset({'317', '26'}): 0.016298959094590056, frozenset({'317', '267'}): 0.020300618222757708, frozenset({'40', '719'}): 0.01189436883999289, frozenset({'26', '719'}): 0.014691184894033064, frozenset({'22', '270'}): 0.010823836141341919, frozenset({'270', '203'}): 0.013383633885717672, frozenset({'270', '238'}): 0.011293922455509689, frozenset({'271', '482'}): 0.012917497876710976, frozenset({'270', '40'}): 0.016061940784925635, frozenset({'486', '203'}): 0.010543364474905687, frozenset({'283', '13'}): 0.011989176163858658, frozenset({'270', '186'}): 0.01074087973295937, frozenset({'26', '368'}): 0.010164135179442611, frozenset({'302', '312'}): 0.012095834403207648, frozenset({'300', '267'}): 0.01014043334847617, frozenset({'40', '64'}): 0.02252859033360327, frozenset({'379', '283'}): 0.012510616445120385, frozenset({'379', '271'}): 0.029568034130636592, frozenset({'379', '272'}): 0.019095775148630232, frozenset({'271', '528'}): 0.012348653933516364, frozenset({'20', '486'}): 0.01815165221513362, frozenset({'186', '530'}): 0.014422564143080054, frozenset({'486', '337'}): 0.020695648738865077, frozenset({'379', '40'}): 0.014576626044361926, frozenset({'529', '272'}): 0.02068774812854293, frozenset({'529', '275'}): 0.013525844871516325, frozenset({'379', '26'}): 0.014971656560469296, frozenset({'530', '272'}): 0.019107626064113453, frozenset({'529', '310'}): 0.010539414169744613, frozenset({'527', '267'}): 0.014955855339825002, frozenset({'530', '284'}): 0.014272452546959252, frozenset({'529', '283'}): 0.02472100969799917, frozenset({'285', '312'}): 0.01189436883999289, frozenset({'26', '530'}): 0.018957514467992653, frozenset({'285', '486'}): 0.010480159592328507, frozenset({'529', '337'}): 0.010160184874281539, frozenset({'486', '37'}): 0.020916865827885205, frozenset({'530', '40'}): 0.018542732426079914, frozenset({'271', '527'}): 0.014426514448241126, frozenset({'312', '530'}): 0.013786565012147188, frozenset({'486', '529'}): 0.013043907641865334, frozenset({'267', '528'}): 0.013549546702482767, frozenset({'486', '310'}): 0.018918011416381917, frozenset({'529', '40'}): 0.01846372632285844, frozenset({'529', '284'}): 0.02202690157814691, frozenset({'379', '267'}): 0.027762744672025913, frozenset({'529', '530'}): 0.012877994825100238, frozenset({'529', '277'}): 0.010977898042623793, frozenset({'530', '283'}): 0.0161725493294357, frozenset({'527', '283'}): 0.01102925200971775, frozenset({'271', '192'}): 0.010788283394892255, frozenset({'22', '495'}): 0.012771336585751249, frozenset({'542', '495'}): 0.011578344427106995, frozenset({'271', '303'}): 0.015528649588180687, frozenset({'729', '303'}): 0.013612751585059946, frozenset({'451', '731'}): 0.013679906772798199, frozenset({'527', '316'}): 0.01068557546070434, frozenset({'729', '527'}): 0.010827786446502992, frozenset({'37', '115'}): 0.010776432479409034, frozenset({'729', '529'}): 0.014501570246301526, frozenset({'310', '243'}): 0.02135930000592546, frozenset({'246', '310'}): 0.024638053289616622, frozenset({'246', '320'}): 0.01076063125876474, frozenset({'312', '303'}): 0.010764581563925813, frozenset({'40', '321'}): 0.010452507456200992, frozenset({'20', '238'}): 0.01569456240494578, frozenset({'312', '719'}): 0.010752730648442592, frozenset({'317', '312'}): 0.011408481305180825, frozenset({'244', '238'}): 0.010349799522013075, frozenset({'729', '449'}): 0.011669201445811688, frozenset({'113', '267'}): 0.013869521420529735, frozenset({'729', '495'}): 0.012348653933516364, frozenset({'729', '719'}): 0.01086728949811373, frozenset({'271', '719'}): 0.017021864939066544, frozenset({'729', '114'}): 0.010776432479409034, frozenset({'188', '267'}): 0.010294495249758043, frozenset({'20', '3'}): 0.021556815263979144, frozenset({'451', '542'}): 0.010349799522013075, frozenset({'425', '26'}): 0.015817021864939065, frozenset({'737', '26'}): 0.014548973908234411, frozenset({'203', '16'}): 0.010894941634241245, frozenset({'379', '238'}): 0.010262892808469454, frozenset({'529', '238'}): 0.010385352268462739, frozenset({'13', '275'}): 0.01071717790199293, frozenset({'317', '272'}): 0.010618420272966087, frozenset({'495', '40'}): 0.015666910268818265, frozenset({'729', '115'}): 0.020616642635643605, frozenset({'731', '529'}): 0.011740306938711016, frozenset({'246', '16'}): 0.020114953880187244, frozenset({'16', '238'}): 0.01650437496296589, frozenset({'283', '16'}): 0.019206383693140296, frozenset({'731', '115'}): 0.013233522289596872, frozenset({'200', '270'}): 0.0101206818226708, frozenset({'203', '275'}): 0.01855853364672421, frozenset({'409', '26'}): 0.010436706235556696, frozenset({'271', '188'}): 0.011128009638744593, frozenset({'37', '64'}): 0.013660155246992831, frozenset({'186', '69'}): 0.012143238065140533, frozenset({'203', '69'}): 0.0100456260246104, frozenset({'270', '310'}): 0.013545596397321693, frozenset({'186', '449'}): 0.010337948606529854, frozenset({'20', '270'}): 0.010010073278160739, frozenset({'200', '37'}): 0.014319856208892137, frozenset({'729', '317'}): 0.012629125599952596, frozenset({'271', '317'}): 0.01732998874163029, frozenset({'530', '238'}): 0.012415809121254617, frozenset({'690', '283'}): 0.011384779474214382, frozenset({'690', '243'}): 0.011404531000019752, frozenset({'248', '238'}): 0.011519089849690889, frozenset({'246', '530'}): 0.012747634754784807, frozenset({'285', '338'}): 0.011120109028422446, frozenset({'22', '23'}): 0.021118331391099962, frozenset({'338', '381'}): 0.010887041023919098, frozenset({'203', '530'}): 0.011617847478717731, frozenset({'271', '15'}): 0.014363309565663947, frozenset({'338', '425'}): 0.01059076813683857, frozenset({'478', '267'}): 0.010488060202650655, frozenset({'40', '115'}): 0.011542791680657331, frozenset({'20', '23'}): 0.011037152620039898, frozenset({'23', '267'}): 0.016832250291335005, frozenset({'312', '381'}): 0.012561970412214343, frozenset({'312', '316'}): 0.014157893697288116, frozenset({'284', '16'}): 0.01774477078354303, frozenset({'486', '381'}): 0.01226964783029489, frozenset({'525', '40'}): 0.010369551047818445, frozenset({'731', '16'}): 0.012988603369610302, frozenset({'284', '13'}): 0.010310296470402339, frozenset({'37', '16'}): 0.014888700152086749, frozenset({'486', '316'}): 0.010634221493610381, frozenset({'246', '690'}): 0.010863339192952655, frozenset({'203', '316'}): 0.012368405459321732}\n"
     ]
    }
   ],
   "source": []
  },
  {
   "cell_type": "code",
   "execution_count": 20,
   "metadata": {},
   "outputs": [],
   "source": [
    "C3 = create_Ck(L2, 3)"
   ]
  },
  {
   "cell_type": "code",
   "execution_count": 22,
   "metadata": {},
   "outputs": [
    {
     "name": "stdout",
     "output_type": "stream",
     "text": [
      "5738\n"
     ]
    }
   ],
   "source": [
    "print(len(C3))"
   ]
  },
  {
   "cell_type": "code",
   "execution_count": 23,
   "metadata": {},
   "outputs": [],
   "source": [
    "L3, support_data3 = generate_Lk_by_Ck(inte_list, C3, 0.01, {})"
   ]
  },
  {
   "cell_type": "code",
   "execution_count": 24,
   "metadata": {},
   "outputs": [
    {
     "name": "stdout",
     "output_type": "stream",
     "text": [
      "2543\n",
      "{frozenset({'26', '40', '272'}), frozenset({'729', '735', '26'}), frozenset({'285', '283', '381'}), frozenset({'186', '277', '267'}), frozenset({'283', '40', '381'}), frozenset({'20', '312', '186'}), frozenset({'690', '310', '267'}), frozenset({'26', '542', '203'}), frozenset({'486', '40', '277'}), frozenset({'22', '338', '283'}), frozenset({'690', '26', '275'}), frozenset({'729', '69', '267'}), frozenset({'271', '690', '310'}), frozenset({'486', '26', '272'}), frozenset({'20', '735', '267'}), frozenset({'317', '272', '267'}), frozenset({'729', '26', '272'}), frozenset({'320', '731', '271'}), frozenset({'267', '530', '238'}), frozenset({'20', '729', '731'}), frozenset({'26', '283', '530'}), frozenset({'283', '310', '337'}), frozenset({'542', '271', '690'}), frozenset({'243', '26', '267'}), frozenset({'271', '312', '316'}), frozenset({'186', '283', '272'}), frozenset({'312', '40', '243'}), frozenset({'320', '338', '271'}), frozenset({'275', '26', '64'}), frozenset({'338', '690', '267'}), frozenset({'186', '40', '337'}), frozenset({'246', '22', '267'}), frozenset({'20', '729', '542'}), frozenset({'731', '316', '542'}), frozenset({'729', '310', '275'}), frozenset({'542', '310', '275'}), frozenset({'731', '26', '267'}), frozenset({'22', '542', '310'}), frozenset({'542', '283', '275'}), frozenset({'486', '337', '37'}), frozenset({'267', '690', '275'}), frozenset({'338', '26', '283'}), frozenset({'285', '283', '337'}), frozenset({'338', '283', '337'}), frozenset({'285', '26', '283'}), frozenset({'337', '16', '267'}), frozenset({'3', '271', '267'}), frozenset({'338', '272', '243'}), frozenset({'320', '271', '272'}), frozenset({'338', '283', '277'}), frozenset({'529', '26', '272'}), frozenset({'729', '40', '69'}), frozenset({'338', '26', '277'}), frozenset({'20', '26', '272'}), frozenset({'285', '381', '267'}), frozenset({'186', '203', '40'}), frozenset({'316', '284', '275'}), frozenset({'319', '271', '26'}), frozenset({'337', '272', '267'}), frozenset({'486', '482', '40'}), frozenset({'22', '272', '243'}), frozenset({'186', '26', '64'}), frozenset({'285', '271', '381'}), frozenset({'271', '316', '40'}), frozenset({'312', '26', '275'}), frozenset({'26', '283', '310'}), frozenset({'271', '337', '272'}), frozenset({'22', '316', '337'}), frozenset({'319', '26', '267'}), frozenset({'186', '337', '37'}), frozenset({'310', '277', '272'}), frozenset({'283', '277', '272'}), frozenset({'729', '64', '275'}), frozenset({'22', '271', '312'}), frozenset({'22', '302', '26'}), frozenset({'731', '267', '275'}), frozenset({'270', '312', '267'}), frozenset({'529', '26', '275'}), frozenset({'338', '40', '37'}), frozenset({'22', '381', '267'}), frozenset({'246', '267', '248'}), frozenset({'285', '283', '267'}), frozenset({'246', '731', '271'}), frozenset({'338', '337', '267'}), frozenset({'285', '26', '267'}), frozenset({'731', '271', '275'}), frozenset({'20', '271', '272'}), frozenset({'729', '731', '243'}), frozenset({'486', '729', '40'}), frozenset({'275', '542', '267'}), frozenset({'482', '186', '40'}), frozenset({'338', '271', '337'}), frozenset({'285', '271', '26'}), frozenset({'312', '277', '310'}), frozenset({'243', '186', '267'}), frozenset({'186', '64', '267'}), frozenset({'40', '337', '272'}), frozenset({'203', '284', '267'}), frozenset({'486', '482', '267'}), frozenset({'312', '337', '267'}), frozenset({'26', '40', '267'}), frozenset({'337', '310', '267'}), frozenset({'271', '186', '243'}), frozenset({'271', '492', '267'}), frozenset({'729', '735', '310'}), frozenset({'20', '731', '277'}), frozenset({'729', '26', '64'}), frozenset({'542', '731', '37'}), frozenset({'277', '310', '267'}), frozenset({'22', '338', '271'}), frozenset({'338', '40', '277'}), frozenset({'20', '40', '272'}), frozenset({'542', '271', '283'}), frozenset({'22', '338', '267'}), frozenset({'320', '271', '40'}), frozenset({'542', '729', '267'}), frozenset({'22', '729', '731'}), frozenset({'542', '310', '267'}), frozenset({'731', '37', '277'}), frozenset({'20', '267', '64'}), frozenset({'542', '40', '275'}), frozenset({'542', '271', '277'}), frozenset({'275', '3', '267'}), frozenset({'20', '271', '316'}), frozenset({'40', '381', '267'}), frozenset({'186', '283', '277'}), frozenset({'273', '26', '275'}), frozenset({'22', '40', '284'}), frozenset({'186', '283', '337'}), frozenset({'271', '337', '284'}), frozenset({'243', '267', '275'}), frozenset({'271', '316', '272'}), frozenset({'312', '186', '310'}), frozenset({'312', '337', '272'}), frozenset({'337', '284', '267'}), frozenset({'275', '271', '243'}), frozenset({'203', '40', '272'}), frozenset({'317', '312', '267'}), frozenset({'20', '26', '64'}), frozenset({'729', '26', '321'}), frozenset({'283', '337', '381'}), frozenset({'542', '271', '186'}), frozenset({'22', '338', '26'}), frozenset({'20', '284', '310'}), frozenset({'542', '316', '267'}), frozenset({'690', '312', '267'}), frozenset({'425', '26', '267'}), frozenset({'542', '203', '40'}), frozenset({'731', '729', '310'}), frozenset({'22', '338', '272'}), frozenset({'379', '271', '267'}), frozenset({'271', '690', '26'}), frozenset({'486', '283', '337'}), frozenset({'26', '499', '267'}), frozenset({'731', '735', '283'}), frozenset({'22', '3', '40'}), frozenset({'729', '337', '275'}), frozenset({'20', '338', '337'}), frozenset({'285', '20', '26'}), frozenset({'246', '271', '203'}), frozenset({'273', '277', '267'}), frozenset({'246', '22', '312'}), frozenset({'271', '203', '272'}), frozenset({'271', '317', '26'}), frozenset({'729', '283', '277'}), frozenset({'271', '316', '275'}), frozenset({'271', '310', '273'}), frozenset({'20', '338', '277'}), frozenset({'271', '203', '40'}), frozenset({'20', '542', '275'}), frozenset({'22', '26', '310'}), frozenset({'316', '283', '37'}), frozenset({'246', '271', '272'}), frozenset({'273', '283', '267'}), frozenset({'203', '40', '267'}), frozenset({'271', '735', '275'}), frozenset({'284', '272', '337'}), frozenset({'731', '310', '267'}), frozenset({'729', '37', '277'}), frozenset({'22', '542', '26'}), frozenset({'731', '271', '277'}), frozenset({'26', '381', '267'}), frozenset({'542', '337', '37'}), frozenset({'729', '381', '267'}), frozenset({'271', '267', '254'}), frozenset({'690', '26', '40'}), frozenset({'20', '729', '26'}), frozenset({'731', '271', '337'}), frozenset({'22', '20', '284'}), frozenset({'20', '271', '267'}), frozenset({'486', '283', '37'}), frozenset({'26', '321', '267'}), frozenset({'271', '26', '381'}), frozenset({'20', '277', '310'}), frozenset({'338', '271', '273'}), frozenset({'20', '186', '316'}), frozenset({'271', '40', '13'}), frozenset({'20', '283', '272'}), frozenset({'529', '283', '272'}), frozenset({'246', '338', '271'}), frozenset({'271', '530', '529'}), frozenset({'26', '203', '272'}), frozenset({'22', '284', '272'}), frozenset({'312', '284', '267'}), frozenset({'20', '542', '272'}), frozenset({'186', '337', '275'}), frozenset({'271', '319', '40'}), frozenset({'271', '495', '26'}), frozenset({'272', '310', '267'}), frozenset({'22', '283', '275'}), frozenset({'37', '272', '275'}), frozenset({'729', '310', '243'}), frozenset({'731', '312', '272'}), frozenset({'338', '319', '267'}), frozenset({'729', '203', '542'}), frozenset({'285', '271', '272'}), frozenset({'731', '40', '310'}), frozenset({'22', '729', '338'}), frozenset({'731', '271', '37'}), frozenset({'731', '310', '272'}), frozenset({'731', '26', '277'}), frozenset({'69', '310', '267'}), frozenset({'285', '40', '267'}), frozenset({'542', '312', '272'}), frozenset({'529', '312', '267'}), frozenset({'22', '267', '486'}), frozenset({'542', '271', '37'}), frozenset({'312', '37', '275'}), frozenset({'729', '312', '337'}), frozenset({'338', '731', '312'}), frozenset({'186', '40', '275'}), frozenset({'486', '731', '26'}), frozenset({'486', '529', '267'}), frozenset({'22', '186', '275'}), frozenset({'271', '530', '40'}), frozenset({'40', '310', '272'}), frozenset({'312', '203', '26'}), frozenset({'20', '542', '271'}), frozenset({'271', '316', '277'}), frozenset({'312', '186', '203'}), frozenset({'271', '283', '275'}), frozenset({'271', '312', '310'}), frozenset({'275', '37', '267'}), frozenset({'275', '273', '267'}), frozenset({'271', '26', '13'}), frozenset({'200', '542', '267'}), frozenset({'731', '271', '40'}), frozenset({'731', '277', '275'}), frozenset({'731', '26', '37'}), frozenset({'320', '26', '284'}), frozenset({'271', '529', '186'}), frozenset({'729', '731', '275'}), frozenset({'486', '40', '284'}), frozenset({'22', '26', '16'}), frozenset({'3', '40', '283'}), frozenset({'731', '40', '267'}), frozenset({'26', '731', '186'}), frozenset({'486', '40', '275'}), frozenset({'200', '542', '271'}), frozenset({'271', '69', '267'}), frozenset({'529', '186', '267'}), frozenset({'246', '542', '26'}), frozenset({'3', '26', '40'}), frozenset({'729', '40', '283'}), frozenset({'275', '64', '267'}), frozenset({'271', '284', '267'}), frozenset({'271', '530', '267'}), frozenset({'729', '37', '272'}), frozenset({'312', '186', '275'}), frozenset({'303', '40', '267'}), frozenset({'284', '337', '277'}), frozenset({'320', '338', '26'}), frozenset({'275', '271', '64'}), frozenset({'271', '186', '283'}), frozenset({'26', '316', '267'}), frozenset({'246', '284', '272'}), frozenset({'22', '271', '13'}), frozenset({'731', '186', '267'}), frozenset({'3', '186', '283'}), frozenset({'542', '26', '243'}), frozenset({'486', '40', '272'}), frozenset({'246', '271', '381'}), frozenset({'731', '316', '275'}), frozenset({'731', '271', '186'}), frozenset({'731', '316', '267'}), frozenset({'186', '40', '69'}), frozenset({'246', '381', '267'}), frozenset({'20', '729', '37'}), frozenset({'320', '338', '267'}), frozenset({'312', '203', '40'}), frozenset({'20', '731', '271'}), frozenset({'284', '272', '310'}), frozenset({'22', '271', '246'}), frozenset({'302', '22', '267'}), frozenset({'338', '271', '16'}), frozenset({'271', '40', '284'}), frozenset({'283', '186', '40'}), frozenset({'20', '731', '267'}), frozenset({'22', '312', '26'}), frozenset({'20', '3', '26'}), frozenset({'20', '338', '729'}), frozenset({'26', '271', '203'}), frozenset({'729', '283', '275'}), frozenset({'595', '271', '267'}), frozenset({'26', '316', '40'}), frozenset({'729', '26', '243'}), frozenset({'271', '238', '16'}), frozenset({'731', '186', '40'}), frozenset({'486', '26', '275'}), frozenset({'320', '272', '267'}), frozenset({'3', '729', '26'}), frozenset({'731', '735', '316'}), frozenset({'271', '199', '26'}), frozenset({'338', '283', '310'}), frozenset({'271', '381', '310'}), frozenset({'20', '37', '275'}), frozenset({'271', '529', '267'}), frozenset({'731', '271', '729'}), frozenset({'22', '203', '272'}), frozenset({'729', '186', '337'}), frozenset({'316', '40', '267'}), frozenset({'26', '449', '275'}), frozenset({'284', '277', '275'}), frozenset({'320', '731', '26'}), frozenset({'20', '731', '26'}), frozenset({'729', '186', '277'}), frozenset({'22', '271', '316'}), frozenset({'22', '312', '267'}), frozenset({'26', '449', '267'}), frozenset({'729', '271', '243'}), frozenset({'20', '731', '272'}), frozenset({'495', '26', '310'}), frozenset({'271', '272', '267'}), frozenset({'271', '40', '337'}), frozenset({'530', '283', '267'}), frozenset({'20', '3', '271'}), frozenset({'542', '312', '310'}), frozenset({'320', '735', '26'}), frozenset({'482', '186', '26'}), frozenset({'338', '40', '267'}), frozenset({'285', '310', '267'}), frozenset({'731', '37', '275'}), frozenset({'26', '283', '16'}), frozenset({'338', '729', '316'}), frozenset({'20', '312', '267'}), frozenset({'271', '312', '337'}), frozenset({'22', '594', '312'}), frozenset({'729', '271', '37'}), frozenset({'22', '186', '37'}), frozenset({'271', '735', '267'}), frozenset({'246', '283', '284'}), frozenset({'729', '40', '243'}), frozenset({'267', '272', '238'}), frozenset({'246', '40', '267'}), frozenset({'246', '26', '283'}), frozenset({'729', '316', '283'}), frozenset({'3', '731', '26'}), frozenset({'729', '735', '277'}), frozenset({'40', '272', '267'}), frozenset({'729', '37', '267'}), frozenset({'273', '26', '272'}), frozenset({'275', '319', '267'}), frozenset({'37', '310', '337'}), frozenset({'530', '186', '267'}), frozenset({'271', '283', '310'}), frozenset({'271', '272', '238'}), frozenset({'735', '26', '284'}), frozenset({'729', '735', '283'}), frozenset({'26', '40', '37'}), frozenset({'542', '271', '729'}), frozenset({'312', '186', '486'}), frozenset({'320', '283', '284'}), frozenset({'731', '37', '310'}), frozenset({'542', '277', '267'}), frozenset({'20', '316', '267'}), frozenset({'284', '272', '381'}), frozenset({'285', '271', '284'}), frozenset({'542', '40', '284'}), frozenset({'542', '273', '26'}), frozenset({'542', '271', '238'}), frozenset({'20', '312', '337'}), frozenset({'425', '271', '267'}), frozenset({'243', '542', '267'}), frozenset({'729', '690', '26'}), frozenset({'22', '271', '337'}), frozenset({'319', '312', '26'}), frozenset({'267', '283', '243'}), frozenset({'283', '40', '337'}), frozenset({'594', '729', '267'}), frozenset({'22', '337', '267'}), frozenset({'735', '26', '275'}), frozenset({'22', '40', '272'}), frozenset({'271', '310', '243'}), frozenset({'283', '40', '277'}), frozenset({'22', '273', '267'}), frozenset({'186', '37', '267'}), frozenset({'729', '40', '16'}), frozenset({'425', '271', '26'}), frozenset({'20', '22', '312'}), frozenset({'486', '283', '310'}), frozenset({'20', '729', '275'}), frozenset({'486', '271', '267'}), frozenset({'26', '731', '203'}), frozenset({'542', '284', '267'}), frozenset({'338', '203', '267'}), frozenset({'486', '26', '337'}), frozenset({'271', '40', '64'}), frozenset({'316', '40', '272'}), frozenset({'271', '40', '243'}), frozenset({'26', '37', '64'}), frozenset({'22', '26', '277'}), frozenset({'243', '271', '238'}), frozenset({'246', '272', '267'}), frozenset({'525', '316', '37'}), frozenset({'271', '283', '273'}), frozenset({'302', '729', '40'}), frozenset({'729', '316', '275'}), frozenset({'320', '731', '310'}), frozenset({'729', '283', '37'}), frozenset({'186', '337', '272'}), frozenset({'40', '64', '267'}), frozenset({'37', '277', '275'}), frozenset({'243', '40', '267'}), frozenset({'22', '26', '275'}), frozenset({'22', '26', '283'}), frozenset({'243', '246', '267'}), frozenset({'20', '381', '267'}), frozenset({'530', '283', '272'}), frozenset({'302', '40', '267'}), frozenset({'246', '729', '272'}), frozenset({'26', '115', '310'}), frozenset({'320', '26', '321'}), frozenset({'22', '26', '486'}), frozenset({'729', '16', '267'}), frozenset({'20', '272', '238'}), frozenset({'338', '273', '267'}), frozenset({'270', '26', '272'}), frozenset({'186', '40', '381'}), frozenset({'320', '271', '203'}), frozenset({'40', '13', '267'}), frozenset({'246', '338', '267'}), frozenset({'731', '203', '267'}), frozenset({'20', '283', '277'}), frozenset({'320', '338', '731'}), frozenset({'20', '26', '277'}), frozenset({'20', '272', '310'}), frozenset({'731', '271', '203'}), frozenset({'729', '26', '337'}), frozenset({'40', '337', '37'}), frozenset({'284', '310', '37'}), frozenset({'22', '40', '243'}), frozenset({'246', '40', '272'}), frozenset({'312', '26', '267'}), frozenset({'302', '271', '267'}), frozenset({'729', '203', '310'}), frozenset({'729', '284', '310'}), frozenset({'542', '731', '40'}), frozenset({'22', '316', '37'}), frozenset({'22', '186', '26'}), frozenset({'200', '271', '267'}), frozenset({'246', '310', '267'}), frozenset({'729', '283', '284'}), frozenset({'22', '595', '267'}), frozenset({'37', '272', '310'}), frozenset({'273', '312', '40'}), frozenset({'186', '316', '337'}), frozenset({'312', '40', '37'}), frozenset({'312', '271', '26'}), frozenset({'283', '37', '272'}), frozenset({'312', '542', '26'}), frozenset({'246', '542', '267'}), frozenset({'26', '337', '16'}), frozenset({'22', '271', '486'}), frozenset({'271', '283', '529'}), frozenset({'542', '37', '267'}), frozenset({'731', '277', '310'}), frozenset({'3', '337', '37'}), frozenset({'271', '146', '267'}), frozenset({'320', '729', '272'}), frozenset({'246', '542', '271'}), frozenset({'486', '186', '37'}), frozenset({'20', '271', '337'}), frozenset({'320', '186', '267'}), frozenset({'20', '272', '275'}), frozenset({'20', '271', '277'}), frozenset({'338', '37', '310'}), frozenset({'20', '338', '267'}), frozenset({'186', '284', '267'}), frozenset({'495', '26', '40'}), frozenset({'729', '267', '275'}), frozenset({'22', '267', '243'}), frozenset({'486', '3', '267'}), frozenset({'542', '690', '729'}), frozenset({'271', '316', '310'}), frozenset({'40', '283', '272'}), frozenset({'246', '283', '40'}), frozenset({'338', '731', '277'}), frozenset({'22', '312', '186'}), frozenset({'542', '731', '337'}), frozenset({'186', '271', '26'}), frozenset({'316', '283', '267'}), frozenset({'337', '277', '275'}), frozenset({'338', '731', '337'}), frozenset({'20', '731', '37'}), frozenset({'316', '310', '267'}), frozenset({'338', '283', '542'}), frozenset({'312', '381', '267'}), frozenset({'338', '271', '186'}), frozenset({'20', '729', '312'}), frozenset({'731', '316', '283'}), frozenset({'542', '40', '37'}), frozenset({'690', '26', '272'}), frozenset({'542', '273', '310'}), frozenset({'338', '271', '316'}), frozenset({'731', '284', '310'}), frozenset({'271', '312', '16'}), frozenset({'731', '316', '277'}), frozenset({'186', '283', '381'}), frozenset({'338', '729', '40'}), frozenset({'3', '40', '310'}), frozenset({'3', '186', '267'}), frozenset({'729', '284', '381'}), frozenset({'271', '203', '37'}), frozenset({'22', '312', '277'}), frozenset({'246', '284', '243'}), frozenset({'271', '303', '40'}), frozenset({'26', '284', '40'}), frozenset({'729', '271', '272'}), frozenset({'735', '283', '272'}), frozenset({'486', '3', '40'}), frozenset({'22', '312', '283'}), frozenset({'246', '272', '243'}), frozenset({'22', '283', '310'}), frozenset({'729', '272', '267'}), frozenset({'316', '283', '40'}), frozenset({'729', '312', '243'}), frozenset({'735', '277', '272'}), frozenset({'316', '283', '272'}), frozenset({'486', '26', '310'}), frozenset({'271', '690', '272'}), frozenset({'731', '271', '316'}), frozenset({'338', '729', '271'}), frozenset({'731', '284', '275'}), frozenset({'320', '26', '277'}), frozenset({'22', '271', '16'}), frozenset({'338', '729', '267'}), frozenset({'246', '729', '26'}), frozenset({'486', '284', '381'}), frozenset({'284', '272', '275'}), frozenset({'105', '26', '310'}), frozenset({'20', '542', '37'}), frozenset({'271', '303', '267'}), frozenset({'26', '203', '37'}), frozenset({'26', '284', '37'}), frozenset({'246', '310', '243'}), frozenset({'26', '729', '203'}), frozenset({'271', '26', '115'}), frozenset({'271', '277', '267'}), frozenset({'729', '271', '310'}), frozenset({'22', '283', '284'}), frozenset({'338', '542', '735'}), frozenset({'271', '312', '275'}), frozenset({'186', '40', '277'}), frozenset({'246', '529', '267'}), frozenset({'26', '542', '186'}), frozenset({'338', '729', '26'}), frozenset({'486', '283', '275'}), frozenset({'542', '37', '272'}), frozenset({'338', '186', '275'}), frozenset({'486', '26', '284'}), frozenset({'379', '271', '26'}), frozenset({'731', '271', '272'}), frozenset({'3', '186', '37'}), frozenset({'246', '271', '20'}), frozenset({'271', '272', '321'}), frozenset({'277', '16', '267'}), frozenset({'3', '312', '40'}), frozenset({'246', '731', '272'}), frozenset({'320', '283', '267'}), frozenset({'735', '26', '316'}), frozenset({'271', '40', '275'}), frozenset({'246', '186', '284'}), frozenset({'186', '284', '272'}), frozenset({'338', '542', '272'}), frozenset({'26', '729', '316'}), frozenset({'312', '272', '275'}), frozenset({'271', '530', '283'}), frozenset({'338', '26', '16'}), frozenset({'267', '40', '275'}), frozenset({'337', '272', '275'}), frozenset({'186', '310', '275'}), frozenset({'729', '312', '284'}), frozenset({'275', '277', '272'}), frozenset({'312', '729', '186'}), frozenset({'273', '267', '243'}), frozenset({'26', '186', '284'}), frozenset({'338', '271', '321'}), frozenset({'22', '542', '186'}), frozenset({'731', '26', '272'}), frozenset({'3', '40', '267'}), frozenset({'338', '729', '186'}), frozenset({'20', '271', '26'}), frozenset({'319', '731', '26'}), frozenset({'729', '26', '381'}), frozenset({'26', '310', '16'}), frozenset({'731', '273', '267'}), frozenset({'270', '40', '267'}), frozenset({'37', '16', '267'}), frozenset({'529', '26', '267'}), frozenset({'338', '277', '275'}), frozenset({'271', '669', '267'}), frozenset({'273', '312', '310'}), frozenset({'275', '271', '267'}), frozenset({'542', '731', '729'}), frozenset({'203', '40', '310'}), frozenset({'267', '203', '243'}), frozenset({'542', '3', '40'}), frozenset({'729', '284', '272'}), frozenset({'37', '277', '337'}), frozenset({'312', '283', '275'}), frozenset({'40', '272', '275'}), frozenset({'275', '337', '267'}), frozenset({'271', '284', '243'}), frozenset({'271', '203', '243'}), frozenset({'542', '16', '267'}), frozenset({'40', '115', '267'}), frozenset({'285', '284', '267'}), frozenset({'312', '3', '26'}), frozenset({'731', '735', '267'}), frozenset({'542', '267', '238'}), frozenset({'285', '283', '40'}), frozenset({'338', '312', '283'}), frozenset({'320', '271', '735'}), frozenset({'285', '26', '40'}), frozenset({'486', '40', '37'}), frozenset({'338', '40', '337'}), frozenset({'40', '719', '267'}), frozenset({'486', '729', '267'}), frozenset({'729', '146', '267'}), frozenset({'320', '26', '37'}), frozenset({'731', '271', '312'}), frozenset({'338', '312', '277'}), frozenset({'320', '735', '267'}), frozenset({'482', '186', '267'}), frozenset({'186', '26', '381'}), frozenset({'529', '26', '40'}), frozenset({'203', '283', '267'}), frozenset({'267', '310', '243'}), frozenset({'486', '542', '267'}), frozenset({'320', '270', '26'}), frozenset({'22', '271', '273'}), frozenset({'40', '283', '310'}), frozenset({'22', '283', '267'}), frozenset({'20', '26', '320'}), frozenset({'525', '26', '267'}), frozenset({'20', '338', '284'}), frozenset({'271', '527', '26'}), frozenset({'40', '310', '337'}), frozenset({'271', '40', '267'}), frozenset({'22', '271', '310'}), frozenset({'486', '542', '271'}), frozenset({'40', '277', '310'}), frozenset({'22', '271', '283'}), frozenset({'312', '277', '272'}), frozenset({'22', '3', '312'}), frozenset({'22', '731', '267'}), frozenset({'542', '271', '284'}), frozenset({'3', '26', '284'}), frozenset({'338', '186', '310'}), frozenset({'22', '23', '267'}), frozenset({'338', '267', '243'}), frozenset({'320', '271', '267'}), frozenset({'22', '20', '277'}), frozenset({'26', '283', '381'}), frozenset({'20', '186', '40'}), frozenset({'3', '186', '337'}), frozenset({'20', '22', '337'}), frozenset({'731', '735', '310'}), frozenset({'22', '271', '23'}), frozenset({'731', '271', '284'}), frozenset({'186', '284', '337'}), frozenset({'729', '337', '310'}), frozenset({'310', '37', '275'}), frozenset({'246', '271', '186'}), frozenset({'320', '542', '267'}), frozenset({'312', '186', '40'}), frozenset({'316', '37', '275'}), frozenset({'243', '272', '267'}), frozenset({'312', '26', '64'}), frozenset({'320', '542', '271'}), frozenset({'22', '495', '26'}), frozenset({'729', '273', '731'}), frozenset({'379', '272', '267'}), frozenset({'486', '40', '267'}), frozenset({'243', '731', '267'}), frozenset({'20', '283', '310'}), frozenset({'246', '729', '731'}), frozenset({'379', '271', '283'}), frozenset({'338', '337', '272'}), frozenset({'338', '316', '37'}), frozenset({'285', '26', '272'}), frozenset({'731', '271', '243'}), frozenset({'486', '284', '337'}), frozenset({'22', '20', '37'}), frozenset({'271', '482', '267'}), frozenset({'26', '542', '316'}), frozenset({'542', '729', '316'}), frozenset({'319', '338', '26'}), frozenset({'312', '690', '26'}), frozenset({'729', '690', '312'}), frozenset({'20', '337', '310'}), frozenset({'40', '37', '267'}), frozenset({'729', '284', '277'}), frozenset({'37', '272', '337'}), frozenset({'26', '310', '267'}), frozenset({'26', '283', '337'}), frozenset({'285', '271', '20'}), frozenset({'277', '37', '272'}), frozenset({'729', '284', '337'}), frozenset({'271', '203', '267'}), frozenset({'22', '186', '272'}), frozenset({'337', '272', '310'}), frozenset({'186', '277', '37'}), frozenset({'283', '337', '272'}), frozenset({'246', '275', '267'}), frozenset({'595', '26', '267'}), frozenset({'26', '337', '277'}), frozenset({'312', '40', '277'}), frozenset({'243', '729', '275'}), frozenset({'303', '271', '26'}), frozenset({'731', '321', '267'}), frozenset({'20', '40', '267'}), frozenset({'731', '283', '337'}), frozenset({'23', '26', '337'}), frozenset({'338', '26', '275'}), frozenset({'542', '186', '284'}), frozenset({'20', '271', '40'}), frozenset({'338', '26', '267'}), frozenset({'285', '337', '267'}), frozenset({'20', '283', '267'}), frozenset({'275', '271', '16'}), frozenset({'731', '271', '542'}), frozenset({'200', '40', '267'}), frozenset({'312', '272', '243'}), frozenset({'26', '64', '267'}), frozenset({'186', '284', '37'}), frozenset({'22', '594', '271'}), frozenset({'283', '312', '337'}), frozenset({'337', '310', '275'}), frozenset({'186', '272', '267'}), frozenset({'3', '26', '542'}), frozenset({'186', '283', '243'}), frozenset({'26', '272', '267'}), frozenset({'338', '542', '310'}), frozenset({'283', '284', '243'}), frozenset({'319', '310', '267'}), frozenset({'312', '337', '277'}), frozenset({'22', '40', '37'}), frozenset({'26', '40', '277'}), frozenset({'542', '319', '267'}), frozenset({'731', '316', '310'}), frozenset({'731', '283', '284'}), frozenset({'275', '26', '16'}), frozenset({'542', '271', '319'}), frozenset({'20', '40', '310'}), frozenset({'26', '146', '267'}), frozenset({'20', '731', '542'}), frozenset({'20', '312', '272'}), frozenset({'482', '26', '40'}), frozenset({'20', '283', '40'}), frozenset({'22', '312', '37'}), frozenset({'312', '26', '277'}), frozenset({'320', '321', '267'}), frozenset({'271', '186', '337'}), frozenset({'26', '186', '40'}), frozenset({'267', '312', '243'}), frozenset({'246', '26', '243'}), frozenset({'486', '731', '267'}), frozenset({'271', '284', '275'}), frozenset({'64', '337', '267'}), frozenset({'186', '40', '272'}), frozenset({'271', '26', '275'}), frozenset({'20', '338', '186'}), frozenset({'40', '37', '275'}), frozenset({'731', '735', '337'}), frozenset({'26', '381', '272'}), frozenset({'22', '542', '275'}), frozenset({'320', '26', '283'}), frozenset({'338', '316', '277'}), frozenset({'22', '26', '69'}), frozenset({'729', '529', '267'}), frozenset({'320', '275', '267'}), frozenset({'270', '271', '203'}), frozenset({'320', '26', '272'}), frozenset({'729', '303', '267'}), frozenset({'271', '283', '267'}), frozenset({'26', '186', '316'}), frozenset({'22', '26', '37'}), frozenset({'26', '284', '277'}), frozenset({'729', '273', '312'}), frozenset({'729', '186', '284'}), frozenset({'312', '40', '272'}), frozenset({'22', '337', '272'}), frozenset({'22', '40', '267'}), frozenset({'22', '3', '20'}), frozenset({'271', '530', '272'}), frozenset({'26', '283', '284'}), frozenset({'337', '277', '310'}), frozenset({'22', '729', '64'}), frozenset({'22', '729', '243'}), frozenset({'731', '271', '319'}), frozenset({'486', '186', '26'}), frozenset({'731', '40', '275'}), frozenset({'22', '40', '16'}), frozenset({'320', '271', '283'}), frozenset({'310', '16', '267'}), frozenset({'338', '310', '272'}), frozenset({'186', '69', '267'}), frozenset({'320', '310', '267'}), frozenset({'271', '283', '16'}), frozenset({'320', '271', '277'}), frozenset({'271', '310', '16'}), frozenset({'486', '186', '272'}), frozenset({'273', '26', '283'}), frozenset({'271', '283', '238'}), frozenset({'271', '283', '40'}), frozenset({'186', '277', '275'}), frozenset({'186', '40', '243'}), frozenset({'492', '40', '267'}), frozenset({'275', '310', '272'}), frozenset({'312', '40', '275'}), frozenset({'729', '284', '275'}), frozenset({'40', '310', '267'}), frozenset({'273', '203', '267'}), frozenset({'246', '26', '272'}), frozenset({'267', '283', '238'}), frozenset({'312', '272', '267'}), frozenset({'186', '316', '37'}), frozenset({'26', '337', '267'}), frozenset({'271', '319', '272'}), frozenset({'285', '338', '267'}), frozenset({'729', '115', '310'}), frozenset({'312', '40', '267'}), frozenset({'316', '272', '275'}), frozenset({'40', '283', '37'}), frozenset({'338', '271', '310'}), frozenset({'22', '729', '69'}), frozenset({'20', '37', '277'}), frozenset({'542', '40', '272'}), frozenset({'529', '40', '267'}), frozenset({'731', '26', '337'}), frozenset({'486', '729', '283'}), frozenset({'320', '316', '267'}), frozenset({'26', '312', '13'}), frozenset({'312', '272', '16'}), frozenset({'486', '729', '26'}), frozenset({'270', '271', '310'}), frozenset({'338', '272', '275'}), frozenset({'271', '40', '529'}), frozenset({'731', '186', '284'}), frozenset({'20', '40', '275'}), frozenset({'729', '731', '203'}), frozenset({'542', '40', '310'}), frozenset({'542', '337', '310'}), frozenset({'20', '337', '275'}), frozenset({'246', '729', '243'}), frozenset({'283', '277', '275'}), frozenset({'729', '40', '64'}), frozenset({'246', '26', '310'}), frozenset({'20', '3', '40'}), frozenset({'312', '271', '319'}), frozenset({'271', '316', '337'}), frozenset({'338', '731', '37'}), frozenset({'729', '731', '690'}), frozenset({'530', '284', '267'}), frozenset({'20', '542', '283'}), frozenset({'22', '271', '26'}), frozenset({'283', '37', '337'}), frozenset({'312', '319', '267'}), frozenset({'22', '203', '310'}), frozenset({'338', '729', '312'}), frozenset({'486', '729', '271'}), frozenset({'20', '271', '275'}), frozenset({'285', '186', '267'}), frozenset({'338', '271', '284'}), frozenset({'338', '312', '310'}), frozenset({'267', '40', '16'}), frozenset({'20', '267', '275'}), frozenset({'283', '381', '275'}), frozenset({'338', '284', '267'}), frozenset({'26', '284', '272'}), frozenset({'338', '731', '186'}), frozenset({'271', '203', '277'}), frozenset({'527', '26', '267'}), frozenset({'246', '26', '284'}), frozenset({'729', '64', '267'}), frozenset({'729', '26', '37'}), frozenset({'528', '271', '267'}), frozenset({'729', '273', '26'}), frozenset({'20', '267', '486'}), frozenset({'40', '272', '238'}), frozenset({'729', '271', '238'}), frozenset({'246', '186', '243'}), frozenset({'22', '271', '277'}), frozenset({'271', '115', '267'}), frozenset({'312', '271', '530'}), frozenset({'735', '26', '283'}), frozenset({'243', '246', '238'}), frozenset({'271', '284', '310'}), frozenset({'729', '273', '272'}), frozenset({'729', '271', '186'}), frozenset({'271', '115', '275'}), frozenset({'729', '267', '238'}), frozenset({'200', '26', '40'}), frozenset({'22', '277', '267'}), frozenset({'312', '530', '267'}), frozenset({'26', '37', '267'}), frozenset({'271', '719', '267'}), frozenset({'283', '272', '381'}), frozenset({'22', '3', '26'}), frozenset({'20', '283', '284'}), frozenset({'20', '316', '40'}), frozenset({'271', '381', '267'}), frozenset({'338', '186', '283'}), frozenset({'20', '729', '267'}), frozenset({'320', '271', '37'}), frozenset({'285', '283', '284'}), frozenset({'271', '186', '16'}), frozenset({'273', '312', '275'}), frozenset({'338', '529', '272'}), frozenset({'246', '312', '203'}), frozenset({'22', '312', '272'}), frozenset({'729', '317', '26'}), frozenset({'26', '203', '277'}), frozenset({'22', '40', '310'}), frozenset({'26', '316', '284'}), frozenset({'284', '40', '277'}), frozenset({'26', '337', '272'}), frozenset({'271', '319', '267'}), frozenset({'20', '271', '320'}), frozenset({'337', '37', '275'}), frozenset({'735', '277', '267'}), frozenset({'316', '283', '337'}), frozenset({'20', '16', '267'}), frozenset({'542', '40', '267'}), frozenset({'22', '3', '186'}), frozenset({'246', '731', '26'}), frozenset({'542', '26', '284'}), frozenset({'731', '273', '26'}), frozenset({'338', '284', '37'}), frozenset({'272', '16', '267'}), frozenset({'22', '312', '16'}), frozenset({'312', '13', '267'}), frozenset({'20', '283', '337'}), frozenset({'731', '729', '115'}), frozenset({'529', '312', '40'}), frozenset({'3', '337', '310'}), frozenset({'285', '186', '284'}), frozenset({'271', '316', '284'}), frozenset({'271', '267', '243'}), frozenset({'337', '284', '275'}), frozenset({'20', '26', '16'}), frozenset({'729', '284', '37'}), frozenset({'277', '337', '272'}), frozenset({'186', '37', '310'}), frozenset({'338', '529', '267'}), frozenset({'22', '312', '595'}), frozenset({'729', '115', '267'}), frozenset({'731', '271', '321'}), frozenset({'26', '337', '310'}), frozenset({'283', '40', '275'}), frozenset({'312', '40', '310'}), frozenset({'26', '37', '316'}), frozenset({'729', '316', '40'}), frozenset({'22', '542', '20'}), frozenset({'22', '337', '37'}), frozenset({'338', '26', '542'}), frozenset({'22', '729', '312'}), frozenset({'22', '729', '275'}), frozenset({'495', '40', '267'}), frozenset({'271', '312', '64'}), frozenset({'338', '271', '26'}), frozenset({'20', '310', '275'}), frozenset({'186', '381', '267'}), frozenset({'20', '267', '238'}), frozenset({'20', '40', '37'}), frozenset({'275', '16', '267'}), frozenset({'40', '272', '16'}), frozenset({'486', '284', '267'}), frozenset({'271', '40', '69'}), frozenset({'283', '310', '37'}), frozenset({'495', '310', '267'}), frozenset({'271', '26', '272'}), frozenset({'22', '267', '64'}), frozenset({'312', '26', '238'}), frozenset({'271', '312', '273'}), frozenset({'338', '542', '277'}), frozenset({'246', '40', '310'}), frozenset({'320', '338', '729'}), frozenset({'22', '271', '203'}), frozenset({'22', '271', '186'}), frozenset({'273', '312', '267'}), frozenset({'271', '310', '275'}), frozenset({'271', '312', '283'}), frozenset({'26', '37', '272'}), frozenset({'312', '337', '37'}), frozenset({'186', '316', '40'}), frozenset({'731', '729', '316'}), frozenset({'271', '529', '284'}), frozenset({'20', '40', '337'}), frozenset({'486', '271', '310'}), frozenset({'20', '40', '277'}), frozenset({'20', '37', '267'}), frozenset({'271', '529', '275'}), frozenset({'186', '283', '16'}), frozenset({'731', '729', '186'}), frozenset({'22', '20', '267'}), frozenset({'267', '529', '275'}), frozenset({'272', '37', '267'}), frozenset({'312', '203', '267'}), frozenset({'203', '277', '275'}), frozenset({'22', '186', '40'}), frozenset({'20', '337', '486'}), frozenset({'312', '26', '283'}), frozenset({'271', '37', '272'}), frozenset({'486', '338', '271'}), frozenset({'271', '40', '273'}), frozenset({'26', '40', '238'}), frozenset({'275', '312', '243'}), frozenset({'271', '186', '310'}), frozenset({'26', '530', '272'}), frozenset({'338', '316', '272'}), frozenset({'731', '735', '272'}), frozenset({'22', '186', '486'}), frozenset({'26', '381', '337'}), frozenset({'542', '735', '26'}), frozenset({'547', '26', '267'}), frozenset({'26', '338', '186'}), frozenset({'486', '271', '275'}), frozenset({'529', '26', '284'}), frozenset({'729', '731', '272'}), frozenset({'542', '729', '312'}), frozenset({'729', '26', '146'}), frozenset({'482', '271', '26'}), frozenset({'729', '731', '40'}), frozenset({'529', '283', '284'}), frozenset({'186', '284', '381'}), frozenset({'246', '338', '243'}), frozenset({'20', '186', '277'}), frozenset({'486', '283', '272'}), frozenset({'22', '20', '40'}), frozenset({'3', '186', '40'}), frozenset({'20', '186', '337'}), frozenset({'20', '22', '272'}), frozenset({'735', '277', '275'}), frozenset({'530', '272', '267'}), frozenset({'246', '530', '267'}), frozenset({'186', '316', '284'}), frozenset({'246', '312', '186'}), frozenset({'729', '37', '275'}), frozenset({'285', '338', '26'}), frozenset({'186', '26', '310'}), frozenset({'22', '729', '203'}), frozenset({'316', '277', '275'}), frozenset({'320', '731', '267'}), frozenset({'338', '542', '275'}), frozenset({'486', '338', '26'}), frozenset({'271', '26', '243'}), frozenset({'271', '337', '267'}), frozenset({'319', '26', '272'}), frozenset({'20', '22', '186'}), frozenset({'20', '316', '37'}), frozenset({'338', '284', '275'}), frozenset({'40', '284', '381'}), frozenset({'451', '731', '26'}), frozenset({'20', '729', '283'}), frozenset({'320', '277', '267'}), frozenset({'731', '273', '310'}), frozenset({'246', '285', '267'}), frozenset({'731', '271', '26'}), frozenset({'271', '283', '381'}), frozenset({'20', '186', '37'}), frozenset({'338', '337', '310'}), frozenset({'271', '26', '719'}), frozenset({'338', '277', '310'}), frozenset({'20', '312', '40'}), frozenset({'271', '40', '310'}), frozenset({'729', '272', '310'}), frozenset({'26', '283', '37'}), frozenset({'271', '312', '272'}), frozenset({'271', '26', '337'}), frozenset({'319', '272', '267'}), frozenset({'40', '277', '267'}), frozenset({'26', '316', '275'}), frozenset({'731', '729', '321'}), frozenset({'246', '312', '275'}), frozenset({'22', '337', '275'}), frozenset({'273', '26', '277'}), frozenset({'26', '277', '37'}), frozenset({'186', '283', '275'}), frozenset({'246', '26', '40'}), frozenset({'200', '310', '267'}), frozenset({'729', '271', '203'}), frozenset({'26', '337', '37'}), frozenset({'729', '26', '310'}), frozenset({'40', '310', '37'}), frozenset({'20', '26', '275'}), frozenset({'270', '271', '277'}), frozenset({'283', '40', '16'}), frozenset({'338', '312', '275'}), frozenset({'542', '273', '267'}), frozenset({'542', '40', '277'}), frozenset({'312', '272', '238'}), frozenset({'270', '271', '26'}), frozenset({'20', '312', '37'}), frozenset({'320', '284', '267'}), frozenset({'3', '312', '267'}), frozenset({'542', '312', '40'}), frozenset({'542', '271', '273'}), frozenset({'246', '731', '267'}), frozenset({'542', '310', '272'}), frozenset({'271', '530', '284'}), frozenset({'525', '37', '267'}), frozenset({'22', '271', '272'}), frozenset({'22', '26', '267'}), frozenset({'277', '37', '267'}), frozenset({'729', '203', '40'}), frozenset({'731', '542', '310'}), frozenset({'594', '271', '26'}), frozenset({'246', '26', '275'}), frozenset({'312', '283', '310'}), frozenset({'267', '186', '238'}), frozenset({'312', '310', '275'}), frozenset({'312', '449', '267'}), frozenset({'22', '272', '267'}), frozenset({'271', '37', '277'}), frozenset({'729', '316', '277'}), frozenset({'271', '40', '16'}), frozenset({'542', '271', '203'}), frozenset({'20', '312', '26'}), frozenset({'731', '283', '37'}), frozenset({'320', '271', '312'}), frozenset({'338', '542', '731'}), frozenset({'186', '26', '16'}), frozenset({'338', '40', '283'}), frozenset({'320', '312', '267'}), frozenset({'735', '26', '277'}), frozenset({'542', '690', '26'}), frozenset({'26', '312', '316'}), frozenset({'271', '64', '267'}), frozenset({'246', '729', '283'}), frozenset({'271', '272', '275'}), frozenset({'267', '115', '275'}), frozenset({'735', '26', '337'}), frozenset({'271', '26', '37'}), frozenset({'729', '271', '40'}), frozenset({'312', '283', '272'}), frozenset({'246', '40', '243'}), frozenset({'22', '271', '275'}), frozenset({'186', '337', '277'}), frozenset({'285', '40', '284'}), frozenset({'312', '529', '186'}), frozenset({'338', '312', '284'}), frozenset({'320', '312', '26'}), frozenset({'285', '284', '272'}), frozenset({'320', '37', '267'}), frozenset({'186', '16', '267'}), frozenset({'20', '26', '284'}), frozenset({'20', '316', '283'}), frozenset({'729', '542', '272'}), frozenset({'729', '731', '312'}), frozenset({'22', '40', '69'}), frozenset({'542', '186', '267'}), frozenset({'731', '26', '243'}), frozenset({'40', '284', '310'}), frozenset({'22', '26', '316'}), frozenset({'186', '284', '277'}), frozenset({'271', '735', '277'}), frozenset({'729', '277', '310'}), frozenset({'271', '203', '238'}), frozenset({'26', '337', '64'}), frozenset({'22', '283', '40'}), frozenset({'20', '271', '16'}), frozenset({'735', '310', '267'}), frozenset({'22', '186', '310'}), frozenset({'22', '729', '284'}), frozenset({'316', '37', '310'}), frozenset({'20', '3', '186'}), frozenset({'729', '319', '267'}), frozenset({'338', '731', '267'}), frozenset({'246', '284', '267'}), frozenset({'246', '203', '267'}), frozenset({'271', '735', '283'}), frozenset({'451', '26', '267'}), frozenset({'320', '338', '283'}), frozenset({'3', '26', '283'}), frozenset({'26', '338', '203'}), frozenset({'731', '735', '37'}), frozenset({'729', '529', '26'}), frozenset({'22', '26', '13'}), frozenset({'26', '16', '267'}), frozenset({'731', '40', '284'}), frozenset({'3', '26', '277'}), frozenset({'338', '729', '277'}), frozenset({'26', '40', '69'}), frozenset({'731', '271', '283'}), frozenset({'3', '26', '337'}), frozenset({'338', '729', '337'}), frozenset({'285', '729', '26'}), frozenset({'338', '37', '275'}), frozenset({'542', '186', '272'}), frozenset({'312', '26', '37'}), frozenset({'271', '283', '272'}), frozenset({'246', '273', '267'}), frozenset({'186', '316', '275'}), frozenset({'20', '542', '40'}), frozenset({'312', '186', '267'}), frozenset({'316', '37', '272'}), frozenset({'26', '310', '275'}), frozenset({'283', '272', '267'}), frozenset({'246', '271', '273'}), frozenset({'729', '316', '272'}), frozenset({'338', '731', '40'}), frozenset({'40', '277', '275'}), frozenset({'22', '729', '310'}), frozenset({'316', '284', '37'}), frozenset({'338', '731', '272'}), frozenset({'246', '271', '16'}), frozenset({'486', '271', '284'}), frozenset({'271', '26', '69'}), frozenset({'312', '40', '16'}), frozenset({'731', '283', '277'}), frozenset({'40', '69', '267'}), frozenset({'271', '529', '272'}), frozenset({'3', '26', '37'}), frozenset({'312', '69', '267'}), frozenset({'26', '272', '321'}), frozenset({'542', '26', '277'}), frozenset({'338', '337', '275'}), frozenset({'731', '312', '283'}), frozenset({'731', '312', '310'}), frozenset({'729', '690', '275'}), frozenset({'22', '729', '246'}), frozenset({'737', '729', '26'}), frozenset({'729', '271', '316'}), frozenset({'22', '729', '272'}), frozenset({'594', '729', '26'}), frozenset({'275', '310', '267'}), frozenset({'312', '283', '267'}), frozenset({'271', '277', '275'}), frozenset({'338', '731', '316'}), frozenset({'312', '277', '267'}), frozenset({'486', '271', '529'}), frozenset({'22', '284', '275'}), frozenset({'273', '26', '40'}), frozenset({'271', '40', '238'}), frozenset({'529', '40', '272'}), frozenset({'20', '312', '310'}), frozenset({'529', '312', '283'}), frozenset({'731', '186', '272'}), frozenset({'3', '37', '267'}), frozenset({'275', '338', '267'}), frozenset({'20', '284', '267'}), frozenset({'3', '271', '37'}), frozenset({'729', '690', '310'}), frozenset({'486', '338', '267'}), frozenset({'731', '3', '729'}), frozenset({'246', '729', '312'}), frozenset({'320', '338', '272'}), frozenset({'312', '284', '337'}), frozenset({'186', '37', '275'}), frozenset({'316', '40', '37'}), frozenset({'26', '40', '115'}), frozenset({'186', '310', '267'}), frozenset({'312', '26', '337'}), frozenset({'22', '271', '37'}), frozenset({'246', '244', '267'}), frozenset({'22', '246', '243'}), frozenset({'271', '186', '277'}), frozenset({'729', '271', '26'}), frozenset({'22', '37', '267'}), frozenset({'284', '16', '267'}), frozenset({'529', '186', '283'}), frozenset({'338', '283', '284'}), frozenset({'20', '186', '283'}), frozenset({'285', '186', '272'}), frozenset({'22', '338', '312'}), frozenset({'542', '729', '26'}), frozenset({'22', '13', '267'}), frozenset({'20', '26', '316'}), frozenset({'20', '40', '284'}), frozenset({'731', '186', '275'}), frozenset({'486', '26', '40'}), frozenset({'338', '284', '272'}), frozenset({'486', '40', '283'}), frozenset({'486', '338', '40'}), frozenset({'186', '26', '277'}), frozenset({'320', '729', '731'}), frozenset({'316', '310', '275'}), frozenset({'316', '37', '267'}), frozenset({'312', '186', '272'}), frozenset({'729', '277', '275'}), frozenset({'26', '186', '275'}), frozenset({'486', '731', '40'}), frozenset({'729', '273', '267'}), frozenset({'338', '16', '267'}), frozenset({'186', '37', '272'}), frozenset({'729', '312', '275'}), frozenset({'542', '690', '267'}), frozenset({'26', '316', '272'}), frozenset({'312', '316', '267'}), frozenset({'283', '337', '277'}), frozenset({'283', '381', '267'}), frozenset({'729', '690', '40'}), frozenset({'3', '186', '284'}), frozenset({'338', '26', '310'}), frozenset({'3', '729', '310'}), frozenset({'729', '271', '321'}), frozenset({'486', '729', '275'}), frozenset({'270', '271', '267'}), frozenset({'22', '542', '729'}), frozenset({'238', '16', '267'}), frozenset({'542', '284', '272'}), frozenset({'542', '277', '275'}), frozenset({'542', '26', '37'}), frozenset({'542', '729', '37'}), frozenset({'337', '381', '267'}), frozenset({'199', '26', '267'}), frozenset({'542', '337', '275'}), frozenset({'338', '731', '321'}), frozenset({'26', '283', '277'}), frozenset({'22', '283', '37'}), frozenset({'273', '26', '310'}), frozenset({'271', '310', '238'}), frozenset({'26', '37', '310'}), frozenset({'729', '271', '317'}), frozenset({'594', '271', '312'}), frozenset({'283', '310', '272'}), frozenset({'20', '542', '26'}), frozenset({'729', '317', '267'}), frozenset({'731', '529', '267'}), frozenset({'486', '26', '482'}), frozenset({'3', '542', '310'}), frozenset({'22', '40', '246'}), frozenset({'283', '284', '275'}), frozenset({'22', '316', '267'}), frozenset({'729', '186', '275'}), frozenset({'270', '26', '267'}), frozenset({'338', '273', '272'}), frozenset({'20', '272', '267'}), frozenset({'320', '271', '284'}), frozenset({'729', '690', '267'}), frozenset({'486', '271', '186'}), frozenset({'3', '271', '312'}), frozenset({'246', '338', '26'}), frozenset({'542', '37', '275'}), frozenset({'312', '731', '26'}), frozenset({'337', '277', '267'}), frozenset({'312', '283', '277'}), frozenset({'20', '731', '310'}), frozenset({'312', '26', '272'}), frozenset({'271', '283', '37'}), frozenset({'271', '527', '267'}), frozenset({'271', '37', '310'}), frozenset({'26', '272', '275'}), frozenset({'40', '284', '37'}), frozenset({'271', '337', '277'}), frozenset({'273', '277', '275'}), frozenset({'302', '271', '26'}), frozenset({'283', '37', '267'}), frozenset({'525', '271', '267'}), frozenset({'302', '312', '26'}), frozenset({'319', '26', '40'}), frozenset({'271', '203', '284'}), frozenset({'246', '271', '40'}), frozenset({'186', '729', '26'}), frozenset({'731', '729', '37'}), frozenset({'270', '26', '40'}), frozenset({'338', '37', '267'}), frozenset({'542', '271', '310'}), frozenset({'20', '271', '186'}), frozenset({'22', '3', '271'}), frozenset({'69', '26', '310'}), frozenset({'3', '271', '275'}), frozenset({'379', '271', '40'}), frozenset({'338', '271', '37'}), frozenset({'26', '284', '16'}), frozenset({'20', '186', '267'}), frozenset({'22', '3', '267'}), frozenset({'283', '284', '16'}), frozenset({'312', '186', '277'}), frozenset({'729', '272', '275'}), frozenset({'729', '26', '492'}), frozenset({'186', '277', '310'}), frozenset({'284', '37', '275'}), frozenset({'186', '337', '310'}), frozenset({'26', '316', '277'}), frozenset({'186', '283', '310'}), frozenset({'26', '316', '337'}), frozenset({'26', '530', '40'}), frozenset({'486', '338', '283'}), frozenset({'20', '186', '26'}), frozenset({'285', '729', '267'}), frozenset({'731', '729', '277'}), frozenset({'338', '316', '337'}), frozenset({'26', '529', '186'}), frozenset({'26', '381', '40'}), frozenset({'482', '40', '267'}), frozenset({'690', '26', '267'}), frozenset({'729', '283', '542'}), frozenset({'731', '186', '37'}), frozenset({'22', '338', '40'}), frozenset({'338', '186', '337'}), frozenset({'271', '482', '40'}), frozenset({'542', '729', '40'}), frozenset({'285', '186', '26'}), frozenset({'542', '729', '277'}), frozenset({'542', '271', '316'}), frozenset({'271', '690', '312'}), frozenset({'312', '284', '40'}), frozenset({'22', '186', '277'}), frozenset({'283', '284', '238'}), frozenset({'316', '37', '277'}), frozenset({'729', '271', '319'}), frozenset({'246', '271', '284'}), frozenset({'735', '283', '267'}), frozenset({'451', '271', '26'}), frozenset({'729', '37', '310'}), frozenset({'729', '273', '310'}), frozenset({'338', '542', '37'}), frozenset({'186', '272', '275'}), frozenset({'729', '203', '272'}), frozenset({'303', '26', '40'}), frozenset({'20', '26', '486'}), frozenset({'26', '283', '243'}), frozenset({'320', '338', '310'}), frozenset({'246', '729', '40'}), frozenset({'203', '272', '267'}), frozenset({'26', '277', '272'}), frozenset({'40', '284', '337'}), frozenset({'273', '310', '267'}), frozenset({'338', '729', '283'}), frozenset({'3', '26', '310'}), frozenset({'338', '186', '284'}), frozenset({'338', '729', '310'}), frozenset({'22', '271', '69'}), frozenset({'271', '26', '321'}), frozenset({'22', '690', '267'}), frozenset({'320', '319', '267'}), frozenset({'22', '338', '275'}), frozenset({'271', '237', '267'}), frozenset({'22', '3', '37'}), frozenset({'729', '271', '16'}), frozenset({'731', '277', '267'}), frozenset({'338', '26', '337'}), frozenset({'542', '37', '310'}), frozenset({'320', '203', '267'}), frozenset({'338', '312', '40'}), frozenset({'320', '271', '319'}), frozenset({'731', '337', '267'}), frozenset({'3', '283', '337'}), frozenset({'272', '277', '267'}), frozenset({'26', '277', '275'}), frozenset({'451', '729', '271'}), frozenset({'26', '337', '275'}), frozenset({'284', '283', '37'}), frozenset({'271', '277', '272'}), frozenset({'22', '310', '275'}), frozenset({'246', '271', '277'}), frozenset({'451', '729', '267'}), frozenset({'316', '284', '337'}), frozenset({'486', '381', '267'}), frozenset({'246', '729', '267'}), frozenset({'22', '26', '284'}), frozenset({'26', '22', '203'}), frozenset({'731', '283', '272'}), frozenset({'20', '312', '275'}), frozenset({'542', '26', '283'}), frozenset({'3', '271', '283'}), frozenset({'731', '271', '267'}), frozenset({'3', '271', '310'}), frozenset({'20', '729', '186'}), frozenset({'271', '267', '248'}), frozenset({'731', '37', '267'}), frozenset({'26', '337', '13'}), frozenset({'542', '277', '310'}), frozenset({'731', '40', '277'}), frozenset({'3', '283', '267'}), frozenset({'20', '310', '267'}), frozenset({'271', '13', '267'}), frozenset({'542', '26', '272'}), frozenset({'731', '26', '283'}), frozenset({'3', '26', '267'}), frozenset({'731', '40', '337'}), frozenset({'26', '146', '40'}), frozenset({'40', '277', '272'}), frozenset({'40', '284', '275'}), frozenset({'22', '273', '26'}), frozenset({'338', '731', '283'}), frozenset({'271', '312', '277'}), frozenset({'22', '271', '238'}), frozenset({'542', '731', '275'}), frozenset({'275', '283', '267'}), frozenset({'312', '310', '267'}), frozenset({'271', '37', '275'}), frozenset({'595', '312', '267'}), frozenset({'285', '284', '381'}), frozenset({'22', '267', '238'}), frozenset({'20', '338', '275'}), frozenset({'20', '735', '26'}), frozenset({'731', '337', '37'}), frozenset({'26', '13', '267'}), frozenset({'542', '271', '337'}), frozenset({'26', '669', '267'}), frozenset({'283', '13', '267'}), frozenset({'22', '23', '26'}), frozenset({'22', '542', '40'}), frozenset({'284', '310', '337'}), frozenset({'735', '26', '37'}), frozenset({'729', '26', '267'}), frozenset({'729', '312', '272'}), frozenset({'284', '277', '310'}), frozenset({'729', '284', '267'}), frozenset({'267', '186', '275'}), frozenset({'186', '283', '267'}), frozenset({'271', '26', '316'}), frozenset({'486', '529', '40'}), frozenset({'203', '337', '267'}), frozenset({'729', '271', '284'}), frozenset({'40', '284', '272'}), frozenset({'271', '186', '275'}), frozenset({'542', '316', '37'}), frozenset({'22', '529', '312'}), frozenset({'3', '186', '310'}), frozenset({'338', '26', '284'}), frozenset({'729', '271', '69'}), frozenset({'20', '271', '735'}), frozenset({'270', '729', '267'}), frozenset({'338', '284', '277'}), frozenset({'26', '10', '267'}), frozenset({'690', '40', '267'}), frozenset({'542', '186', '37'}), frozenset({'690', '272', '267'}), frozenset({'22', '3', '337'}), frozenset({'22', '542', '267'}), frozenset({'316', '283', '275'}), frozenset({'729', '271', '273'}), frozenset({'271', '735', '37'}), frozenset({'246', '283', '243'}), frozenset({'22', '312', '40'}), frozenset({'22', '26', '337'}), frozenset({'542', '735', '731'}), frozenset({'486', '542', '26'}), frozenset({'320', '270', '267'}), frozenset({'735', '337', '267'}), frozenset({'267', '203', '530'}), frozenset({'729', '337', '37'}), frozenset({'277', '284', '272'}), frozenset({'731', '690', '310'}), frozenset({'186', '277', '272'}), frozenset({'316', '337', '275'}), frozenset({'338', '529', '26'}), frozenset({'40', '284', '267'}), frozenset({'729', '316', '37'}), frozenset({'22', '284', '310'}), frozenset({'271', '337', '16'}), frozenset({'529', '26', '283'}), frozenset({'381', '310', '267'}), frozenset({'271', '257', '267'}), frozenset({'731', '729', '267'}), frozenset({'486', '284', '272'}), frozenset({'20', '729', '337'}), frozenset({'246', '271', '529'}), frozenset({'731', '316', '40'}), frozenset({'267', '15', '16'}), frozenset({'3', '26', '272'}), frozenset({'486', '186', '337'}), frozenset({'271', '26', '267'}), frozenset({'302', '312', '267'}), frozenset({'186', '316', '283'}), frozenset({'729', '267', '243'}), frozenset({'26', '277', '310'}), frozenset({'283', '272', '275'}), frozenset({'40', '337', '267'}), frozenset({'20', '3', '267'}), frozenset({'22', '37', '277'}), frozenset({'20', '731', '40'}), frozenset({'3', '731', '267'}), frozenset({'320', '731', '272'}), frozenset({'284', '310', '275'}), frozenset({'729', '186', '310'}), frozenset({'3', '272', '267'}), frozenset({'20', '729', '284'}), frozenset({'3', '26', '275'}), frozenset({'542', '271', '275'}), frozenset({'20', '37', '272'}), frozenset({'486', '284', '275'}), frozenset({'3', '271', '272'}), frozenset({'200', '542', '26'}), frozenset({'319', '542', '26'}), frozenset({'338', '271', '40'}), frozenset({'20', '26', '267'}), frozenset({'542', '283', '337'}), frozenset({'271', '283', '337'}), frozenset({'271', '26', '40'}), frozenset({'302', '26', '267'}), frozenset({'271', '312', '267'}), frozenset({'271', '337', '310'}), frozenset({'273', '310', '275'}), frozenset({'246', '186', '283'}), frozenset({'271', '283', '277'}), frozenset({'20', '731', '275'}), frozenset({'246', '312', '26'}), frozenset({'200', '271', '26'}), frozenset({'731', '283', '542'}), frozenset({'271', '277', '310'}), frozenset({'20', '338', '37'}), frozenset({'283', '337', '267'}), frozenset({'22', '312', '243'}), frozenset({'246', '312', '272'}), frozenset({'283', '277', '267'}), frozenset({'200', '26', '267'}), frozenset({'312', '186', '284'}), frozenset({'186', '40', '37'}), frozenset({'26', '115', '275'}), frozenset({'271', '40', '272'}), frozenset({'729', '312', '283'}), frozenset({'320', '40', '267'}), frozenset({'338', '735', '729'}), frozenset({'379', '40', '267'}), frozenset({'731', '337', '275'}), frozenset({'271', '40', '381'}), frozenset({'731', '271', '735'}), frozenset({'20', '26', '40'}), frozenset({'316', '272', '267'}), frozenset({'316', '40', '337'}), frozenset({'312', '186', '37'}), frozenset({'246', '729', '275'}), frozenset({'26', '316', '310'}), frozenset({'22', '26', '40'}), frozenset({'735', '272', '275'}), frozenset({'731', '186', '542'}), frozenset({'22', '312', '337'}), frozenset({'22', '26', '272'}), frozenset({'22', '26', '246'}), frozenset({'271', '186', '37'}), frozenset({'735', '272', '267'}), frozenset({'246', '186', '272'}), frozenset({'594', '271', '267'}), frozenset({'312', '284', '275'}), frozenset({'271', '283', '243'}), frozenset({'64', '37', '267'}), frozenset({'486', '312', '283'}), frozenset({'731', '284', '37'}), frozenset({'22', '20', '283'}), frozenset({'271', '26', '499'}), frozenset({'729', '542', '310'}), frozenset({'338', '271', '203'}), frozenset({'20', '284', '272'}), frozenset({'186', '13', '267'}), frozenset({'529', '284', '272'}), frozenset({'338', '735', '267'}), frozenset({'40', '381', '272'}), frozenset({'22', '731', '275'}), frozenset({'486', '312', '40'}), frozenset({'731', '735', '26'}), frozenset({'26', '381', '310'}), frozenset({'271', '186', '40'}), frozenset({'729', '272', '243'}), frozenset({'26', '186', '37'}), frozenset({'312', '284', '272'}), frozenset({'113', '26', '267'}), frozenset({'246', '312', '243'}), frozenset({'729', '312', '37'}), frozenset({'302', '271', '40'}), frozenset({'312', '26', '40'}), frozenset({'267', '735', '275'}), frozenset({'451', '729', '26'}), frozenset({'26', '310', '272'}), frozenset({'271', '495', '267'}), frozenset({'186', '40', '267'}), frozenset({'338', '542', '729'}), frozenset({'243', '267', '238'}), frozenset({'22', '40', '337'}), frozenset({'246', '186', '267'}), frozenset({'312', '37', '267'}), frozenset({'246', '271', '238'}), frozenset({'26', '105', '267'}), frozenset({'20', '338', '283'}), frozenset({'26', '203', '275'}), frozenset({'26', '284', '275'}), frozenset({'20', '26', '310'}), frozenset({'40', '146', '267'}), frozenset({'285', '271', '267'}), frozenset({'338', '319', '272'}), frozenset({'20', '26', '283'}), frozenset({'451', '731', '729'}), frozenset({'486', '283', '284'}), frozenset({'20', '277', '272'}), frozenset({'186', '40', '16'}), frozenset({'542', '729', '275'}), frozenset({'529', '530', '267'}), frozenset({'486', '271', '312'}), frozenset({'271', '40', '146'}), frozenset({'379', '271', '272'}), frozenset({'486', '271', '40'}), frozenset({'486', '26', '37'}), frozenset({'731', '26', '115'}), frozenset({'338', '26', '272'}), frozenset({'379', '283', '267'}), frozenset({'381', '272', '267'}), frozenset({'486', '312', '267'}), frozenset({'731', '312', '275'}), frozenset({'542', '272', '275'}), frozenset({'319', '40', '267'}), frozenset({'246', '277', '267'}), frozenset({'22', '273', '312'}), frozenset({'271', '310', '272'}), frozenset({'495', '26', '267'}), frozenset({'26', '37', '275'}), frozenset({'22', '277', '275'}), frozenset({'246', '271', '310'}), frozenset({'246', '729', '271'}), frozenset({'319', '729', '26'}), frozenset({'246', '283', '267'}), frozenset({'244', '26', '267'}), frozenset({'22', '26', '243'}), frozenset({'271', '272', '273'}), frozenset({'22', '26', '64'}), frozenset({'26', '272', '238'}), frozenset({'729', '337', '272'}), frozenset({'285', '20', '267'}), frozenset({'284', '37', '277'}), frozenset({'271', '26', '283'}), frozenset({'312', '37', '272'}), frozenset({'186', '316', '267'}), frozenset({'731', '40', '283'}), frozenset({'285', '271', '40'}), frozenset({'271', '23', '267'}), frozenset({'20', '337', '267'}), frozenset({'271', '312', '529'}), frozenset({'20', '271', '310'}), frozenset({'338', '37', '277'}), frozenset({'3', '271', '26'}), frozenset({'20', '277', '267'}), frozenset({'529', '283', '267'}), frozenset({'542', '26', '337'}), frozenset({'530', '40', '267'}), frozenset({'338', '731', '310'}), frozenset({'40', '37', '272'}), frozenset({'337', '37', '267'}), frozenset({'729', '735', '337'}), frozenset({'20', '542', '267'}), frozenset({'316', '277', '267'}), frozenset({'26', '40', '275'}), frozenset({'275', '271', '273'}), frozenset({'731', '271', '690'}), frozenset({'20', '338', '271'}), frozenset({'271', '337', '37'}), frozenset({'200', '271', '40'}), frozenset({'542', '731', '267'}), frozenset({'271', '186', '284'}), frozenset({'338', '26', '321'}), frozenset({'37', '277', '310'}), frozenset({'729', '271', '275'}), frozenset({'271', '273', '267'}), frozenset({'267', '26', '238'}), frozenset({'22', '312', '64'}), frozenset({'271', '26', '64'}), frozenset({'246', '283', '272'}), frozenset({'271', '244', '267'}), frozenset({'285', '186', '381'}), frozenset({'22', '271', '243'}), frozenset({'22', '729', '26'}), frozenset({'731', '284', '277'}), frozenset({'320', '26', '275'}), frozenset({'542', '337', '267'}), frozenset({'312', '16', '267'}), frozenset({'731', '284', '337'}), frozenset({'312', '719', '267'}), frozenset({'3', '271', '186'}), frozenset({'271', '499', '267'}), frozenset({'312', '40', '69'}), frozenset({'285', '40', '272'}), frozenset({'338', '186', '267'}), frozenset({'486', '271', '337'}), frozenset({'529', '40', '283'}), frozenset({'22', '283', '277'}), frozenset({'26', '203', '40'}), frozenset({'22', '729', '267'}), frozenset({'530', '40', '272'}), frozenset({'186', '284', '40'}), frozenset({'735', '310', '272'}), frozenset({'22', '283', '337'}), frozenset({'735', '26', '267'}), frozenset({'729', '40', '277'}), frozenset({'22', '449', '267'}), frozenset({'203', '37', '267'}), frozenset({'22', '729', '271'}), frozenset({'22', '312', '310'}), frozenset({'20', '283', '486'}), frozenset({'729', '40', '337'}), frozenset({'731', '690', '26'}), frozenset({'312', '203', '275'}), frozenset({'271', '26', '735'}), frozenset({'284', '272', '238'}), frozenset({'271', '312', '243'}), frozenset({'271', '690', '40'}), frozenset({'22', '20', '26'}), frozenset({'320', '26', '310'}), frozenset({'186', '3', '26'}), frozenset({'338', '284', '310'}), frozenset({'22', '542', '271'}), frozenset({'320', '273', '267'}), frozenset({'486', '186', '284'}), frozenset({'486', '26', '277'}), frozenset({'320', '731', '321'}), frozenset({'529', '186', '272'}), frozenset({'320', '26', '40'}), frozenset({'320', '271', '273'}), frozenset({'243', '529', '267'}), frozenset({'320', '310', '272'}), frozenset({'320', '270', '271'}), frozenset({'271', '310', '267'}), frozenset({'271', '735', '337'}), frozenset({'729', '271', '277'}), frozenset({'283', '284', '272'}), frozenset({'26', '115', '267'}), frozenset({'26', '203', '267'}), frozenset({'731', '26', '321'}), frozenset({'186', '40', '310'}), frozenset({'729', '271', '337'}), frozenset({'186', '272', '310'}), frozenset({'22', '272', '275'}), frozenset({'729', '277', '267'}), frozenset({'22', '542', '3'}), frozenset({'729', '337', '267'}), frozenset({'20', '22', '275'}), frozenset({'246', '731', '243'}), frozenset({'320', '271', '26'}), frozenset({'542', '271', '312'}), frozenset({'731', '319', '267'}), frozenset({'338', '283', '272'}), frozenset({'338', '271', '530'}), frozenset({'486', '277', '275'}), frozenset({'20', '284', '37'}), frozenset({'320', '26', '267'}), frozenset({'379', '26', '267'}), frozenset({'243', '271', '16'}), frozenset({'542', '312', '267'}), frozenset({'731', '272', '267'}), frozenset({'338', '316', '275'}), frozenset({'271', '26', '449'}), frozenset({'22', '37', '310'}), frozenset({'22', '594', '26'}), frozenset({'20', '542', '186'}), frozenset({'114', '26', '267'}), frozenset({'267', '312', '238'}), frozenset({'337', '40', '275'}), frozenset({'729', '186', '283'}), frozenset({'729', '312', '64'}), frozenset({'729', '26', '283'}), frozenset({'26', '186', '203'}), frozenset({'731', '26', '40'}), frozenset({'486', '186', '275'}), frozenset({'338', '527', '26'}), frozenset({'542', '337', '272'}), frozenset({'3', '337', '267'}), frozenset({'271', '267', '16'}), frozenset({'542', '735', '729'}), frozenset({'270', '271', '40'}), frozenset({'338', '310', '275'}), frozenset({'20', '271', '312'}), frozenset({'338', '267', '238'}), frozenset({'270', '271', '272'}), frozenset({'26', '283', '13'}), frozenset({'20', '338', '731'}), frozenset({'3', '271', '337'}), frozenset({'338', '310', '267'}), frozenset({'3', '271', '40'}), frozenset({'731', '337', '272'}), frozenset({'338', '273', '26'}), frozenset({'270', '272', '267'}), frozenset({'338', '26', '37'}), frozenset({'338', '271', '238'}), frozenset({'186', '203', '267'}), frozenset({'271', '337', '275'}), frozenset({'267', '284', '243'}), frozenset({'486', '542', '40'}), frozenset({'271', '319', '275'}), frozenset({'186', '271', '530'}), frozenset({'735', '26', '272'}), frozenset({'283', '310', '267'}), frozenset({'22', '40', '275'}), frozenset({'542', '271', '16'}), frozenset({'271', '284', '238'}), frozenset({'492', '26', '40'}), frozenset({'338', '542', '271'}), frozenset({'186', '271', '203'}), frozenset({'729', '312', '310'}), frozenset({'267', '284', '238'}), frozenset({'26', '37', '16'}), frozenset({'542', '271', '243'}), frozenset({'26', '731', '316'}), frozenset({'731', '316', '337'}), frozenset({'731', '37', '272'}), frozenset({'284', '381', '310'}), frozenset({'542', '271', '272'}), frozenset({'731', '186', '310'}), frozenset({'731', '729', '284'}), frozenset({'542', '186', '40'}), frozenset({'338', '735', '277'}), frozenset({'285', '271', '186'}), frozenset({'731', '186', '283'}), frozenset({'271', '735', '272'}), frozenset({'271', '284', '37'}), frozenset({'40', '277', '337'}), frozenset({'283', '284', '267'}), frozenset({'246', '729', '310'}), frozenset({'275', '203', '267'}), frozenset({'312', '272', '310'}), frozenset({'284', '37', '267'}), frozenset({'271', '283', '284'}), frozenset({'271', '203', '283'}), frozenset({'26', '492', '267'}), frozenset({'40', '272', '243'}), frozenset({'271', '203', '275'}), frozenset({'486', '529', '26'}), frozenset({'22', '312', '275'}), frozenset({'542', '3', '729'}), frozenset({'20', '271', '486'}), frozenset({'22', '186', '284'}), frozenset({'20', '22', '310'}), frozenset({'338', '271', '243'}), frozenset({'22', '3', '283'}), frozenset({'486', '312', '26'}), frozenset({'338', '271', '735'}), frozenset({'731', '735', '277'}), frozenset({'731', '729', '337'}), frozenset({'731', '284', '267'}), frozenset({'22', '731', '271'}), frozenset({'338', '729', '37'}), frozenset({'22', '542', '37'}), frozenset({'338', '735', '37'}), frozenset({'20', '186', '272'}), frozenset({'22', '729', '690'}), frozenset({'338', '186', '277'}), frozenset({'283', '37', '275'}), frozenset({'246', '271', '243'}), frozenset({'271', '272', '243'}), frozenset({'246', '267', '238'}), frozenset({'26', '283', '272'}), frozenset({'271', '312', '37'}), frozenset({'271', '26', '530'}), frozenset({'271', '316', '735'}), frozenset({'203', '40', '275'}), frozenset({'22', '186', '337'}), frozenset({'312', '40', '64'}), frozenset({'316', '337', '37'}), frozenset({'542', '731', '312'}), frozenset({'20', '338', '316'}), frozenset({'243', '26', '275'}), frozenset({'284', '272', '37'}), frozenset({'312', '186', '26'}), frozenset({'729', '337', '277'}), frozenset({'530', '26', '267'}), frozenset({'271', '449', '267'}), frozenset({'316', '337', '310'}), frozenset({'22', '277', '272'}), frozenset({'542', '729', '284'}), frozenset({'22', '283', '486'}), frozenset({'338', '26', '243'}), frozenset({'271', '381', '272'}), frozenset({'20', '337', '277'}), frozenset({'486', '729', '186'}), frozenset({'20', '284', '275'}), frozenset({'542', '284', '310'}), frozenset({'542', '271', '40'}), frozenset({'320', '729', '267'}), frozenset({'338', '186', '37'}), frozenset({'246', '271', '283'}), frozenset({'273', '272', '267'}), frozenset({'338', '731', '26'}), frozenset({'20', '338', '272'}), frozenset({'303', '26', '267'}), frozenset({'26', '283', '267'}), frozenset({'246', '272', '238'}), frozenset({'186', '271', '316'}), frozenset({'246', '312', '283'}), frozenset({'316', '284', '267'}), frozenset({'271', '40', '37'}), frozenset({'271', '317', '267'}), frozenset({'486', '186', '482'}), frozenset({'271', '26', '310'}), frozenset({'271', '15', '267'}), frozenset({'729', '271', '115'}), frozenset({'273', '40', '310'}), frozenset({'26', '277', '267'}), frozenset({'273', '312', '272'}), frozenset({'338', '37', '272'}), frozenset({'246', '338', '272'}), frozenset({'320', '271', '186'}), frozenset({'22', '729', '3'}), frozenset({'20', '337', '37'}), frozenset({'20', '271', '283'}), frozenset({'320', '729', '26'}), frozenset({'22', '690', '26'}), frozenset({'271', '186', '381'}), frozenset({'338', '312', '267'}), frozenset({'271', '199', '267'}), frozenset({'729', '283', '381'}), frozenset({'338', '283', '37'}), frozenset({'731', '690', '267'}), frozenset({'338', '731', '275'}), frozenset({'271', '186', '272'}), frozenset({'271', '26', '238'}), frozenset({'26', '186', '267'}), frozenset({'271', '316', '283'}), frozenset({'312', '337', '310'}), frozenset({'337', '283', '275'}), frozenset({'271', '319', '310'}), frozenset({'26', '40', '310'}), frozenset({'20', '542', '337'}), frozenset({'246', '272', '310'}), frozenset({'729', '26', '115'}), frozenset({'246', '312', '40'}), frozenset({'729', '271', '735'}), frozenset({'26', '312', '243'}), frozenset({'731', '271', '16'}), frozenset({'271', '37', '267'}), frozenset({'22', '594', '267'}), frozenset({'3', '271', '284'}), frozenset({'486', '337', '267'}), frozenset({'338', '316', '267'}), frozenset({'542', '312', '275'}), frozenset({'731', '272', '275'}), frozenset({'486', '271', '26'}), frozenset({'312', '338', '26'}), frozenset({'3', '284', '267'}), frozenset({'338', '312', '337'}), frozenset({'731', '527', '26'}), frozenset({'338', '26', '40'}), frozenset({'731', '26', '284'}), frozenset({'320', '277', '275'}), frozenset({'486', '271', '272'}), frozenset({'22', '40', '486'}), frozenset({'486', '26', '267'}), frozenset({'729', '690', '243'}), frozenset({'486', '283', '267'}), frozenset({'22', '271', '267'}), frozenset({'729', '40', '310'}), frozenset({'275', '284', '267'}), frozenset({'338', '690', '26'}), frozenset({'26', '40', '64'}), frozenset({'26', '186', '272'}), frozenset({'320', '542', '26'}), frozenset({'312', '271', '203'}), frozenset({'22', '272', '246'}), frozenset({'320', '271', '321'}), frozenset({'186', '337', '267'}), frozenset({'312', '26', '310'}), frozenset({'316', '272', '310'}), frozenset({'22', '337', '277'}), frozenset({'729', '26', '275'}), frozenset({'273', '186', '267'}), frozenset({'271', '529', '203'}), frozenset({'729', '271', '529'}), frozenset({'486', '26', '283'}), frozenset({'20', '271', '203'}), frozenset({'486', '40', '337'}), frozenset({'338', '729', '275'}), frozenset({'22', '16', '267'}), frozenset({'270', '203', '267'}), frozenset({'3', '283', '284'}), frozenset({'529', '203', '267'}), frozenset({'542', '729', '337'}), frozenset({'20', '203', '267'}), frozenset({'338', '284', '337'}), frozenset({'285', '26', '284'}), frozenset({'486', '275', '267'}), frozenset({'338', '316', '283'}), frozenset({'529', '186', '40'}), frozenset({'338', '316', '310'}), frozenset({'482', '26', '267'}), frozenset({'283', '277', '310'}), frozenset({'729', '283', '267'}), frozenset({'200', '26', '310'}), frozenset({'22', '271', '40'}), frozenset({'729', '310', '267'}), frozenset({'275', '312', '267'}), frozenset({'729', '271', '283'}), frozenset({'26', '186', '283'}), frozenset({'271', '316', '267'}), frozenset({'312', '26', '284'}), frozenset({'22', '729', '186'}), frozenset({'26', '284', '310'}), frozenset({'338', '277', '272'}), frozenset({'338', '530', '267'}), frozenset({'246', '20', '267'}), frozenset({'729', '312', '69'}), frozenset({'312', '26', '69'}), frozenset({'272', '321', '267'}), frozenset({'320', '271', '310'}), frozenset({'243', '16', '267'}), frozenset({'246', '267', '254'}), frozenset({'338', '729', '272'}), frozenset({'20', '729', '277'}), frozenset({'22', '542', '272'}), frozenset({'22', '731', '312'}), frozenset({'542', '186', '337'}), frozenset({'312', '273', '26'}), frozenset({'271', '312', '238'}), frozenset({'729', '283', '272'}), frozenset({'22', '729', '37'}), frozenset({'20', '3', '337'}), frozenset({'273', '271', '243'}), frozenset({'338', '321', '267'}), frozenset({'316', '283', '284'}), frozenset({'729', '495', '26'}), frozenset({'312', '337', '40'}), frozenset({'26', '186', '243'}), frozenset({'486', '529', '186'}), frozenset({'40', '283', '267'}), frozenset({'246', '271', '267'}), frozenset({'731', '312', '40'}), frozenset({'731', '271', '273'}), frozenset({'338', '277', '267'}), frozenset({'542', '337', '277'}), frozenset({'271', '37', '16'}), frozenset({'486', '729', '312'}), frozenset({'271', '26', '529'}), frozenset({'338', '283', '275'}), frozenset({'271', '26', '107'}), frozenset({'338', '271', '277'}), frozenset({'20', '37', '310'}), frozenset({'271', '381', '284'}), frozenset({'320', '271', '316'}), frozenset({'338', '542', '267'}), frozenset({'729', '186', '272'}), frozenset({'271', '449', '275'}), frozenset({'729', '186', '40'}), frozenset({'310', '277', '275'}), frozenset({'22', '284', '267'}), frozenset({'729', '312', '277'}), frozenset({'267', '449', '275'}), frozenset({'20', '731', '337'}), frozenset({'283', '310', '275'}), frozenset({'22', '271', '284'}), frozenset({'26', '40', '337'}), frozenset({'729', '735', '275'}), frozenset({'186', '284', '275'}), frozenset({'594', '26', '267'}), frozenset({'312', '529', '26'}), frozenset({'22', '731', '272'}), frozenset({'731', '186', '337'}), frozenset({'731', '312', '267'}), frozenset({'542', '272', '267'}), frozenset({'22', '542', '312'}), frozenset({'271', '267', '107'}), frozenset({'284', '381', '337'}), frozenset({'338', '735', '310'}), frozenset({'26', '381', '284'}), frozenset({'20', '729', '40'}), frozenset({'283', '381', '284'}), frozenset({'542', '203', '267'}), frozenset({'529', '312', '272'}), frozenset({'271', '284', '277'}), frozenset({'271', '26', '492'}), frozenset({'729', '735', '272'}), frozenset({'22', '37', '275'}), frozenset({'729', '186', '267'}), frozenset({'22', '310', '267'}), frozenset({'542', '731', '26'}), frozenset({'284', '277', '267'}), frozenset({'729', '40', '37'}), frozenset({'203', '277', '267'}), frozenset({'186', '272', '238'}), frozenset({'312', '186', '283'}), frozenset({'729', '115', '275'}), frozenset({'200', '729', '267'}), frozenset({'729', '271', '64'}), frozenset({'271', '203', '310'}), frozenset({'312', '203', '310'}), frozenset({'542', '271', '3'}), frozenset({'20', '729', '271'}), frozenset({'22', '312', '69'}), frozenset({'312', '338', '186'}), frozenset({'285', '186', '40'}), frozenset({'729', '26', '16'}), frozenset({'338', '26', '316'}), frozenset({'486', '271', '37'}), frozenset({'731', '271', '115'}), frozenset({'338', '40', '284'}), frozenset({'26', '284', '337'}), frozenset({'312', '594', '26'}), frozenset({'338', '731', '735'}), frozenset({'729', '283', '337'}), frozenset({'594', '40', '267'}), frozenset({'22', '283', '272'}), frozenset({'20', '40', '486'}), frozenset({'338', '731', '729'}), frozenset({'22', '272', '310'}), frozenset({'200', '729', '26'}), frozenset({'486', '186', '381'}), frozenset({'316', '337', '277'}), frozenset({'729', '271', '312'}), frozenset({'302', '729', '26'}), frozenset({'26', '203', '283'}), frozenset({'283', '186', '284'}), frozenset({'26', '203', '310'}), frozenset({'22', '40', '277'}), frozenset({'729', '449', '267'}), frozenset({'542', '186', '310'}), frozenset({'20', '186', '275'}), frozenset({'320', '729', '271'}), frozenset({'338', '729', '243'}), frozenset({'542', '186', '283'}), frozenset({'542', '283', '284'}), frozenset({'285', '283', '272'}), frozenset({'542', '729', '186'}), frozenset({'542', '283', '37'}), frozenset({'731', '40', '37'}), frozenset({'20', '316', '275'}), frozenset({'320', '273', '26'}), frozenset({'271', '23', '26'}), frozenset({'319', '26', '310'}), frozenset({'186', '283', '37'}), frozenset({'22', '203', '40'}), frozenset({'246', '271', '275'}), frozenset({'271', '26', '277'}), frozenset({'246', '186', '40'}), frozenset({'338', '271', '529'}), frozenset({'26', '283', '275'}), frozenset({'20', '338', '26'}), frozenset({'22', '729', '283'}), frozenset({'312', '271', '186'}), frozenset({'731', '26', '16'}), frozenset({'338', '271', '312'}), frozenset({'26', '272', '16'}), frozenset({'285', '312', '267'}), frozenset({'338', '272', '267'}), frozenset({'731', '337', '277'}), frozenset({'729', '735', '731'}), frozenset({'26', '40', '13'}), frozenset({'20', '271', '238'}), frozenset({'20', '26', '37'}), frozenset({'20', '277', '275'}), frozenset({'338', '271', '272'}), frozenset({'312', '37', '310'}), frozenset({'729', '735', '267'}), frozenset({'731', '16', '267'}), frozenset({'729', '26', '40'}), frozenset({'22', '203', '267'}), frozenset({'22', '186', '267'}), frozenset({'271', '284', '272'}), frozenset({'729', '40', '284'}), frozenset({'542', '270', '267'}), frozenset({'449', '310', '267'}), frozenset({'729', '316', '267'}), frozenset({'283', '37', '277'}), frozenset({'271', '26', '284'}), frozenset({'22', '271', '64'}), frozenset({'284', '272', '267'}), frozenset({'729', '690', '272'}), frozenset({'20', '312', '283'}), frozenset({'486', '272', '267'}), frozenset({'486', '312', '275'}), frozenset({'271', '26', '146'}), frozenset({'22', '23', '337'}), frozenset({'20', '271', '22'}), frozenset({'3', '729', '312'}), frozenset({'486', '271', '283'}), frozenset({'338', '40', '272'}), frozenset({'529', '284', '267'}), frozenset({'338', '735', '272'}), frozenset({'3', '729', '40'}), frozenset({'731', '316', '272'}), frozenset({'486', '310', '267'}), frozenset({'22', '731', '310'}), frozenset({'486', '271', '277'}), frozenset({'20', '271', '37'}), frozenset({'20', '338', '40'}), frozenset({'486', '731', '271'}), frozenset({'316', '337', '272'}), frozenset({'22', '277', '310'}), frozenset({'729', '40', '275'}), frozenset({'275', '26', '267'}), frozenset({'22', '40', '64'}), frozenset({'22', '337', '310'}), frozenset({'542', '731', '272'}), frozenset({'486', '3', '26'}), frozenset({'312', '729', '203'}), frozenset({'310', '105', '267'}), frozenset({'284', '283', '310'}), frozenset({'271', '310', '64'}), frozenset({'316', '40', '310'}), frozenset({'20', '186', '310'}), frozenset({'729', '271', '3'}), frozenset({'729', '26', '13'}), frozenset({'320', '271', '275'}), frozenset({'20', '316', '337'}), frozenset({'338', '735', '275'}), frozenset({'267', '254', '238'}), frozenset({'338', '186', '40'}), frozenset({'271', '284', '16'}), frozenset({'3', '729', '267'}), frozenset({'529', '40', '284'}), frozenset({'22', '338', '337'}), frozenset({'338', '186', '272'}), frozenset({'729', '731', '26'}), frozenset({'486', '40', '310'}), frozenset({'22', '337', '284'}), frozenset({'246', '271', '26'}), frozenset({'22', '729', '594'}), frozenset({'26', '310', '64'}), frozenset({'271', '161', '267'}), frozenset({'246', '26', '267'}), frozenset({'283', '272', '238'}), frozenset({'271', '316', '37'}), frozenset({'486', '186', '310'}), frozenset({'20', '337', '272'}), frozenset({'338', '337', '277'}), frozenset({'486', '186', '283'}), frozenset({'246', '283', '381'}), frozenset({'283', '16', '267'}), frozenset({'529', '186', '284'}), frozenset({'26', '719', '267'}), frozenset({'285', '26', '337'}), frozenset({'20', '186', '284'}), frozenset({'20', '729', '310'}), frozenset({'338', '271', '267'}), frozenset({'271', '690', '275'}), frozenset({'729', '321', '267'}), frozenset({'20', '26', '337'}), frozenset({'731', '735', '275'}), frozenset({'246', '270', '267'}), frozenset({'285', '20', '283'}), frozenset({'271', '312', '40'}), frozenset({'302', '26', '40'}), frozenset({'729', '26', '277'}), frozenset({'729', '203', '267'}), frozenset({'40', '37', '277'}), frozenset({'200', '271', '310'}), frozenset({'451', '271', '267'}), frozenset({'271', '40', '277'}), frozenset({'284', '37', '337'}), frozenset({'267', '310', '238'}), frozenset({'729', '277', '272'}), frozenset({'273', '310', '272'}), frozenset({'303', '729', '26'}), frozenset({'338', '529', '283'}), frozenset({'594', '312', '267'}), frozenset({'267', '26', '107'}), frozenset({'270', '310', '267'}), frozenset({'338', '337', '37'}), frozenset({'338', '271', '283'}), frozenset({'20', '338', '542'}), frozenset({'284', '381', '267'}), frozenset({'542', '277', '272'}), frozenset({'20', '729', '22'}), frozenset({'20', '283', '37'}), frozenset({'381', '284', '275'}), frozenset({'338', '283', '267'}), frozenset({'270', '271', '312'}), frozenset({'729', '271', '690'}), frozenset({'486', '186', '267'}), frozenset({'542', '283', '272'}), frozenset({'285', '271', '283'}), frozenset({'731', '40', '272'}), frozenset({'542', '283', '40'}), frozenset({'312', '277', '275'}), frozenset({'316', '337', '267'}), frozenset({'338', '337', '542'}), frozenset({'271', '186', '238'}), frozenset({'312', '337', '275'}), frozenset({'729', '316', '310'}), frozenset({'22', '284', '37'}), frozenset({'20', '731', '283'}), frozenset({'20', '542', '310'}), frozenset({'729', '26', '284'}), frozenset({'312', '22', '203'}), frozenset({'37', '310', '267'}), frozenset({'731', '542', '277'}), frozenset({'3', '40', '337'}), frozenset({'729', '26', '69'}), frozenset({'338', '735', '283'}), frozenset({'338', '735', '26'}), frozenset({'246', '729', '542'}), frozenset({'338', '40', '310'}), frozenset({'338', '312', '272'}), frozenset({'26', '310', '107'}), frozenset({'22', '731', '26'}), frozenset({'731', '26', '275'}), frozenset({'486', '186', '40'}), frozenset({'22', '529', '267'}), frozenset({'729', '13', '267'}), frozenset({'542', '283', '267'}), frozenset({'271', '186', '267'}), frozenset({'26', '283', '316'}), frozenset({'203', '310', '267'}), frozenset({'284', '310', '267'}), frozenset({'22', '267', '275'}), frozenset({'302', '729', '267'}), frozenset({'542', '3', '267'}), frozenset({'267', '272', '275'}), frozenset({'735', '26', '310'}), frozenset({'312', '729', '26'}), frozenset({'302', '729', '271'}), frozenset({'729', '40', '267'}), frozenset({'316', '40', '275'}), frozenset({'312', '283', '284'}), frozenset({'22', '3', '310'}), frozenset({'275', '381', '267'}), frozenset({'486', '37', '267'}), frozenset({'731', '115', '267'}), frozenset({'20', '337', '284'}), frozenset({'731', '729', '283'}), frozenset({'285', '186', '283'}), frozenset({'20', '316', '310'}), frozenset({'20', '284', '277'}), frozenset({'731', '316', '37'}), frozenset({'246', '729', '338'}), frozenset({'320', '26', '337'}), frozenset({'729', '312', '267'}), frozenset({'283', '40', '284'}), frozenset({'20', '320', '267'}), frozenset({'338', '731', '271'}), frozenset({'186', '26', '337'}), frozenset({'729', '271', '267'}), frozenset({'20', '186', '486'}), frozenset({'26', '310', '243'}), frozenset({'22', '186', '283'}), frozenset({'729', '283', '310'}), frozenset({'238', '203', '267'}), frozenset({'20', '338', '310'}), frozenset({'271', '277', '273'}), frozenset({'186', '284', '310'}), frozenset({'271', '735', '310'}), frozenset({'317', '26', '267'}), frozenset({'267', '316', '275'}), frozenset({'271', '272', '16'}), frozenset({'22', '731', '40'}), frozenset({'542', '26', '275'}), frozenset({'731', '283', '267'}), frozenset({'23', '26', '267'}), frozenset({'542', '271', '735'}), frozenset({'20', '729', '272'}), frozenset({'731', '271', '310'}), frozenset({'270', '729', '26'}), frozenset({'22', '69', '267'}), frozenset({'729', '271', '381'}), frozenset({'271', '26', '16'}), frozenset({'542', '735', '267'}), frozenset({'312', '731', '186'}), frozenset({'22', '542', '337'}), frozenset({'22', '729', '337'}), frozenset({'729', '312', '40'}), frozenset({'115', '310', '267'}), frozenset({'40', '310', '275'}), frozenset({'283', '312', '40'}), frozenset({'22', '729', '277'}), frozenset({'40', '449', '267'}), frozenset({'729', '186', '37'}), frozenset({'26', '272', '243'}), frozenset({'312', '64', '267'}), frozenset({'271', '26', '273'}), frozenset({'20', '3', '283'}), frozenset({'271', '312', '284'}), frozenset({'115', '271', '310'}), frozenset({'729', '283', '243'}), frozenset({'246', '40', '284'}), frozenset({'273', '26', '267'}), frozenset({'271', '267', '238'}), frozenset({'26', '284', '243'}), frozenset({'525', '26', '37'}), frozenset({'529', '272', '267'}), frozenset({'542', '26', '310'}), frozenset({'271', '312', '69'}), frozenset({'731', '337', '310'}), frozenset({'20', '283', '275'}), frozenset({'542', '40', '337'}), frozenset({'542', '283', '310'}), frozenset({'3', '40', '37'}), frozenset({'338', '729', '284'}), frozenset({'731', '312', '277'}), frozenset({'729', '542', '243'}), frozenset({'26', '40', '16'}), frozenset({'338', '40', '275'}), frozenset({'542', '271', '267'}), frozenset({'731', '277', '272'}), frozenset({'285', '272', '267'}), frozenset({'312', '26', '16'}), frozenset({'338', '271', '319'}), frozenset({'246', '16', '267'}), frozenset({'26', '69', '267'}), frozenset({'542', '26', '40'}), frozenset({'731', '26', '310'}), frozenset({'20', '729', '316'}), frozenset({'271', '321', '267'}), frozenset({'3', '310', '267'}), frozenset({'270', '271', '542'}), frozenset({'731', '283', '310'}), frozenset({'312', '203', '272'}), frozenset({'26', '284', '267'}), frozenset({'22', '729', '40'}), frozenset({'530', '283', '284'}), frozenset({'26', '283', '40'}), frozenset({'729', '735', '37'}), frozenset({'731', '529', '26'}), frozenset({'267', '40', '238'}), frozenset({'729', '316', '337'}), frozenset({'22', '312', '284'}), frozenset({'729', '40', '272'}), frozenset({'275', '277', '267'}), frozenset({'271', '690', '267'}), frozenset({'338', '271', '275'}), frozenset({'20', '271', '284'}), frozenset({'22', '312', '486'}), frozenset({'731', '284', '272'}), frozenset({'542', '271', '26'}), frozenset({'486', '277', '267'}), frozenset({'22', '267', '285'}), frozenset({'690', '26', '310'}), frozenset({'338', '735', '337'}), frozenset({'26', '316', '320'}), frozenset({'731', '310', '275'}), frozenset({'542', '26', '267'}), frozenset({'26', '381', '275'}), frozenset({'731', '283', '275'}), frozenset({'246', '271', '312'}), frozenset({'273', '40', '267'}), frozenset({'486', '731', '729'}), frozenset({'283', '337', '284'}), frozenset({'542', '26', '16'}), frozenset({'26', '40', '243'}), frozenset({'312', '186', '337'}), frozenset({'22', '542', '731'}), frozenset({'64', '310', '267'}), frozenset({'486', '283', '381'}), frozenset({'246', '186', '26'}), frozenset({'284', '283', '277'}), frozenset({'338', '731', '284'}), frozenset({'246', '312', '267'})}\n"
     ]
    }
   ],
   "source": [
    "print(len(L3))\n",
    "print(L3)"
   ]
  },
  {
   "cell_type": "code",
   "execution_count": 26,
   "metadata": {},
   "outputs": [],
   "source": [
    "C4 = create_Ck(L3, 4)"
   ]
  },
  {
   "cell_type": "code",
   "execution_count": 28,
   "metadata": {},
   "outputs": [
    {
     "name": "stdout",
     "output_type": "stream",
     "text": [
      "6589\n"
     ]
    }
   ],
   "source": [
    "print(len(C4))"
   ]
  },
  {
   "cell_type": "code",
   "execution_count": 29,
   "metadata": {},
   "outputs": [],
   "source": [
    "L4, support_data4 = generate_Lk_by_Ck(inte_list, C4, 0.01, {})"
   ]
  },
  {
   "cell_type": "code",
   "execution_count": 31,
   "metadata": {},
   "outputs": [
    {
     "name": "stdout",
     "output_type": "stream",
     "text": [
      "4090\n"
     ]
    }
   ],
   "source": [
    "print(len(L4))"
   ]
  },
  {
   "cell_type": "code",
   "execution_count": 32,
   "metadata": {},
   "outputs": [],
   "source": [
    "C5 = create_Ck(L4, 5)"
   ]
  },
  {
   "cell_type": "code",
   "execution_count": 33,
   "metadata": {},
   "outputs": [
    {
     "name": "stdout",
     "output_type": "stream",
     "text": [
      "4317\n"
     ]
    }
   ],
   "source": [
    "print(len(C5))"
   ]
  },
  {
   "cell_type": "code",
   "execution_count": 34,
   "metadata": {},
   "outputs": [],
   "source": [
    "L5, support_data5 = generate_Lk_by_Ck(inte_list, C5, 0.01, {})"
   ]
  },
  {
   "cell_type": "code",
   "execution_count": 37,
   "metadata": {},
   "outputs": [
    {
     "name": "stdout",
     "output_type": "stream",
     "text": [
      "3374\n"
     ]
    }
   ],
   "source": [
    "print(len(L5))"
   ]
  },
  {
   "cell_type": "code",
   "execution_count": 38,
   "metadata": {},
   "outputs": [],
   "source": [
    "C6 = create_Ck(L5, 6)"
   ]
  },
  {
   "cell_type": "code",
   "execution_count": 40,
   "metadata": {},
   "outputs": [
    {
     "name": "stdout",
     "output_type": "stream",
     "text": [
      "1468\n"
     ]
    }
   ],
   "source": [
    "print(len(C6))"
   ]
  },
  {
   "cell_type": "code",
   "execution_count": 42,
   "metadata": {},
   "outputs": [
    {
     "name": "stdout",
     "output_type": "stream",
     "text": [
      "1233\n"
     ]
    }
   ],
   "source": [
    "L6, support_data6 = generate_Lk_by_Ck(inte_list, C6, 0.01, {})\n",
    "print(len(L6))"
   ]
  },
  {
   "cell_type": "code",
   "execution_count": 82,
   "metadata": {},
   "outputs": [],
   "source": [
    "C7 = create_Ck(L6, 7)"
   ]
  },
  {
   "cell_type": "code",
   "execution_count": 83,
   "metadata": {},
   "outputs": [
    {
     "name": "stdout",
     "output_type": "stream",
     "text": [
      "148\n"
     ]
    }
   ],
   "source": [
    "L7, support_data7 = generate_Lk_by_Ck(inte_list, C7, 0.01, {})\n",
    "print(len(L7))"
   ]
  },
  {
   "cell_type": "code",
   "execution_count": 84,
   "metadata": {},
   "outputs": [],
   "source": [
    "C8 = create_Ck(L7, 8)"
   ]
  },
  {
   "cell_type": "code",
   "execution_count": 85,
   "metadata": {},
   "outputs": [
    {
     "name": "stdout",
     "output_type": "stream",
     "text": [
      "1\n"
     ]
    }
   ],
   "source": [
    "L8, support_data8 = generate_Lk_by_Ck(inte_list, C8, 0.01, {})\n",
    "print(len(L8))"
   ]
  },
  {
   "cell_type": "code",
   "execution_count": 86,
   "metadata": {},
   "outputs": [
    {
     "name": "stdout",
     "output_type": "stream",
     "text": [
      "{frozenset({'731', '271', '26', '272', '338', '267', '729', '283'})}\n"
     ]
    }
   ],
   "source": [
    "print(L8)"
   ]
  },
  {
   "cell_type": "code",
   "execution_count": 36,
   "metadata": {},
   "outputs": [],
   "source": [
    "def generate_big_rules(L, support_data, min_conf):\n",
    "    big_rule_list = []\n",
    "    sub_set_list = []\n",
    "    for i in range(0, len(L)):\n",
    "        for freq_set in L[i]:\n",
    "            for sub_set in sub_set_list:\n",
    "                if sub_set.issubset(freq_set):\n",
    "                    conf = support_data[freq_set] / support_data[freq_set - sub_set]\n",
    "                    big_rule = (freq_set - sub_set, sub_set, conf)\n",
    "                    if conf >= min_conf and big_rule not in big_rule_list:\n",
    "#                         print freq_set-sub_set, \" => \", sub_set, \"conf: \", conf\n",
    "                        big_rule_list.append(big_rule)\n",
    "            sub_set_list.append(freq_set)\n",
    "    return big_rule_list"
   ]
  },
  {
   "cell_type": "code",
   "execution_count": 87,
   "metadata": {},
   "outputs": [],
   "source": [
    "l = []\n",
    "l.append(L1)\n",
    "l.append(L2)\n",
    "l.append(L3)\n",
    "l.append(L4)\n",
    "l.append(L5)\n",
    "l.append(L6)\n",
    "l.append(L7)\n",
    "l.append(L8)"
   ]
  },
  {
   "cell_type": "code",
   "execution_count": 88,
   "metadata": {},
   "outputs": [],
   "source": [
    "s = {}\n",
    "s.update(support_data1)\n",
    "s.update(support_data2)\n",
    "s.update(support_data3)\n",
    "s.update(support_data4)\n",
    "s.update(support_data5)\n",
    "s.update(support_data6)\n",
    "s.update(support_data7)\n",
    "s.update(support_data8)"
   ]
  },
  {
   "cell_type": "code",
   "execution_count": 89,
   "metadata": {},
   "outputs": [
    {
     "name": "stdout",
     "output_type": "stream",
     "text": [
      "12389\n"
     ]
    }
   ],
   "source": [
    "print(len(s))"
   ]
  },
  {
   "cell_type": "code",
   "execution_count": 54,
   "metadata": {},
   "outputs": [],
   "source": [
    "big_rule_list = generate_big_rules(l, s, 0.7)"
   ]
  },
  {
   "cell_type": "code",
   "execution_count": 56,
   "metadata": {},
   "outputs": [
    {
     "name": "stdout",
     "output_type": "stream",
     "text": [
      "7725\n"
     ]
    }
   ],
   "source": [
    "print(len(big_rule_list))"
   ]
  },
  {
   "cell_type": "code",
   "execution_count": 90,
   "metadata": {},
   "outputs": [],
   "source": [
    "big_rule_list2 = generate_big_rules(l, s, 0.8)"
   ]
  },
  {
   "cell_type": "code",
   "execution_count": 91,
   "metadata": {},
   "outputs": [
    {
     "name": "stdout",
     "output_type": "stream",
     "text": [
      "18678\n"
     ]
    }
   ],
   "source": [
    "print(len(big_rule_list2))"
   ]
  },
  {
   "cell_type": "code",
   "execution_count": 75,
   "metadata": {},
   "outputs": [
    {
     "name": "stdout",
     "output_type": "stream",
     "text": [
      "[(frozenset({'690'}), frozenset({'729'}), 0.82286866359447), (frozenset({'735'}), frozenset({'26'}), 0.8035378246142265), (frozenset({'530'}), frozenset({'267'}), 0.8191534843950407), (frozenset({'16'}), frozenset({'267'}), 0.8040019762845849), (frozenset({'382'}), frozenset({'267'}), 0.8278344331133773), (frozenset({'317'}), frozenset({'267'}), 0.8858817445268057), (frozenset({'257'}), frozenset({'267'}), 0.8870447210696173), (frozenset({'312'}), frozenset({'267'}), 0.8438053470523741), (frozenset({'285'}), frozenset({'267'}), 0.8326891220320265), (frozenset({'719'}), frozenset({'267'}), 0.8029482551143202), (frozenset({'492'}), frozenset({'26'}), 0.8162162162162162), (frozenset({'272'}), frozenset({'267'}), 0.8278508518458587), (frozenset({'529'}), frozenset({'267'}), 0.8539219401288368), (frozenset({'10'}), frozenset({'267'}), 0.8018638573743924), (frozenset({'595'}), frozenset({'267'}), 0.8815068493150686), (frozenset({'451'}), frozenset({'26'}), 0.8388238916256158), (frozenset({'15'}), frozenset({'267'}), 0.8153078202995009), (frozenset({'737'}), frozenset({'729'}), 0.8518673940411247), (frozenset({'729', '735'}), frozenset({'26'}), 0.9306484217073551), (frozenset({'285', '381'}), frozenset({'283'}), 0.83671875), (frozenset({'186', '277'}), frozenset({'267'}), 0.8023694130317717), (frozenset({'690', '310'}), frozenset({'267'}), 0.8531831961888263), (frozenset({'690', '275'}), frozenset({'26'}), 0.9089563286454478), (frozenset({'729', '69'}), frozenset({'267'}), 0.8549648946840522), (frozenset({'486', '272'}), frozenset({'26'}), 0.8049242424242424), (frozenset({'20', '735'}), frozenset({'267'}), 0.8561827956989247), (frozenset({'317', '272'}), frozenset({'267'}), 0.9650297619047619), (frozenset({'729', '272'}), frozenset({'26'}), 0.885251721934247), (frozenset({'530', '238'}), frozenset({'267'}), 0.9083678014635698), (frozenset({'26', '243'}), frozenset({'267'}), 0.8945866687802172), (frozenset({'312', '316'}), frozenset({'271'}), 0.8113839285714286), (frozenset({'320', '338'}), frozenset({'271'}), 0.8663047166610113), (frozenset({'64', '275'}), frozenset({'26'}), 0.8944497153700189), (frozenset({'338', '690'}), frozenset({'267'}), 0.8741379310344827), (frozenset({'246', '22'}), frozenset({'267'}), 0.9250683158348915), (frozenset({'731', '267'}), frozenset({'26'}), 0.8537365637263267), (frozenset({'690', '275'}), frozenset({'267'}), 0.8647915124599063), (frozenset({'338', '283'}), frozenset({'26'}), 0.8907333090113099), (frozenset({'285', '337'}), frozenset({'283'}), 0.8714198659354052), (frozenset({'337', '16'}), frozenset({'267'}), 0.883495145631068), (frozenset({'3', '271'}), frozenset({'267'}), 0.882372654155496), (frozenset({'320', '272'}), frozenset({'271'}), 0.8953390543496551), (frozenset({'338', '277'}), frozenset({'26'}), 0.8754947822957898), (frozenset({'285', '381'}), frozenset({'267'}), 0.8783854166666666), (frozenset({'26', '319'}), frozenset({'271'}), 0.8357387293557508), (frozenset({'337', '272'}), frozenset({'267'}), 0.9022346368715084), (frozenset({'486', '482'}), frozenset({'40'}), 0.813869625520111), (frozenset({'186', '64'}), frozenset({'26'}), 0.840349236046149), (frozenset({'312', '275'}), frozenset({'26'}), 0.8523905048478769), (frozenset({'283', '310'}), frozenset({'26'}), 0.8566416040100251), (frozenset({'337', '272'}), frozenset({'271'}), 0.8511405959031658), (frozenset({'26', '319'}), frozenset({'267'}), 0.8467489956851659), (frozenset({'22', '302'}), frozenset({'26'}), 0.9019805303793219), (frozenset({'270', '312'}), frozenset({'267'}), 0.9102425876010782), (frozenset({'529', '275'}), frozenset({'26'}), 0.8414135514018691), (frozenset({'22', '381'}), frozenset({'267'}), 0.9014407334643091), (frozenset({'285', '283'}), frozenset({'267'}), 0.8664787976382179), (frozenset({'338', '337'}), frozenset({'267'}), 0.8148512901319678), (frozenset({'285', '26'}), frozenset({'267'}), 0.8954876273653566), (frozenset({'542', '275'}), frozenset({'267'}), 0.8682449181953396), (frozenset({'186', '243'}), frozenset({'267'}), 0.8753208654198753), (frozenset({'186', '64'}), frozenset({'267'}), 0.8640473963205488), (frozenset({'203', '284'}), frozenset({'267'}), 0.8919325707405178), (frozenset({'312', '337'}), frozenset({'267'}), 0.9250667791367918), (frozenset({'26', '40'}), frozenset({'267'}), 0.8463211871649444), (frozenset({'337', '310'}), frozenset({'267'}), 0.8299676898222941), (frozenset({'271', '492'}), frozenset({'267'}), 0.9203514739229025), (frozenset({'729', '64'}), frozenset({'26'}), 0.8720295439948619), (frozenset({'22', '338'}), frozenset({'271'}), 0.8402366863905325), (frozenset({'542', '283'}), frozenset({'271'}), 0.8206928124523118), (frozenset({'22', '338'}), frozenset({'267'}), 0.9156804733727811), (frozenset({'320', '40'}), frozenset({'271'}), 0.8388250319284802), (frozenset({'20', '64'}), frozenset({'267'}), 0.8916549789621319), (frozenset({'3', '275'}), frozenset({'267'}), 0.8617399023524192), (frozenset({'40', '381'}), frozenset({'267'}), 0.8887618425351193), (frozenset({'275', '243'}), frozenset({'267'}), 0.898876404494382), (frozenset({'316', '272'}), frozenset({'271'}), 0.8515232674924674), (frozenset({'337', '284'}), frozenset({'267'}), 0.8232864588455108), (frozenset({'317', '312'}), frozenset({'267'}), 0.9660664819944599), (frozenset({'20', '64'}), frozenset({'26'}), 0.888499298737728), (frozenset({'729', '321'}), frozenset({'26'}), 0.8362419316280182), (frozenset({'337', '381'}), frozenset({'283'}), 0.8009996875976257), (frozenset({'22', '338'}), frozenset({'26'}), 0.8970044378698224), (frozenset({'542', '316'}), frozenset({'267'}), 0.8121827411167513), (frozenset({'690', '312'}), frozenset({'267'}), 0.9270563890325918), (frozenset({'379', '271'}), frozenset({'267'}), 0.8257849031396125), (frozenset({'379', '267'}), frozenset({'271'}), 0.8794820717131474), (frozenset({'271', '690'}), frozenset({'26'}), 0.8421199442119944), (frozenset({'273', '277'}), frozenset({'267'}), 0.8105187319884727), (frozenset({'203', '272'}), frozenset({'271'}), 0.8743861872326946), (frozenset({'317', '26'}), frozenset({'271'}), 0.8165293262239458), (frozenset({'22', '310'}), frozenset({'26'}), 0.8351575699698817), (frozenset({'246', '272'}), frozenset({'271'}), 0.8338138193992374), (frozenset({'273', '283'}), frozenset({'267'}), 0.9011557177615572), (frozenset({'203', '40'}), frozenset({'267'}), 0.8285067334048386), (frozenset({'22', '542'}), frozenset({'26'}), 0.8571126834935052), (frozenset({'26', '381'}), frozenset({'267'}), 0.8744912695286858), (frozenset({'729', '381'}), frozenset({'267'}), 0.8642284569138275), (frozenset({'271', '254'}), frozenset({'267'}), 0.9074464877901718), (frozenset({'690', '40'}), frozenset({'26'}), 0.8927587070909547)]\n"
     ]
    }
   ],
   "source": [
    "print(big_rule_list2[0:100])"
   ]
  },
  {
   "cell_type": "code",
   "execution_count": 70,
   "metadata": {},
   "outputs": [
    {
     "name": "stdout",
     "output_type": "stream",
     "text": [
      "['690']\n"
     ]
    }
   ],
   "source": [
    "print(list(big_rule_list2[0][0]))"
   ]
  },
  {
   "cell_type": "code",
   "execution_count": 92,
   "metadata": {},
   "outputs": [],
   "source": [
    "result = []\n",
    "for each in big_rule_list2:\n",
    "    rule = []\n",
    "    rule.append(list(each[0]))\n",
    "    rule.append(list(each[1]))\n",
    "    rule.append(each[2])\n",
    "    result.append(rule)"
   ]
  },
  {
   "cell_type": "code",
   "execution_count": 93,
   "metadata": {},
   "outputs": [
    {
     "data": {
      "text/html": [
       "<div>\n",
       "<style scoped>\n",
       "    .dataframe tbody tr th:only-of-type {\n",
       "        vertical-align: middle;\n",
       "    }\n",
       "\n",
       "    .dataframe tbody tr th {\n",
       "        vertical-align: top;\n",
       "    }\n",
       "\n",
       "    .dataframe thead th {\n",
       "        text-align: right;\n",
       "    }\n",
       "</style>\n",
       "<table border=\"1\" class=\"dataframe\">\n",
       "  <thead>\n",
       "    <tr style=\"text-align: right;\">\n",
       "      <th></th>\n",
       "      <th>0</th>\n",
       "      <th>1</th>\n",
       "      <th>2</th>\n",
       "    </tr>\n",
       "  </thead>\n",
       "  <tbody>\n",
       "    <tr>\n",
       "      <th>0</th>\n",
       "      <td>[690]</td>\n",
       "      <td>[729]</td>\n",
       "      <td>0.822869</td>\n",
       "    </tr>\n",
       "    <tr>\n",
       "      <th>1</th>\n",
       "      <td>[735]</td>\n",
       "      <td>[26]</td>\n",
       "      <td>0.803538</td>\n",
       "    </tr>\n",
       "    <tr>\n",
       "      <th>2</th>\n",
       "      <td>[530]</td>\n",
       "      <td>[267]</td>\n",
       "      <td>0.819153</td>\n",
       "    </tr>\n",
       "    <tr>\n",
       "      <th>3</th>\n",
       "      <td>[16]</td>\n",
       "      <td>[267]</td>\n",
       "      <td>0.804002</td>\n",
       "    </tr>\n",
       "    <tr>\n",
       "      <th>4</th>\n",
       "      <td>[382]</td>\n",
       "      <td>[267]</td>\n",
       "      <td>0.827834</td>\n",
       "    </tr>\n",
       "  </tbody>\n",
       "</table>\n",
       "</div>"
      ],
      "text/plain": [
       "       0      1         2\n",
       "0  [690]  [729]  0.822869\n",
       "1  [735]   [26]  0.803538\n",
       "2  [530]  [267]  0.819153\n",
       "3   [16]  [267]  0.804002\n",
       "4  [382]  [267]  0.827834"
      ]
     },
     "execution_count": 93,
     "metadata": {},
     "output_type": "execute_result"
    }
   ],
   "source": [
    "result = pd.DataFrame(result)\n",
    "result.head()"
   ]
  },
  {
   "cell_type": "code",
   "execution_count": 94,
   "metadata": {},
   "outputs": [],
   "source": [
    "output = result.to_csv('interest_rules.csv',index=False)"
   ]
  },
  {
   "cell_type": "code",
   "execution_count": 73,
   "metadata": {},
   "outputs": [],
   "source": [
    "output = pd.DataFrame(big_rule_list2)"
   ]
  },
  {
   "cell_type": "code",
   "execution_count": 74,
   "metadata": {},
   "outputs": [
    {
     "data": {
      "text/html": [
       "<div>\n",
       "<style scoped>\n",
       "    .dataframe tbody tr th:only-of-type {\n",
       "        vertical-align: middle;\n",
       "    }\n",
       "\n",
       "    .dataframe tbody tr th {\n",
       "        vertical-align: top;\n",
       "    }\n",
       "\n",
       "    .dataframe thead th {\n",
       "        text-align: right;\n",
       "    }\n",
       "</style>\n",
       "<table border=\"1\" class=\"dataframe\">\n",
       "  <thead>\n",
       "    <tr style=\"text-align: right;\">\n",
       "      <th></th>\n",
       "      <th>0</th>\n",
       "      <th>1</th>\n",
       "      <th>2</th>\n",
       "    </tr>\n",
       "  </thead>\n",
       "  <tbody>\n",
       "    <tr>\n",
       "      <th>0</th>\n",
       "      <td>(690)</td>\n",
       "      <td>(729)</td>\n",
       "      <td>0.822869</td>\n",
       "    </tr>\n",
       "    <tr>\n",
       "      <th>1</th>\n",
       "      <td>(735)</td>\n",
       "      <td>(26)</td>\n",
       "      <td>0.803538</td>\n",
       "    </tr>\n",
       "    <tr>\n",
       "      <th>2</th>\n",
       "      <td>(530)</td>\n",
       "      <td>(267)</td>\n",
       "      <td>0.819153</td>\n",
       "    </tr>\n",
       "    <tr>\n",
       "      <th>3</th>\n",
       "      <td>(16)</td>\n",
       "      <td>(267)</td>\n",
       "      <td>0.804002</td>\n",
       "    </tr>\n",
       "    <tr>\n",
       "      <th>4</th>\n",
       "      <td>(382)</td>\n",
       "      <td>(267)</td>\n",
       "      <td>0.827834</td>\n",
       "    </tr>\n",
       "  </tbody>\n",
       "</table>\n",
       "</div>"
      ],
      "text/plain": [
       "       0      1         2\n",
       "0  (690)  (729)  0.822869\n",
       "1  (735)   (26)  0.803538\n",
       "2  (530)  (267)  0.819153\n",
       "3   (16)  (267)  0.804002\n",
       "4  (382)  (267)  0.827834"
      ]
     },
     "execution_count": 74,
     "metadata": {},
     "output_type": "execute_result"
    }
   ],
   "source": [
    "output.head()"
   ]
  },
  {
   "cell_type": "code",
   "execution_count": null,
   "metadata": {},
   "outputs": [],
   "source": []
  }
 ],
 "metadata": {
  "kernelspec": {
   "display_name": "Python 3",
   "language": "python",
   "name": "python3"
  },
  "language_info": {
   "codemirror_mode": {
    "name": "ipython",
    "version": 3
   },
   "file_extension": ".py",
   "mimetype": "text/x-python",
   "name": "python",
   "nbconvert_exporter": "python",
   "pygments_lexer": "ipython3",
   "version": "3.7.0"
  }
 },
 "nbformat": 4,
 "nbformat_minor": 2
}
